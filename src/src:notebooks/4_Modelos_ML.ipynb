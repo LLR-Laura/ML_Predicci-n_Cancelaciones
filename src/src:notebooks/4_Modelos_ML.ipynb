{
 "cells": [
  {
   "cell_type": "markdown",
   "metadata": {},
   "source": [
    "# 4. Modelos de ML\n",
    "\n",
    "### Clasificación binaria\n",
    "\n",
    "Datos sin correlación lineal con el target.\n",
    "\n",
    "| **Modelos ML Seleccionados** |\n",
    "| :---|\n",
    "| Random Forest |\n",
    "| Support Vector Machine |\n",
    "| Bagging Random Forest |\n",
    "| Gradient Boosting Classifier |\n",
    "| XGBoost |\n"
   ]
  },
  {
   "cell_type": "markdown",
   "metadata": {},
   "source": [
    "----"
   ]
  },
  {
   "cell_type": "markdown",
   "metadata": {},
   "source": [
    "| **Métricas Seleccionadas**|\n",
    "| :---: |\n"
   ]
  },
  {
   "cell_type": "markdown",
   "metadata": {},
   "source": [
    "| **Accuracy**|\n",
    "| :---|\n",
    "|Accuracy = (TP + TN) / Total|\n",
    "\n",
    "- Rango de 0 a 1.\n",
    "\n",
    "- Calcula el % de acierto teniendo en cuenta todas las clases del algoritmo de clasificación."
   ]
  },
  {
   "cell_type": "markdown",
   "metadata": {},
   "source": [
    "| **Precisión** |\n",
    "| :---|\n",
    "| TP / (TP + FP) |\n",
    "\n",
    "- El rango de precisión va de 0 a 1.\n",
    "\n",
    "- De los que ha predicho como 1, cuántos ha acertado. Minimiza los falsos positivos (FP).\n",
    "\n",
    "- Nos interesa predecir bien los 1 (Cancela), ya que penaliza más al hotel decir que no cancela (0) y que al final cancela: la habitación se queda libre. En el caso de que predigamos que cancele, pero al final no cancele, el hotel no se queda con una habitación libre."
   ]
  },
  {
   "cell_type": "markdown",
   "metadata": {},
   "source": [
    "| **F1-Score** |\n",
    "| :---|\n",
    "| 2 * Precision * Recall / (Precision + Recall) |\n",
    "\n",
    "- El rango de F1-score va de 0 a 1.\n",
    "\n",
    "- Combinación de las métricas Precision y Recall. \n",
    "\n",
    "- Se utiliza para comparar clasificadores. "
   ]
  },
  {
   "cell_type": "markdown",
   "metadata": {},
   "source": [
    "| **AUC** |\n",
    "| :---|\n",
    "\n",
    "- Área bajo la 'Roc Curve'\n",
    "\n",
    "- Cuanto más cercano a 1, mejor será el clasificador. Si la curva es una línea recta estaremos ante un clasificador muy malo, que no sería muy diferente a un clasificador aleatorio."
   ]
  },
  {
   "cell_type": "markdown",
   "metadata": {},
   "source": [
    "---"
   ]
  },
  {
   "cell_type": "code",
   "execution_count": 1,
   "metadata": {},
   "outputs": [],
   "source": [
    "# FUNCIÓN PARA IMPRIMIR POR PANTALLA LAS MÉTRICAS EN TEST Y TRAIN\n",
    "\n",
    "def metricas_print(prediccion, y):\n",
    "\n",
    "    print(\"Accuracy\", accuracy_score(y, prediccion))\n",
    "    print(\"Precision\", precision_score(y, prediccion))\n",
    "    print(\"F1\", f1_score(y, prediccion))\n",
    "    print(\"AUC\", roc_auc_score(y, prediccion))"
   ]
  },
  {
   "cell_type": "markdown",
   "metadata": {},
   "source": [
    "---"
   ]
  },
  {
   "cell_type": "markdown",
   "metadata": {},
   "source": [
    "| **Librerías**|\n",
    "| :---: |"
   ]
  },
  {
   "cell_type": "code",
   "execution_count": 2,
   "metadata": {},
   "outputs": [],
   "source": [
    "import numpy as np\n",
    "import pandas as pd\n",
    "import plotly.graph_objects as go\n",
    "import pickle\n",
    "pd.options.display.max_columns = 36\n",
    "np.random.seed(42) \n",
    "\n",
    "from sklearn.feature_selection import SelectFromModel \n",
    "\n",
    "from sklearn.svm import SVC \n",
    "from sklearn.ensemble import BaggingClassifier          \n",
    "from sklearn.ensemble import RandomForestClassifier  \n",
    "from sklearn.ensemble import GradientBoostingClassifier \n",
    "from xgboost import XGBClassifier\n",
    "\n",
    "from sklearn.pipeline import Pipeline\n",
    "from sklearn.preprocessing import StandardScaler\n",
    "from sklearn.model_selection import GridSearchCV\n",
    "from sklearn import model_selection   \n",
    "from sklearn.metrics import accuracy_score, f1_score, precision_score, roc_auc_score"
   ]
  },
  {
   "cell_type": "markdown",
   "metadata": {},
   "source": [
    "----"
   ]
  },
  {
   "cell_type": "markdown",
   "metadata": {},
   "source": [
    "| **Datos**|\n",
    "| :---: |"
   ]
  },
  {
   "cell_type": "code",
   "execution_count": 3,
   "metadata": {},
   "outputs": [
    {
     "name": "stdout",
     "output_type": "stream",
     "text": [
      "(59404, 33)\n"
     ]
    },
    {
     "data": {
      "text/html": [
       "<div>\n",
       "<style scoped>\n",
       "    .dataframe tbody tr th:only-of-type {\n",
       "        vertical-align: middle;\n",
       "    }\n",
       "\n",
       "    .dataframe tbody tr th {\n",
       "        vertical-align: top;\n",
       "    }\n",
       "\n",
       "    .dataframe thead th {\n",
       "        text-align: right;\n",
       "    }\n",
       "</style>\n",
       "<table border=\"1\" class=\"dataframe\">\n",
       "  <thead>\n",
       "    <tr style=\"text-align: right;\">\n",
       "      <th></th>\n",
       "      <th>lead_time</th>\n",
       "      <th>arrival_date_month</th>\n",
       "      <th>arrival_date_day_of_month</th>\n",
       "      <th>stays_in_weekend_nights</th>\n",
       "      <th>stays_in_week_nights</th>\n",
       "      <th>adults</th>\n",
       "      <th>children</th>\n",
       "      <th>babies</th>\n",
       "      <th>country</th>\n",
       "      <th>is_repeated_guest</th>\n",
       "      <th>previous_cancellations</th>\n",
       "      <th>previous_bookings_not_canceled</th>\n",
       "      <th>assigned_room_type</th>\n",
       "      <th>booking_changes</th>\n",
       "      <th>days_in_waiting_list</th>\n",
       "      <th>adr</th>\n",
       "      <th>required_car_parking_spaces</th>\n",
       "      <th>total_of_special_requests</th>\n",
       "      <th>meal_FB</th>\n",
       "      <th>meal_HB</th>\n",
       "      <th>meal_SC</th>\n",
       "      <th>customer_Group</th>\n",
       "      <th>customer_Transient</th>\n",
       "      <th>customer_Transient-Party</th>\n",
       "      <th>market_segment_Complementary</th>\n",
       "      <th>market_segment_Corporate</th>\n",
       "      <th>market_segment_Direct</th>\n",
       "      <th>market_segment_Groups</th>\n",
       "      <th>market_segment_Offline TA/TO</th>\n",
       "      <th>market_segment_Online TA</th>\n",
       "      <th>distribution_channel_Direct</th>\n",
       "      <th>distribution_channel_GDS</th>\n",
       "      <th>distribution_channel_TA/TO</th>\n",
       "    </tr>\n",
       "  </thead>\n",
       "  <tbody>\n",
       "    <tr>\n",
       "      <th>32205</th>\n",
       "      <td>464</td>\n",
       "      <td>7</td>\n",
       "      <td>25</td>\n",
       "      <td>0</td>\n",
       "      <td>1</td>\n",
       "      <td>2</td>\n",
       "      <td>0</td>\n",
       "      <td>0</td>\n",
       "      <td>0.990232</td>\n",
       "      <td>0</td>\n",
       "      <td>0</td>\n",
       "      <td>0</td>\n",
       "      <td>0.221831</td>\n",
       "      <td>0</td>\n",
       "      <td>0</td>\n",
       "      <td>90.0</td>\n",
       "      <td>0</td>\n",
       "      <td>0</td>\n",
       "      <td>0</td>\n",
       "      <td>0</td>\n",
       "      <td>0</td>\n",
       "      <td>0</td>\n",
       "      <td>1</td>\n",
       "      <td>0</td>\n",
       "      <td>0</td>\n",
       "      <td>0</td>\n",
       "      <td>0</td>\n",
       "      <td>0</td>\n",
       "      <td>1</td>\n",
       "      <td>0</td>\n",
       "      <td>0</td>\n",
       "      <td>0</td>\n",
       "      <td>1</td>\n",
       "    </tr>\n",
       "    <tr>\n",
       "      <th>18699</th>\n",
       "      <td>34</td>\n",
       "      <td>10</td>\n",
       "      <td>15</td>\n",
       "      <td>2</td>\n",
       "      <td>3</td>\n",
       "      <td>2</td>\n",
       "      <td>0</td>\n",
       "      <td>0</td>\n",
       "      <td>-1.065651</td>\n",
       "      <td>0</td>\n",
       "      <td>0</td>\n",
       "      <td>0</td>\n",
       "      <td>-0.597884</td>\n",
       "      <td>0</td>\n",
       "      <td>0</td>\n",
       "      <td>166.8</td>\n",
       "      <td>0</td>\n",
       "      <td>2</td>\n",
       "      <td>0</td>\n",
       "      <td>0</td>\n",
       "      <td>0</td>\n",
       "      <td>0</td>\n",
       "      <td>1</td>\n",
       "      <td>0</td>\n",
       "      <td>0</td>\n",
       "      <td>0</td>\n",
       "      <td>0</td>\n",
       "      <td>0</td>\n",
       "      <td>0</td>\n",
       "      <td>1</td>\n",
       "      <td>0</td>\n",
       "      <td>0</td>\n",
       "      <td>1</td>\n",
       "    </tr>\n",
       "    <tr>\n",
       "      <th>53232</th>\n",
       "      <td>130</td>\n",
       "      <td>7</td>\n",
       "      <td>17</td>\n",
       "      <td>2</td>\n",
       "      <td>1</td>\n",
       "      <td>2</td>\n",
       "      <td>0</td>\n",
       "      <td>0</td>\n",
       "      <td>-0.416522</td>\n",
       "      <td>0</td>\n",
       "      <td>0</td>\n",
       "      <td>0</td>\n",
       "      <td>0.221831</td>\n",
       "      <td>0</td>\n",
       "      <td>0</td>\n",
       "      <td>105.3</td>\n",
       "      <td>0</td>\n",
       "      <td>0</td>\n",
       "      <td>0</td>\n",
       "      <td>0</td>\n",
       "      <td>0</td>\n",
       "      <td>0</td>\n",
       "      <td>1</td>\n",
       "      <td>0</td>\n",
       "      <td>0</td>\n",
       "      <td>0</td>\n",
       "      <td>0</td>\n",
       "      <td>0</td>\n",
       "      <td>0</td>\n",
       "      <td>1</td>\n",
       "      <td>0</td>\n",
       "      <td>0</td>\n",
       "      <td>1</td>\n",
       "    </tr>\n",
       "    <tr>\n",
       "      <th>77553</th>\n",
       "      <td>242</td>\n",
       "      <td>8</td>\n",
       "      <td>5</td>\n",
       "      <td>1</td>\n",
       "      <td>1</td>\n",
       "      <td>2</td>\n",
       "      <td>2</td>\n",
       "      <td>0</td>\n",
       "      <td>-0.565356</td>\n",
       "      <td>0</td>\n",
       "      <td>0</td>\n",
       "      <td>0</td>\n",
       "      <td>-0.218601</td>\n",
       "      <td>0</td>\n",
       "      <td>0</td>\n",
       "      <td>202.5</td>\n",
       "      <td>0</td>\n",
       "      <td>0</td>\n",
       "      <td>0</td>\n",
       "      <td>0</td>\n",
       "      <td>0</td>\n",
       "      <td>0</td>\n",
       "      <td>1</td>\n",
       "      <td>0</td>\n",
       "      <td>0</td>\n",
       "      <td>0</td>\n",
       "      <td>0</td>\n",
       "      <td>0</td>\n",
       "      <td>0</td>\n",
       "      <td>1</td>\n",
       "      <td>0</td>\n",
       "      <td>0</td>\n",
       "      <td>1</td>\n",
       "    </tr>\n",
       "    <tr>\n",
       "      <th>28820</th>\n",
       "      <td>30</td>\n",
       "      <td>5</td>\n",
       "      <td>22</td>\n",
       "      <td>1</td>\n",
       "      <td>1</td>\n",
       "      <td>1</td>\n",
       "      <td>0</td>\n",
       "      <td>0</td>\n",
       "      <td>0.990232</td>\n",
       "      <td>0</td>\n",
       "      <td>0</td>\n",
       "      <td>0</td>\n",
       "      <td>0.221831</td>\n",
       "      <td>0</td>\n",
       "      <td>0</td>\n",
       "      <td>144.0</td>\n",
       "      <td>0</td>\n",
       "      <td>0</td>\n",
       "      <td>0</td>\n",
       "      <td>0</td>\n",
       "      <td>0</td>\n",
       "      <td>0</td>\n",
       "      <td>0</td>\n",
       "      <td>1</td>\n",
       "      <td>0</td>\n",
       "      <td>0</td>\n",
       "      <td>1</td>\n",
       "      <td>0</td>\n",
       "      <td>0</td>\n",
       "      <td>0</td>\n",
       "      <td>1</td>\n",
       "      <td>0</td>\n",
       "      <td>0</td>\n",
       "    </tr>\n",
       "  </tbody>\n",
       "</table>\n",
       "</div>"
      ],
      "text/plain": [
       "       lead_time  arrival_date_month  arrival_date_day_of_month  \\\n",
       "32205        464                   7                         25   \n",
       "18699         34                  10                         15   \n",
       "53232        130                   7                         17   \n",
       "77553        242                   8                          5   \n",
       "28820         30                   5                         22   \n",
       "\n",
       "       stays_in_weekend_nights  stays_in_week_nights  adults  children  \\\n",
       "32205                        0                     1       2         0   \n",
       "18699                        2                     3       2         0   \n",
       "53232                        2                     1       2         0   \n",
       "77553                        1                     1       2         2   \n",
       "28820                        1                     1       1         0   \n",
       "\n",
       "       babies   country  is_repeated_guest  previous_cancellations  \\\n",
       "32205       0  0.990232                  0                       0   \n",
       "18699       0 -1.065651                  0                       0   \n",
       "53232       0 -0.416522                  0                       0   \n",
       "77553       0 -0.565356                  0                       0   \n",
       "28820       0  0.990232                  0                       0   \n",
       "\n",
       "       previous_bookings_not_canceled  assigned_room_type  booking_changes  \\\n",
       "32205                               0            0.221831                0   \n",
       "18699                               0           -0.597884                0   \n",
       "53232                               0            0.221831                0   \n",
       "77553                               0           -0.218601                0   \n",
       "28820                               0            0.221831                0   \n",
       "\n",
       "       days_in_waiting_list    adr  required_car_parking_spaces  \\\n",
       "32205                     0   90.0                            0   \n",
       "18699                     0  166.8                            0   \n",
       "53232                     0  105.3                            0   \n",
       "77553                     0  202.5                            0   \n",
       "28820                     0  144.0                            0   \n",
       "\n",
       "       total_of_special_requests  meal_FB  meal_HB  meal_SC  customer_Group  \\\n",
       "32205                          0        0        0        0               0   \n",
       "18699                          2        0        0        0               0   \n",
       "53232                          0        0        0        0               0   \n",
       "77553                          0        0        0        0               0   \n",
       "28820                          0        0        0        0               0   \n",
       "\n",
       "       customer_Transient  customer_Transient-Party  \\\n",
       "32205                   1                         0   \n",
       "18699                   1                         0   \n",
       "53232                   1                         0   \n",
       "77553                   1                         0   \n",
       "28820                   0                         1   \n",
       "\n",
       "       market_segment_Complementary  market_segment_Corporate  \\\n",
       "32205                             0                         0   \n",
       "18699                             0                         0   \n",
       "53232                             0                         0   \n",
       "77553                             0                         0   \n",
       "28820                             0                         0   \n",
       "\n",
       "       market_segment_Direct  market_segment_Groups  \\\n",
       "32205                      0                      0   \n",
       "18699                      0                      0   \n",
       "53232                      0                      0   \n",
       "77553                      0                      0   \n",
       "28820                      1                      0   \n",
       "\n",
       "       market_segment_Offline TA/TO  market_segment_Online TA  \\\n",
       "32205                             1                         0   \n",
       "18699                             0                         1   \n",
       "53232                             0                         1   \n",
       "77553                             0                         1   \n",
       "28820                             0                         0   \n",
       "\n",
       "       distribution_channel_Direct  distribution_channel_GDS  \\\n",
       "32205                            0                         0   \n",
       "18699                            0                         0   \n",
       "53232                            0                         0   \n",
       "77553                            0                         0   \n",
       "28820                            1                         0   \n",
       "\n",
       "       distribution_channel_TA/TO  \n",
       "32205                           1  \n",
       "18699                           1  \n",
       "53232                           1  \n",
       "77553                           1  \n",
       "28820                           0  "
      ]
     },
     "execution_count": 3,
     "metadata": {},
     "output_type": "execute_result"
    }
   ],
   "source": [
    "X_train = pd.read_csv('../src:data/src:data:processed/X_train.csv', index_col=0 )\n",
    "print(X_train.shape)\n",
    "X_train.head()"
   ]
  },
  {
   "cell_type": "code",
   "execution_count": 4,
   "metadata": {},
   "outputs": [
    {
     "name": "stdout",
     "output_type": "stream",
     "text": [
      "(59404, 1)\n"
     ]
    },
    {
     "data": {
      "text/html": [
       "<div>\n",
       "<style scoped>\n",
       "    .dataframe tbody tr th:only-of-type {\n",
       "        vertical-align: middle;\n",
       "    }\n",
       "\n",
       "    .dataframe tbody tr th {\n",
       "        vertical-align: top;\n",
       "    }\n",
       "\n",
       "    .dataframe thead th {\n",
       "        text-align: right;\n",
       "    }\n",
       "</style>\n",
       "<table border=\"1\" class=\"dataframe\">\n",
       "  <thead>\n",
       "    <tr style=\"text-align: right;\">\n",
       "      <th></th>\n",
       "      <th>is_canceled</th>\n",
       "    </tr>\n",
       "  </thead>\n",
       "  <tbody>\n",
       "    <tr>\n",
       "      <th>32205</th>\n",
       "      <td>1</td>\n",
       "    </tr>\n",
       "    <tr>\n",
       "      <th>18699</th>\n",
       "      <td>1</td>\n",
       "    </tr>\n",
       "    <tr>\n",
       "      <th>53232</th>\n",
       "      <td>0</td>\n",
       "    </tr>\n",
       "    <tr>\n",
       "      <th>77553</th>\n",
       "      <td>0</td>\n",
       "    </tr>\n",
       "    <tr>\n",
       "      <th>28820</th>\n",
       "      <td>1</td>\n",
       "    </tr>\n",
       "  </tbody>\n",
       "</table>\n",
       "</div>"
      ],
      "text/plain": [
       "       is_canceled\n",
       "32205            1\n",
       "18699            1\n",
       "53232            0\n",
       "77553            0\n",
       "28820            1"
      ]
     },
     "execution_count": 4,
     "metadata": {},
     "output_type": "execute_result"
    }
   ],
   "source": [
    "y_train = pd.read_csv('../src:data/src:data:processed/y_train.csv', index_col=0 )\n",
    "print(y_train.shape)\n",
    "y_train.head()"
   ]
  },
  {
   "cell_type": "code",
   "execution_count": 5,
   "metadata": {},
   "outputs": [
    {
     "data": {
      "text/plain": [
       "32205    1\n",
       "18699    1\n",
       "53232    0\n",
       "77553    0\n",
       "28820    1\n",
       "Name: is_canceled, dtype: int64"
      ]
     },
     "execution_count": 5,
     "metadata": {},
     "output_type": "execute_result"
    }
   ],
   "source": [
    "# Pasamos y_test a series:\n",
    "#       Me salía este error cuando era df\n",
    "#       /Library/Frameworks/Python.framework/Versions/3.7/lib/python3.7/site-packages/sklearn/model_selection/_validation.py:680: DataConversionWarning: A column-vector y was passed when a 1d array was expected. Please change the shape of y to (n_samples,), for example using ravel().\n",
    "#       no uso ravel porque no me funcionaba\n",
    "\n",
    "y_train = y_train.squeeze()\n",
    "y_train.head()"
   ]
  },
  {
   "cell_type": "code",
   "execution_count": 6,
   "metadata": {},
   "outputs": [
    {
     "name": "stdout",
     "output_type": "stream",
     "text": [
      "(14852, 33)\n"
     ]
    },
    {
     "data": {
      "text/html": [
       "<div>\n",
       "<style scoped>\n",
       "    .dataframe tbody tr th:only-of-type {\n",
       "        vertical-align: middle;\n",
       "    }\n",
       "\n",
       "    .dataframe tbody tr th {\n",
       "        vertical-align: top;\n",
       "    }\n",
       "\n",
       "    .dataframe thead th {\n",
       "        text-align: right;\n",
       "    }\n",
       "</style>\n",
       "<table border=\"1\" class=\"dataframe\">\n",
       "  <thead>\n",
       "    <tr style=\"text-align: right;\">\n",
       "      <th></th>\n",
       "      <th>lead_time</th>\n",
       "      <th>arrival_date_month</th>\n",
       "      <th>arrival_date_day_of_month</th>\n",
       "      <th>stays_in_weekend_nights</th>\n",
       "      <th>stays_in_week_nights</th>\n",
       "      <th>adults</th>\n",
       "      <th>children</th>\n",
       "      <th>babies</th>\n",
       "      <th>country</th>\n",
       "      <th>is_repeated_guest</th>\n",
       "      <th>previous_cancellations</th>\n",
       "      <th>previous_bookings_not_canceled</th>\n",
       "      <th>assigned_room_type</th>\n",
       "      <th>booking_changes</th>\n",
       "      <th>days_in_waiting_list</th>\n",
       "      <th>adr</th>\n",
       "      <th>required_car_parking_spaces</th>\n",
       "      <th>total_of_special_requests</th>\n",
       "      <th>meal_FB</th>\n",
       "      <th>meal_HB</th>\n",
       "      <th>meal_SC</th>\n",
       "      <th>customer_Group</th>\n",
       "      <th>customer_Transient</th>\n",
       "      <th>customer_Transient-Party</th>\n",
       "      <th>market_segment_Complementary</th>\n",
       "      <th>market_segment_Corporate</th>\n",
       "      <th>market_segment_Direct</th>\n",
       "      <th>market_segment_Groups</th>\n",
       "      <th>market_segment_Offline TA/TO</th>\n",
       "      <th>market_segment_Online TA</th>\n",
       "      <th>distribution_channel_Direct</th>\n",
       "      <th>distribution_channel_GDS</th>\n",
       "      <th>distribution_channel_TA/TO</th>\n",
       "    </tr>\n",
       "  </thead>\n",
       "  <tbody>\n",
       "    <tr>\n",
       "      <th>36434</th>\n",
       "      <td>414</td>\n",
       "      <td>12</td>\n",
       "      <td>5</td>\n",
       "      <td>2</td>\n",
       "      <td>1</td>\n",
       "      <td>2</td>\n",
       "      <td>0</td>\n",
       "      <td>0</td>\n",
       "      <td>0.990232</td>\n",
       "      <td>0</td>\n",
       "      <td>1</td>\n",
       "      <td>0</td>\n",
       "      <td>0.221831</td>\n",
       "      <td>0</td>\n",
       "      <td>0</td>\n",
       "      <td>62.00</td>\n",
       "      <td>0</td>\n",
       "      <td>0</td>\n",
       "      <td>0</td>\n",
       "      <td>0</td>\n",
       "      <td>0</td>\n",
       "      <td>0</td>\n",
       "      <td>1</td>\n",
       "      <td>0</td>\n",
       "      <td>0</td>\n",
       "      <td>0</td>\n",
       "      <td>0</td>\n",
       "      <td>1</td>\n",
       "      <td>0</td>\n",
       "      <td>0</td>\n",
       "      <td>0</td>\n",
       "      <td>0</td>\n",
       "      <td>1</td>\n",
       "    </tr>\n",
       "    <tr>\n",
       "      <th>58903</th>\n",
       "      <td>0</td>\n",
       "      <td>10</td>\n",
       "      <td>6</td>\n",
       "      <td>0</td>\n",
       "      <td>1</td>\n",
       "      <td>2</td>\n",
       "      <td>2</td>\n",
       "      <td>0</td>\n",
       "      <td>-0.882612</td>\n",
       "      <td>0</td>\n",
       "      <td>0</td>\n",
       "      <td>0</td>\n",
       "      <td>-0.218601</td>\n",
       "      <td>0</td>\n",
       "      <td>0</td>\n",
       "      <td>216.00</td>\n",
       "      <td>0</td>\n",
       "      <td>0</td>\n",
       "      <td>0</td>\n",
       "      <td>0</td>\n",
       "      <td>0</td>\n",
       "      <td>0</td>\n",
       "      <td>1</td>\n",
       "      <td>0</td>\n",
       "      <td>0</td>\n",
       "      <td>0</td>\n",
       "      <td>0</td>\n",
       "      <td>0</td>\n",
       "      <td>0</td>\n",
       "      <td>1</td>\n",
       "      <td>0</td>\n",
       "      <td>0</td>\n",
       "      <td>1</td>\n",
       "    </tr>\n",
       "    <tr>\n",
       "      <th>49997</th>\n",
       "      <td>106</td>\n",
       "      <td>5</td>\n",
       "      <td>29</td>\n",
       "      <td>2</td>\n",
       "      <td>1</td>\n",
       "      <td>2</td>\n",
       "      <td>0</td>\n",
       "      <td>0</td>\n",
       "      <td>-1.239021</td>\n",
       "      <td>0</td>\n",
       "      <td>0</td>\n",
       "      <td>0</td>\n",
       "      <td>0.221831</td>\n",
       "      <td>0</td>\n",
       "      <td>0</td>\n",
       "      <td>80.75</td>\n",
       "      <td>0</td>\n",
       "      <td>1</td>\n",
       "      <td>0</td>\n",
       "      <td>0</td>\n",
       "      <td>0</td>\n",
       "      <td>0</td>\n",
       "      <td>0</td>\n",
       "      <td>1</td>\n",
       "      <td>0</td>\n",
       "      <td>0</td>\n",
       "      <td>0</td>\n",
       "      <td>0</td>\n",
       "      <td>1</td>\n",
       "      <td>0</td>\n",
       "      <td>0</td>\n",
       "      <td>0</td>\n",
       "      <td>1</td>\n",
       "    </tr>\n",
       "    <tr>\n",
       "      <th>51498</th>\n",
       "      <td>35</td>\n",
       "      <td>6</td>\n",
       "      <td>21</td>\n",
       "      <td>0</td>\n",
       "      <td>2</td>\n",
       "      <td>1</td>\n",
       "      <td>0</td>\n",
       "      <td>0</td>\n",
       "      <td>0.990232</td>\n",
       "      <td>0</td>\n",
       "      <td>0</td>\n",
       "      <td>0</td>\n",
       "      <td>-0.778220</td>\n",
       "      <td>1</td>\n",
       "      <td>0</td>\n",
       "      <td>107.10</td>\n",
       "      <td>0</td>\n",
       "      <td>1</td>\n",
       "      <td>0</td>\n",
       "      <td>0</td>\n",
       "      <td>0</td>\n",
       "      <td>0</td>\n",
       "      <td>1</td>\n",
       "      <td>0</td>\n",
       "      <td>0</td>\n",
       "      <td>0</td>\n",
       "      <td>0</td>\n",
       "      <td>0</td>\n",
       "      <td>0</td>\n",
       "      <td>1</td>\n",
       "      <td>0</td>\n",
       "      <td>0</td>\n",
       "      <td>1</td>\n",
       "    </tr>\n",
       "    <tr>\n",
       "      <th>37112</th>\n",
       "      <td>344</td>\n",
       "      <td>9</td>\n",
       "      <td>26</td>\n",
       "      <td>0</td>\n",
       "      <td>1</td>\n",
       "      <td>1</td>\n",
       "      <td>0</td>\n",
       "      <td>0</td>\n",
       "      <td>0.990232</td>\n",
       "      <td>0</td>\n",
       "      <td>1</td>\n",
       "      <td>0</td>\n",
       "      <td>0.221831</td>\n",
       "      <td>1</td>\n",
       "      <td>0</td>\n",
       "      <td>170.00</td>\n",
       "      <td>0</td>\n",
       "      <td>0</td>\n",
       "      <td>0</td>\n",
       "      <td>0</td>\n",
       "      <td>0</td>\n",
       "      <td>0</td>\n",
       "      <td>1</td>\n",
       "      <td>0</td>\n",
       "      <td>0</td>\n",
       "      <td>0</td>\n",
       "      <td>0</td>\n",
       "      <td>1</td>\n",
       "      <td>0</td>\n",
       "      <td>0</td>\n",
       "      <td>0</td>\n",
       "      <td>0</td>\n",
       "      <td>1</td>\n",
       "    </tr>\n",
       "  </tbody>\n",
       "</table>\n",
       "</div>"
      ],
      "text/plain": [
       "       lead_time  arrival_date_month  arrival_date_day_of_month  \\\n",
       "36434        414                  12                          5   \n",
       "58903          0                  10                          6   \n",
       "49997        106                   5                         29   \n",
       "51498         35                   6                         21   \n",
       "37112        344                   9                         26   \n",
       "\n",
       "       stays_in_weekend_nights  stays_in_week_nights  adults  children  \\\n",
       "36434                        2                     1       2         0   \n",
       "58903                        0                     1       2         2   \n",
       "49997                        2                     1       2         0   \n",
       "51498                        0                     2       1         0   \n",
       "37112                        0                     1       1         0   \n",
       "\n",
       "       babies   country  is_repeated_guest  previous_cancellations  \\\n",
       "36434       0  0.990232                  0                       1   \n",
       "58903       0 -0.882612                  0                       0   \n",
       "49997       0 -1.239021                  0                       0   \n",
       "51498       0  0.990232                  0                       0   \n",
       "37112       0  0.990232                  0                       1   \n",
       "\n",
       "       previous_bookings_not_canceled  assigned_room_type  booking_changes  \\\n",
       "36434                               0            0.221831                0   \n",
       "58903                               0           -0.218601                0   \n",
       "49997                               0            0.221831                0   \n",
       "51498                               0           -0.778220                1   \n",
       "37112                               0            0.221831                1   \n",
       "\n",
       "       days_in_waiting_list     adr  required_car_parking_spaces  \\\n",
       "36434                     0   62.00                            0   \n",
       "58903                     0  216.00                            0   \n",
       "49997                     0   80.75                            0   \n",
       "51498                     0  107.10                            0   \n",
       "37112                     0  170.00                            0   \n",
       "\n",
       "       total_of_special_requests  meal_FB  meal_HB  meal_SC  customer_Group  \\\n",
       "36434                          0        0        0        0               0   \n",
       "58903                          0        0        0        0               0   \n",
       "49997                          1        0        0        0               0   \n",
       "51498                          1        0        0        0               0   \n",
       "37112                          0        0        0        0               0   \n",
       "\n",
       "       customer_Transient  customer_Transient-Party  \\\n",
       "36434                   1                         0   \n",
       "58903                   1                         0   \n",
       "49997                   0                         1   \n",
       "51498                   1                         0   \n",
       "37112                   1                         0   \n",
       "\n",
       "       market_segment_Complementary  market_segment_Corporate  \\\n",
       "36434                             0                         0   \n",
       "58903                             0                         0   \n",
       "49997                             0                         0   \n",
       "51498                             0                         0   \n",
       "37112                             0                         0   \n",
       "\n",
       "       market_segment_Direct  market_segment_Groups  \\\n",
       "36434                      0                      1   \n",
       "58903                      0                      0   \n",
       "49997                      0                      0   \n",
       "51498                      0                      0   \n",
       "37112                      0                      1   \n",
       "\n",
       "       market_segment_Offline TA/TO  market_segment_Online TA  \\\n",
       "36434                             0                         0   \n",
       "58903                             0                         1   \n",
       "49997                             1                         0   \n",
       "51498                             0                         1   \n",
       "37112                             0                         0   \n",
       "\n",
       "       distribution_channel_Direct  distribution_channel_GDS  \\\n",
       "36434                            0                         0   \n",
       "58903                            0                         0   \n",
       "49997                            0                         0   \n",
       "51498                            0                         0   \n",
       "37112                            0                         0   \n",
       "\n",
       "       distribution_channel_TA/TO  \n",
       "36434                           1  \n",
       "58903                           1  \n",
       "49997                           1  \n",
       "51498                           1  \n",
       "37112                           1  "
      ]
     },
     "execution_count": 6,
     "metadata": {},
     "output_type": "execute_result"
    }
   ],
   "source": [
    "X_test = pd.read_csv('../src:data/src:data:processed/X_test.csv', index_col=0 )\n",
    "print(X_test.shape)\n",
    "X_test.head()"
   ]
  },
  {
   "cell_type": "code",
   "execution_count": 7,
   "metadata": {},
   "outputs": [
    {
     "name": "stdout",
     "output_type": "stream",
     "text": [
      "(14852, 1)\n"
     ]
    },
    {
     "data": {
      "text/html": [
       "<div>\n",
       "<style scoped>\n",
       "    .dataframe tbody tr th:only-of-type {\n",
       "        vertical-align: middle;\n",
       "    }\n",
       "\n",
       "    .dataframe tbody tr th {\n",
       "        vertical-align: top;\n",
       "    }\n",
       "\n",
       "    .dataframe thead th {\n",
       "        text-align: right;\n",
       "    }\n",
       "</style>\n",
       "<table border=\"1\" class=\"dataframe\">\n",
       "  <thead>\n",
       "    <tr style=\"text-align: right;\">\n",
       "      <th></th>\n",
       "      <th>is_canceled</th>\n",
       "    </tr>\n",
       "  </thead>\n",
       "  <tbody>\n",
       "    <tr>\n",
       "      <th>36434</th>\n",
       "      <td>1</td>\n",
       "    </tr>\n",
       "    <tr>\n",
       "      <th>58903</th>\n",
       "      <td>0</td>\n",
       "    </tr>\n",
       "    <tr>\n",
       "      <th>49997</th>\n",
       "      <td>0</td>\n",
       "    </tr>\n",
       "    <tr>\n",
       "      <th>51498</th>\n",
       "      <td>0</td>\n",
       "    </tr>\n",
       "    <tr>\n",
       "      <th>37112</th>\n",
       "      <td>1</td>\n",
       "    </tr>\n",
       "  </tbody>\n",
       "</table>\n",
       "</div>"
      ],
      "text/plain": [
       "       is_canceled\n",
       "36434            1\n",
       "58903            0\n",
       "49997            0\n",
       "51498            0\n",
       "37112            1"
      ]
     },
     "execution_count": 7,
     "metadata": {},
     "output_type": "execute_result"
    }
   ],
   "source": [
    "y_test = pd.read_csv('../src:data/src:data:processed/y_test.csv', index_col=0 )\n",
    "print(y_test.shape)\n",
    "y_test.head()"
   ]
  },
  {
   "cell_type": "code",
   "execution_count": 8,
   "metadata": {},
   "outputs": [
    {
     "data": {
      "text/plain": [
       "36434    1\n",
       "58903    0\n",
       "49997    0\n",
       "51498    0\n",
       "37112    1\n",
       "Name: is_canceled, dtype: int64"
      ]
     },
     "execution_count": 8,
     "metadata": {},
     "output_type": "execute_result"
    }
   ],
   "source": [
    "# Pasamos df a series\n",
    "y_test = y_test.squeeze()\n",
    "y_test.head()"
   ]
  },
  {
   "cell_type": "markdown",
   "metadata": {},
   "source": [
    "----"
   ]
  },
  {
   "cell_type": "markdown",
   "metadata": {},
   "source": [
    "| **Random Forest**|\n",
    "| :---: |"
   ]
  },
  {
   "cell_type": "code",
   "execution_count": 16,
   "metadata": {},
   "outputs": [
    {
     "name": "stderr",
     "output_type": "stream",
     "text": [
      "/Library/Frameworks/Python.framework/Versions/3.7/lib/python3.7/site-packages/joblib/externals/loky/process_executor.py:705: UserWarning: A worker stopped while some jobs were given to the executor. This can be caused by a too short worker timeout or by a memory leak.\n",
      "  \"timeout or by a memory leak.\", UserWarning\n"
     ]
    },
    {
     "name": "stdout",
     "output_type": "stream",
     "text": [
      "RandomForestClassifier(max_depth=30, max_features=5, n_estimators=400)\n",
      "0.8777689309636795\n"
     ]
    }
   ],
   "source": [
    "rand_forest = RandomForestClassifier() \n",
    "\n",
    "rand_forest_params_1 =  {\n",
    "                \"n_estimators\": [200, 300, 400],\n",
    "                \"max_depth\": [5, 10, 15, 20, 25, 30],\n",
    "                \"max_features\": [1, 2, 3, 4, 5]\n",
    "}\n",
    "\n",
    "# GridSearch\n",
    "grid_rand_forest_1 = GridSearchCV(rand_forest, rand_forest_params_1,\n",
    "                                cv = 10, # cross validation\n",
    "                                scoring = \"accuracy\",\n",
    "                                verbose = 0,\n",
    "                                n_jobs = -1)\n",
    "\n",
    "grid_rand_forest_1.fit(X_train, y_train)       \n",
    "\n",
    "print(grid_rand_forest_1.best_estimator_) # RandomForestClassifier(max_depth=30, max_features=5, n_estimators=400)\n",
    "print(grid_rand_forest_1.best_score_) # 0.8777689309636795"
   ]
  },
  {
   "cell_type": "code",
   "execution_count": 17,
   "metadata": {},
   "outputs": [
    {
     "name": "stdout",
     "output_type": "stream",
     "text": [
      "Train:\n",
      "Accuracy 0.9925089219581174\n",
      "Precision 0.9955801544955005\n",
      "F1 0.9911795603655031\n",
      "AUC 0.9917797061472738\n",
      "\n",
      "Test:\n",
      "Accuracy 0.8833153784002155\n",
      "Precision 0.8937315506164265\n",
      "F1 0.8559075413652616\n",
      "AUC 0.8749298200121208\n"
     ]
    }
   ],
   "source": [
    "rand_forest_estimador1 = grid_rand_forest_1.best_estimator_\n",
    "\n",
    "# MÉTRICAS\n",
    "\n",
    "y_train_preds_rand_forest_1 = rand_forest_estimador1.predict(X_train)\n",
    "y_test_preds_rand_forest_1 = rand_forest_estimador1.predict(X_test)\n",
    "\n",
    "# Vemos diferencias entre train y test --> pequeño overfitting\n",
    "\n",
    "print(\"Train:\")\n",
    "metricas_print(y_train_preds_rand_forest_1, y_train)\n",
    "print()\n",
    "print(\"Test:\")\n",
    "metricas_print(y_test_preds_rand_forest_1, y_test)\n",
    "\n",
    "# Vemos un poco de overfitting: precision --> Train: 0.99 / Test:0.89"
   ]
  },
  {
   "cell_type": "code",
   "execution_count": 47,
   "metadata": {},
   "outputs": [
    {
     "name": "stderr",
     "output_type": "stream",
     "text": [
      "/Library/Frameworks/Python.framework/Versions/3.7/lib/python3.7/site-packages/joblib/externals/loky/process_executor.py:705: UserWarning:\n",
      "\n",
      "A worker stopped while some jobs were given to the executor. This can be caused by a too short worker timeout or by a memory leak.\n",
      "\n"
     ]
    },
    {
     "name": "stdout",
     "output_type": "stream",
     "text": [
      "RandomForestClassifier(max_depth=20, max_features=4, n_estimators=400)\n",
      "0.9198538818934752\n"
     ]
    }
   ],
   "source": [
    "# Como vemos un poco de overfitting, probamos con 400 árboles pero reduciendo un poco la profundida y features:\n",
    "'''\n",
    "Después de probar con diferentes combinaciones de profundidad y atributos, \n",
    "elegimos esta (aunque sigue habiendo un poquito de overfitting):\n",
    "'''\n",
    "\n",
    "rand_forest_params_2 =  {\n",
    "                \"n_estimators\": [400],\n",
    "                \"max_depth\": [20],\n",
    "                \"max_features\": [4]}\n",
    "\n",
    "grid_rand_forest_2 = GridSearchCV(RandomForestClassifier(),\n",
    "                                rand_forest_params_2,\n",
    "                                cv = 10, \n",
    "                                scoring = \"accuracy\",\n",
    "                                verbose = 0,\n",
    "                                n_jobs = -1)\n",
    "\n",
    "grid_rand_forest_2.fit(X_train, y_train)       \n",
    "\n",
    "print(grid_rand_forest_2.best_estimator_)\n",
    "print(grid_rand_forest_2.score(X_train, y_train))"
   ]
  },
  {
   "cell_type": "code",
   "execution_count": 48,
   "metadata": {},
   "outputs": [
    {
     "name": "stdout",
     "output_type": "stream",
     "text": [
      "Train:\n",
      "Accuracy 0.9198538818934752\n",
      "Precision 0.930929044148446\n",
      "F1 0.9032533376684075\n",
      "AUC 0.9143855287529805\n",
      "\n",
      "Test:\n",
      "Accuracy 0.872811742526259\n",
      "Precision 0.8895214374666429\n",
      "F1 0.8411136344520145\n",
      "AUC 0.8626793604224121\n"
     ]
    }
   ],
   "source": [
    "rand_forest_estimador2 = grid_rand_forest_2.best_estimator_\n",
    "\n",
    "# MÉTRICAS\n",
    "\n",
    "y_train_preds_rand_forest_2 = rand_forest_estimador2.predict(X_train)\n",
    "y_test_preds_rand_forest_2 = rand_forest_estimador2.predict(X_test)\n",
    "\n",
    "# Vemos diferencias entre train y test --> pequeño overfitting\n",
    "\n",
    "print(\"Train:\")\n",
    "metricas_print(y_train_preds_rand_forest_2, y_train)\n",
    "print()\n",
    "print(\"Test:\")\n",
    "metricas_print(y_test_preds_rand_forest_2, y_test)"
   ]
  },
  {
   "cell_type": "code",
   "execution_count": 49,
   "metadata": {},
   "outputs": [
    {
     "data": {
      "text/html": [
       "<div>\n",
       "<style scoped>\n",
       "    .dataframe tbody tr th:only-of-type {\n",
       "        vertical-align: middle;\n",
       "    }\n",
       "\n",
       "    .dataframe tbody tr th {\n",
       "        vertical-align: top;\n",
       "    }\n",
       "\n",
       "    .dataframe thead th {\n",
       "        text-align: right;\n",
       "    }\n",
       "</style>\n",
       "<table border=\"1\" class=\"dataframe\">\n",
       "  <thead>\n",
       "    <tr style=\"text-align: right;\">\n",
       "      <th></th>\n",
       "      <th>Importances</th>\n",
       "    </tr>\n",
       "  </thead>\n",
       "  <tbody>\n",
       "    <tr>\n",
       "      <th>country</th>\n",
       "      <td>0.183273</td>\n",
       "    </tr>\n",
       "    <tr>\n",
       "      <th>lead_time</th>\n",
       "      <td>0.135662</td>\n",
       "    </tr>\n",
       "    <tr>\n",
       "      <th>total_of_special_requests</th>\n",
       "      <td>0.107819</td>\n",
       "    </tr>\n",
       "    <tr>\n",
       "      <th>adr</th>\n",
       "      <td>0.077459</td>\n",
       "    </tr>\n",
       "    <tr>\n",
       "      <th>previous_cancellations</th>\n",
       "      <td>0.047581</td>\n",
       "    </tr>\n",
       "  </tbody>\n",
       "</table>\n",
       "</div>"
      ],
      "text/plain": [
       "                           Importances\n",
       "country                       0.183273\n",
       "lead_time                     0.135662\n",
       "total_of_special_requests     0.107819\n",
       "adr                           0.077459\n",
       "previous_cancellations        0.047581"
      ]
     },
     "execution_count": 49,
     "metadata": {},
     "output_type": "execute_result"
    }
   ],
   "source": [
    "# FEATURE IMPORTANCE\n",
    "\n",
    "feat_importance_rand_f = grid_rand_forest_2.best_estimator_.feature_importances_\n",
    "\n",
    "feat_importance_rand_f_df = pd.DataFrame(feat_importance_rand_f,\n",
    "                             index = X_train.columns,\n",
    "                            columns = [\"Importances\"]).sort_values('Importances', ascending=False)\n",
    "feat_importance_rand_f_df.head()"
   ]
  },
  {
   "cell_type": "code",
   "execution_count": 50,
   "metadata": {},
   "outputs": [
    {
     "data": {
      "application/vnd.plotly.v1+json": {
       "config": {
        "plotlyServerURL": "https://plot.ly"
       },
       "data": [
        {
         "marker": {
          "color": "#4620ff"
         },
         "name": "Feature Importance Random Forest",
         "type": "bar",
         "x": [
          "country",
          "lead_time",
          "total_of_special_requests",
          "adr",
          "previous_cancellations",
          "arrival_date_day_of_month",
          "arrival_date_month",
          "customer_Transient-Party",
          "market_segment_Groups",
          "assigned_room_type",
          "booking_changes",
          "customer_Transient",
          "market_segment_Online TA",
          "stays_in_week_nights",
          "market_segment_Offline TA/TO",
          "stays_in_weekend_nights",
          "distribution_channel_TA/TO",
          "adults",
          "required_car_parking_spaces",
          "days_in_waiting_list",
          "distribution_channel_Direct",
          "meal_HB",
          "meal_SC",
          "market_segment_Direct",
          "children",
          "previous_bookings_not_canceled",
          "market_segment_Corporate",
          "is_repeated_guest",
          "market_segment_Complementary",
          "babies",
          "distribution_channel_GDS",
          "customer_Group",
          "meal_FB"
         ],
         "y": [
          0.18327263818745557,
          0.13566226702580167,
          0.10781882281832501,
          0.07745888446312509,
          0.04758146447034863,
          0.044751020341008724,
          0.03921000675687091,
          0.03459460648419376,
          0.03356140530146017,
          0.03258969817691497,
          0.03255190392019707,
          0.0310961897310994,
          0.029786896477339914,
          0.0278337367584022,
          0.019392247722226835,
          0.01929411737546911,
          0.017950995493948362,
          0.01492824278831204,
          0.010863318239434235,
          0.008916181319007968,
          0.008239699075933696,
          0.0073248875149933244,
          0.00695468126201829,
          0.00694659637571757,
          0.0058465120273215945,
          0.00541732705914162,
          0.003790353727210334,
          0.0033633978186719394,
          0.0008480624447320245,
          0.000678209037030202,
          0.0005294752243565678,
          0.0004737859312248202,
          0.0004723686507063116
         ]
        }
       ],
       "layout": {
        "barmode": "group",
        "font": {
         "family": "Arial"
        },
        "paper_bgcolor": "#efefef",
        "plot_bgcolor": "#efefef",
        "showlegend": false,
        "template": {
         "data": {
          "bar": [
           {
            "error_x": {
             "color": "#2a3f5f"
            },
            "error_y": {
             "color": "#2a3f5f"
            },
            "marker": {
             "line": {
              "color": "#E5ECF6",
              "width": 0.5
             },
             "pattern": {
              "fillmode": "overlay",
              "size": 10,
              "solidity": 0.2
             }
            },
            "type": "bar"
           }
          ],
          "barpolar": [
           {
            "marker": {
             "line": {
              "color": "#E5ECF6",
              "width": 0.5
             },
             "pattern": {
              "fillmode": "overlay",
              "size": 10,
              "solidity": 0.2
             }
            },
            "type": "barpolar"
           }
          ],
          "carpet": [
           {
            "aaxis": {
             "endlinecolor": "#2a3f5f",
             "gridcolor": "white",
             "linecolor": "white",
             "minorgridcolor": "white",
             "startlinecolor": "#2a3f5f"
            },
            "baxis": {
             "endlinecolor": "#2a3f5f",
             "gridcolor": "white",
             "linecolor": "white",
             "minorgridcolor": "white",
             "startlinecolor": "#2a3f5f"
            },
            "type": "carpet"
           }
          ],
          "choropleth": [
           {
            "colorbar": {
             "outlinewidth": 0,
             "ticks": ""
            },
            "type": "choropleth"
           }
          ],
          "contour": [
           {
            "colorbar": {
             "outlinewidth": 0,
             "ticks": ""
            },
            "colorscale": [
             [
              0,
              "#0d0887"
             ],
             [
              0.1111111111111111,
              "#46039f"
             ],
             [
              0.2222222222222222,
              "#7201a8"
             ],
             [
              0.3333333333333333,
              "#9c179e"
             ],
             [
              0.4444444444444444,
              "#bd3786"
             ],
             [
              0.5555555555555556,
              "#d8576b"
             ],
             [
              0.6666666666666666,
              "#ed7953"
             ],
             [
              0.7777777777777778,
              "#fb9f3a"
             ],
             [
              0.8888888888888888,
              "#fdca26"
             ],
             [
              1,
              "#f0f921"
             ]
            ],
            "type": "contour"
           }
          ],
          "contourcarpet": [
           {
            "colorbar": {
             "outlinewidth": 0,
             "ticks": ""
            },
            "type": "contourcarpet"
           }
          ],
          "heatmap": [
           {
            "colorbar": {
             "outlinewidth": 0,
             "ticks": ""
            },
            "colorscale": [
             [
              0,
              "#0d0887"
             ],
             [
              0.1111111111111111,
              "#46039f"
             ],
             [
              0.2222222222222222,
              "#7201a8"
             ],
             [
              0.3333333333333333,
              "#9c179e"
             ],
             [
              0.4444444444444444,
              "#bd3786"
             ],
             [
              0.5555555555555556,
              "#d8576b"
             ],
             [
              0.6666666666666666,
              "#ed7953"
             ],
             [
              0.7777777777777778,
              "#fb9f3a"
             ],
             [
              0.8888888888888888,
              "#fdca26"
             ],
             [
              1,
              "#f0f921"
             ]
            ],
            "type": "heatmap"
           }
          ],
          "heatmapgl": [
           {
            "colorbar": {
             "outlinewidth": 0,
             "ticks": ""
            },
            "colorscale": [
             [
              0,
              "#0d0887"
             ],
             [
              0.1111111111111111,
              "#46039f"
             ],
             [
              0.2222222222222222,
              "#7201a8"
             ],
             [
              0.3333333333333333,
              "#9c179e"
             ],
             [
              0.4444444444444444,
              "#bd3786"
             ],
             [
              0.5555555555555556,
              "#d8576b"
             ],
             [
              0.6666666666666666,
              "#ed7953"
             ],
             [
              0.7777777777777778,
              "#fb9f3a"
             ],
             [
              0.8888888888888888,
              "#fdca26"
             ],
             [
              1,
              "#f0f921"
             ]
            ],
            "type": "heatmapgl"
           }
          ],
          "histogram": [
           {
            "marker": {
             "pattern": {
              "fillmode": "overlay",
              "size": 10,
              "solidity": 0.2
             }
            },
            "type": "histogram"
           }
          ],
          "histogram2d": [
           {
            "colorbar": {
             "outlinewidth": 0,
             "ticks": ""
            },
            "colorscale": [
             [
              0,
              "#0d0887"
             ],
             [
              0.1111111111111111,
              "#46039f"
             ],
             [
              0.2222222222222222,
              "#7201a8"
             ],
             [
              0.3333333333333333,
              "#9c179e"
             ],
             [
              0.4444444444444444,
              "#bd3786"
             ],
             [
              0.5555555555555556,
              "#d8576b"
             ],
             [
              0.6666666666666666,
              "#ed7953"
             ],
             [
              0.7777777777777778,
              "#fb9f3a"
             ],
             [
              0.8888888888888888,
              "#fdca26"
             ],
             [
              1,
              "#f0f921"
             ]
            ],
            "type": "histogram2d"
           }
          ],
          "histogram2dcontour": [
           {
            "colorbar": {
             "outlinewidth": 0,
             "ticks": ""
            },
            "colorscale": [
             [
              0,
              "#0d0887"
             ],
             [
              0.1111111111111111,
              "#46039f"
             ],
             [
              0.2222222222222222,
              "#7201a8"
             ],
             [
              0.3333333333333333,
              "#9c179e"
             ],
             [
              0.4444444444444444,
              "#bd3786"
             ],
             [
              0.5555555555555556,
              "#d8576b"
             ],
             [
              0.6666666666666666,
              "#ed7953"
             ],
             [
              0.7777777777777778,
              "#fb9f3a"
             ],
             [
              0.8888888888888888,
              "#fdca26"
             ],
             [
              1,
              "#f0f921"
             ]
            ],
            "type": "histogram2dcontour"
           }
          ],
          "mesh3d": [
           {
            "colorbar": {
             "outlinewidth": 0,
             "ticks": ""
            },
            "type": "mesh3d"
           }
          ],
          "parcoords": [
           {
            "line": {
             "colorbar": {
              "outlinewidth": 0,
              "ticks": ""
             }
            },
            "type": "parcoords"
           }
          ],
          "pie": [
           {
            "automargin": true,
            "type": "pie"
           }
          ],
          "scatter": [
           {
            "fillpattern": {
             "fillmode": "overlay",
             "size": 10,
             "solidity": 0.2
            },
            "type": "scatter"
           }
          ],
          "scatter3d": [
           {
            "line": {
             "colorbar": {
              "outlinewidth": 0,
              "ticks": ""
             }
            },
            "marker": {
             "colorbar": {
              "outlinewidth": 0,
              "ticks": ""
             }
            },
            "type": "scatter3d"
           }
          ],
          "scattercarpet": [
           {
            "marker": {
             "colorbar": {
              "outlinewidth": 0,
              "ticks": ""
             }
            },
            "type": "scattercarpet"
           }
          ],
          "scattergeo": [
           {
            "marker": {
             "colorbar": {
              "outlinewidth": 0,
              "ticks": ""
             }
            },
            "type": "scattergeo"
           }
          ],
          "scattergl": [
           {
            "marker": {
             "colorbar": {
              "outlinewidth": 0,
              "ticks": ""
             }
            },
            "type": "scattergl"
           }
          ],
          "scattermapbox": [
           {
            "marker": {
             "colorbar": {
              "outlinewidth": 0,
              "ticks": ""
             }
            },
            "type": "scattermapbox"
           }
          ],
          "scatterpolar": [
           {
            "marker": {
             "colorbar": {
              "outlinewidth": 0,
              "ticks": ""
             }
            },
            "type": "scatterpolar"
           }
          ],
          "scatterpolargl": [
           {
            "marker": {
             "colorbar": {
              "outlinewidth": 0,
              "ticks": ""
             }
            },
            "type": "scatterpolargl"
           }
          ],
          "scatterternary": [
           {
            "marker": {
             "colorbar": {
              "outlinewidth": 0,
              "ticks": ""
             }
            },
            "type": "scatterternary"
           }
          ],
          "surface": [
           {
            "colorbar": {
             "outlinewidth": 0,
             "ticks": ""
            },
            "colorscale": [
             [
              0,
              "#0d0887"
             ],
             [
              0.1111111111111111,
              "#46039f"
             ],
             [
              0.2222222222222222,
              "#7201a8"
             ],
             [
              0.3333333333333333,
              "#9c179e"
             ],
             [
              0.4444444444444444,
              "#bd3786"
             ],
             [
              0.5555555555555556,
              "#d8576b"
             ],
             [
              0.6666666666666666,
              "#ed7953"
             ],
             [
              0.7777777777777778,
              "#fb9f3a"
             ],
             [
              0.8888888888888888,
              "#fdca26"
             ],
             [
              1,
              "#f0f921"
             ]
            ],
            "type": "surface"
           }
          ],
          "table": [
           {
            "cells": {
             "fill": {
              "color": "#EBF0F8"
             },
             "line": {
              "color": "white"
             }
            },
            "header": {
             "fill": {
              "color": "#C8D4E3"
             },
             "line": {
              "color": "white"
             }
            },
            "type": "table"
           }
          ]
         },
         "layout": {
          "annotationdefaults": {
           "arrowcolor": "#2a3f5f",
           "arrowhead": 0,
           "arrowwidth": 1
          },
          "autotypenumbers": "strict",
          "coloraxis": {
           "colorbar": {
            "outlinewidth": 0,
            "ticks": ""
           }
          },
          "colorscale": {
           "diverging": [
            [
             0,
             "#8e0152"
            ],
            [
             0.1,
             "#c51b7d"
            ],
            [
             0.2,
             "#de77ae"
            ],
            [
             0.3,
             "#f1b6da"
            ],
            [
             0.4,
             "#fde0ef"
            ],
            [
             0.5,
             "#f7f7f7"
            ],
            [
             0.6,
             "#e6f5d0"
            ],
            [
             0.7,
             "#b8e186"
            ],
            [
             0.8,
             "#7fbc41"
            ],
            [
             0.9,
             "#4d9221"
            ],
            [
             1,
             "#276419"
            ]
           ],
           "sequential": [
            [
             0,
             "#0d0887"
            ],
            [
             0.1111111111111111,
             "#46039f"
            ],
            [
             0.2222222222222222,
             "#7201a8"
            ],
            [
             0.3333333333333333,
             "#9c179e"
            ],
            [
             0.4444444444444444,
             "#bd3786"
            ],
            [
             0.5555555555555556,
             "#d8576b"
            ],
            [
             0.6666666666666666,
             "#ed7953"
            ],
            [
             0.7777777777777778,
             "#fb9f3a"
            ],
            [
             0.8888888888888888,
             "#fdca26"
            ],
            [
             1,
             "#f0f921"
            ]
           ],
           "sequentialminus": [
            [
             0,
             "#0d0887"
            ],
            [
             0.1111111111111111,
             "#46039f"
            ],
            [
             0.2222222222222222,
             "#7201a8"
            ],
            [
             0.3333333333333333,
             "#9c179e"
            ],
            [
             0.4444444444444444,
             "#bd3786"
            ],
            [
             0.5555555555555556,
             "#d8576b"
            ],
            [
             0.6666666666666666,
             "#ed7953"
            ],
            [
             0.7777777777777778,
             "#fb9f3a"
            ],
            [
             0.8888888888888888,
             "#fdca26"
            ],
            [
             1,
             "#f0f921"
            ]
           ]
          },
          "colorway": [
           "#636efa",
           "#EF553B",
           "#00cc96",
           "#ab63fa",
           "#FFA15A",
           "#19d3f3",
           "#FF6692",
           "#B6E880",
           "#FF97FF",
           "#FECB52"
          ],
          "font": {
           "color": "#2a3f5f"
          },
          "geo": {
           "bgcolor": "white",
           "lakecolor": "white",
           "landcolor": "#E5ECF6",
           "showlakes": true,
           "showland": true,
           "subunitcolor": "white"
          },
          "hoverlabel": {
           "align": "left"
          },
          "hovermode": "closest",
          "mapbox": {
           "style": "light"
          },
          "paper_bgcolor": "white",
          "plot_bgcolor": "#E5ECF6",
          "polar": {
           "angularaxis": {
            "gridcolor": "white",
            "linecolor": "white",
            "ticks": ""
           },
           "bgcolor": "#E5ECF6",
           "radialaxis": {
            "gridcolor": "white",
            "linecolor": "white",
            "ticks": ""
           }
          },
          "scene": {
           "xaxis": {
            "backgroundcolor": "#E5ECF6",
            "gridcolor": "white",
            "gridwidth": 2,
            "linecolor": "white",
            "showbackground": true,
            "ticks": "",
            "zerolinecolor": "white"
           },
           "yaxis": {
            "backgroundcolor": "#E5ECF6",
            "gridcolor": "white",
            "gridwidth": 2,
            "linecolor": "white",
            "showbackground": true,
            "ticks": "",
            "zerolinecolor": "white"
           },
           "zaxis": {
            "backgroundcolor": "#E5ECF6",
            "gridcolor": "white",
            "gridwidth": 2,
            "linecolor": "white",
            "showbackground": true,
            "ticks": "",
            "zerolinecolor": "white"
           }
          },
          "shapedefaults": {
           "line": {
            "color": "#2a3f5f"
           }
          },
          "ternary": {
           "aaxis": {
            "gridcolor": "white",
            "linecolor": "white",
            "ticks": ""
           },
           "baxis": {
            "gridcolor": "white",
            "linecolor": "white",
            "ticks": ""
           },
           "bgcolor": "#E5ECF6",
           "caxis": {
            "gridcolor": "white",
            "linecolor": "white",
            "ticks": ""
           }
          },
          "title": {
           "x": 0.05
          },
          "xaxis": {
           "automargin": true,
           "gridcolor": "white",
           "linecolor": "white",
           "ticks": "",
           "title": {
            "standoff": 15
           },
           "zerolinecolor": "white",
           "zerolinewidth": 2
          },
          "yaxis": {
           "automargin": true,
           "gridcolor": "white",
           "linecolor": "white",
           "ticks": "",
           "title": {
            "standoff": 15
           },
           "zerolinecolor": "white",
           "zerolinewidth": 2
          }
         }
        },
        "title": {
         "font": {
          "family": "Arial"
         }
        },
        "uniformtext": {
         "minsize": 12,
         "mode": "hide"
        },
        "yaxis": {
         "visible": true
        }
       }
      }
     },
     "metadata": {},
     "output_type": "display_data"
    }
   ],
   "source": [
    "fig = go.Figure()\n",
    "fig.add_trace(go.Bar(name='Feature Importance Random Forest', y=feat_importance_rand_f_df['Importances'], \n",
    "                    x=feat_importance_rand_f_df.index, marker_color = '#4620ff'))\n",
    "\n",
    "fig.update_layout(barmode='group', uniformtext_minsize=12, uniformtext_mode='hide', font_family = 'Arial', title_font_family='Arial', \n",
    "                        plot_bgcolor='#efefef', paper_bgcolor='#efefef',showlegend=False)\n",
    "\n",
    "fig.update_yaxes(visible = True)\n",
    "\n",
    "fig.show()"
   ]
  },
  {
   "cell_type": "markdown",
   "metadata": {},
   "source": [
    "----"
   ]
  },
  {
   "cell_type": "markdown",
   "metadata": {},
   "source": [
    "| **Feature Selection**|\n",
    "| :---: |\n",
    "\n"
   ]
  },
  {
   "cell_type": "code",
   "execution_count": 13,
   "metadata": {},
   "outputs": [
    {
     "name": "stdout",
     "output_type": "stream",
     "text": [
      "Features seleccionadas: Index(['lead_time', 'arrival_date_month', 'arrival_date_day_of_month',\n",
      "       'country', 'previous_cancellations', 'assigned_room_type',\n",
      "       'booking_changes', 'adr', 'total_of_special_requests',\n",
      "       'customer_Transient', 'customer_Transient-Party',\n",
      "       'market_segment_Groups'],\n",
      "      dtype='object')\n"
     ]
    },
    {
     "name": "stderr",
     "output_type": "stream",
     "text": [
      "/Library/Frameworks/Python.framework/Versions/3.7/lib/python3.7/site-packages/sklearn/base.py:444: UserWarning:\n",
      "\n",
      "X has feature names, but SelectFromModel was fitted without feature names\n",
      "\n",
      "/Library/Frameworks/Python.framework/Versions/3.7/lib/python3.7/site-packages/sklearn/base.py:444: UserWarning:\n",
      "\n",
      "X has feature names, but SelectFromModel was fitted without feature names\n",
      "\n"
     ]
    }
   ],
   "source": [
    "model = SelectFromModel(grid_rand_forest_2.best_estimator_, prefit=True)\n",
    "\n",
    "# X_train\n",
    "X_train_rfe = model.transform(X_train) \n",
    "X_train_rfe = pd.DataFrame(X_train_rfe)\n",
    "feature_names = model.get_support()\n",
    "X_train_rfe.columns = X_train.columns[feature_names]\n",
    "\n",
    "#_test\n",
    "X_test_rfe = model.transform(X_test) \n",
    "X_test_rfe = pd.DataFrame(X_test_rfe)\n",
    "X_test_rfe.columns = X_train_rfe.columns\n",
    "\n",
    "print(\"Features seleccionadas:\", X_train_rfe.columns)"
   ]
  },
  {
   "cell_type": "code",
   "execution_count": 14,
   "metadata": {},
   "outputs": [
    {
     "data": {
      "text/html": [
       "<div>\n",
       "<style scoped>\n",
       "    .dataframe tbody tr th:only-of-type {\n",
       "        vertical-align: middle;\n",
       "    }\n",
       "\n",
       "    .dataframe tbody tr th {\n",
       "        vertical-align: top;\n",
       "    }\n",
       "\n",
       "    .dataframe thead th {\n",
       "        text-align: right;\n",
       "    }\n",
       "</style>\n",
       "<table border=\"1\" class=\"dataframe\">\n",
       "  <thead>\n",
       "    <tr style=\"text-align: right;\">\n",
       "      <th></th>\n",
       "      <th>lead_time</th>\n",
       "      <th>arrival_date_month</th>\n",
       "      <th>arrival_date_day_of_month</th>\n",
       "      <th>country</th>\n",
       "      <th>previous_cancellations</th>\n",
       "      <th>assigned_room_type</th>\n",
       "      <th>booking_changes</th>\n",
       "      <th>adr</th>\n",
       "      <th>total_of_special_requests</th>\n",
       "      <th>customer_Transient</th>\n",
       "      <th>customer_Transient-Party</th>\n",
       "      <th>market_segment_Groups</th>\n",
       "    </tr>\n",
       "  </thead>\n",
       "  <tbody>\n",
       "    <tr>\n",
       "      <th>0</th>\n",
       "      <td>464.0</td>\n",
       "      <td>7.0</td>\n",
       "      <td>25.0</td>\n",
       "      <td>0.990232</td>\n",
       "      <td>0.0</td>\n",
       "      <td>0.221831</td>\n",
       "      <td>0.0</td>\n",
       "      <td>90.0</td>\n",
       "      <td>0.0</td>\n",
       "      <td>1.0</td>\n",
       "      <td>0.0</td>\n",
       "      <td>0.0</td>\n",
       "    </tr>\n",
       "    <tr>\n",
       "      <th>1</th>\n",
       "      <td>34.0</td>\n",
       "      <td>10.0</td>\n",
       "      <td>15.0</td>\n",
       "      <td>-1.065651</td>\n",
       "      <td>0.0</td>\n",
       "      <td>-0.597884</td>\n",
       "      <td>0.0</td>\n",
       "      <td>166.8</td>\n",
       "      <td>2.0</td>\n",
       "      <td>1.0</td>\n",
       "      <td>0.0</td>\n",
       "      <td>0.0</td>\n",
       "    </tr>\n",
       "    <tr>\n",
       "      <th>2</th>\n",
       "      <td>130.0</td>\n",
       "      <td>7.0</td>\n",
       "      <td>17.0</td>\n",
       "      <td>-0.416522</td>\n",
       "      <td>0.0</td>\n",
       "      <td>0.221831</td>\n",
       "      <td>0.0</td>\n",
       "      <td>105.3</td>\n",
       "      <td>0.0</td>\n",
       "      <td>1.0</td>\n",
       "      <td>0.0</td>\n",
       "      <td>0.0</td>\n",
       "    </tr>\n",
       "    <tr>\n",
       "      <th>3</th>\n",
       "      <td>242.0</td>\n",
       "      <td>8.0</td>\n",
       "      <td>5.0</td>\n",
       "      <td>-0.565356</td>\n",
       "      <td>0.0</td>\n",
       "      <td>-0.218601</td>\n",
       "      <td>0.0</td>\n",
       "      <td>202.5</td>\n",
       "      <td>0.0</td>\n",
       "      <td>1.0</td>\n",
       "      <td>0.0</td>\n",
       "      <td>0.0</td>\n",
       "    </tr>\n",
       "    <tr>\n",
       "      <th>4</th>\n",
       "      <td>30.0</td>\n",
       "      <td>5.0</td>\n",
       "      <td>22.0</td>\n",
       "      <td>0.990232</td>\n",
       "      <td>0.0</td>\n",
       "      <td>0.221831</td>\n",
       "      <td>0.0</td>\n",
       "      <td>144.0</td>\n",
       "      <td>0.0</td>\n",
       "      <td>0.0</td>\n",
       "      <td>1.0</td>\n",
       "      <td>0.0</td>\n",
       "    </tr>\n",
       "  </tbody>\n",
       "</table>\n",
       "</div>"
      ],
      "text/plain": [
       "   lead_time  arrival_date_month  arrival_date_day_of_month   country  \\\n",
       "0      464.0                 7.0                       25.0  0.990232   \n",
       "1       34.0                10.0                       15.0 -1.065651   \n",
       "2      130.0                 7.0                       17.0 -0.416522   \n",
       "3      242.0                 8.0                        5.0 -0.565356   \n",
       "4       30.0                 5.0                       22.0  0.990232   \n",
       "\n",
       "   previous_cancellations  assigned_room_type  booking_changes    adr  \\\n",
       "0                     0.0            0.221831              0.0   90.0   \n",
       "1                     0.0           -0.597884              0.0  166.8   \n",
       "2                     0.0            0.221831              0.0  105.3   \n",
       "3                     0.0           -0.218601              0.0  202.5   \n",
       "4                     0.0            0.221831              0.0  144.0   \n",
       "\n",
       "   total_of_special_requests  customer_Transient  customer_Transient-Party  \\\n",
       "0                        0.0                 1.0                       0.0   \n",
       "1                        2.0                 1.0                       0.0   \n",
       "2                        0.0                 1.0                       0.0   \n",
       "3                        0.0                 1.0                       0.0   \n",
       "4                        0.0                 0.0                       1.0   \n",
       "\n",
       "   market_segment_Groups  \n",
       "0                    0.0  \n",
       "1                    0.0  \n",
       "2                    0.0  \n",
       "3                    0.0  \n",
       "4                    0.0  "
      ]
     },
     "execution_count": 14,
     "metadata": {},
     "output_type": "execute_result"
    }
   ],
   "source": [
    "X_train_rfe.head()"
   ]
  },
  {
   "cell_type": "code",
   "execution_count": 15,
   "metadata": {},
   "outputs": [
    {
     "data": {
      "text/html": [
       "<div>\n",
       "<style scoped>\n",
       "    .dataframe tbody tr th:only-of-type {\n",
       "        vertical-align: middle;\n",
       "    }\n",
       "\n",
       "    .dataframe tbody tr th {\n",
       "        vertical-align: top;\n",
       "    }\n",
       "\n",
       "    .dataframe thead th {\n",
       "        text-align: right;\n",
       "    }\n",
       "</style>\n",
       "<table border=\"1\" class=\"dataframe\">\n",
       "  <thead>\n",
       "    <tr style=\"text-align: right;\">\n",
       "      <th></th>\n",
       "      <th>lead_time</th>\n",
       "      <th>arrival_date_month</th>\n",
       "      <th>arrival_date_day_of_month</th>\n",
       "      <th>country</th>\n",
       "      <th>previous_cancellations</th>\n",
       "      <th>assigned_room_type</th>\n",
       "      <th>booking_changes</th>\n",
       "      <th>adr</th>\n",
       "      <th>total_of_special_requests</th>\n",
       "      <th>customer_Transient</th>\n",
       "      <th>customer_Transient-Party</th>\n",
       "      <th>market_segment_Groups</th>\n",
       "    </tr>\n",
       "  </thead>\n",
       "  <tbody>\n",
       "    <tr>\n",
       "      <th>0</th>\n",
       "      <td>414.0</td>\n",
       "      <td>12.0</td>\n",
       "      <td>5.0</td>\n",
       "      <td>0.990232</td>\n",
       "      <td>1.0</td>\n",
       "      <td>0.221831</td>\n",
       "      <td>0.0</td>\n",
       "      <td>62.00</td>\n",
       "      <td>0.0</td>\n",
       "      <td>1.0</td>\n",
       "      <td>0.0</td>\n",
       "      <td>1.0</td>\n",
       "    </tr>\n",
       "    <tr>\n",
       "      <th>1</th>\n",
       "      <td>0.0</td>\n",
       "      <td>10.0</td>\n",
       "      <td>6.0</td>\n",
       "      <td>-0.882612</td>\n",
       "      <td>0.0</td>\n",
       "      <td>-0.218601</td>\n",
       "      <td>0.0</td>\n",
       "      <td>216.00</td>\n",
       "      <td>0.0</td>\n",
       "      <td>1.0</td>\n",
       "      <td>0.0</td>\n",
       "      <td>0.0</td>\n",
       "    </tr>\n",
       "    <tr>\n",
       "      <th>2</th>\n",
       "      <td>106.0</td>\n",
       "      <td>5.0</td>\n",
       "      <td>29.0</td>\n",
       "      <td>-1.239021</td>\n",
       "      <td>0.0</td>\n",
       "      <td>0.221831</td>\n",
       "      <td>0.0</td>\n",
       "      <td>80.75</td>\n",
       "      <td>1.0</td>\n",
       "      <td>0.0</td>\n",
       "      <td>1.0</td>\n",
       "      <td>0.0</td>\n",
       "    </tr>\n",
       "    <tr>\n",
       "      <th>3</th>\n",
       "      <td>35.0</td>\n",
       "      <td>6.0</td>\n",
       "      <td>21.0</td>\n",
       "      <td>0.990232</td>\n",
       "      <td>0.0</td>\n",
       "      <td>-0.778220</td>\n",
       "      <td>1.0</td>\n",
       "      <td>107.10</td>\n",
       "      <td>1.0</td>\n",
       "      <td>1.0</td>\n",
       "      <td>0.0</td>\n",
       "      <td>0.0</td>\n",
       "    </tr>\n",
       "    <tr>\n",
       "      <th>4</th>\n",
       "      <td>344.0</td>\n",
       "      <td>9.0</td>\n",
       "      <td>26.0</td>\n",
       "      <td>0.990232</td>\n",
       "      <td>1.0</td>\n",
       "      <td>0.221831</td>\n",
       "      <td>1.0</td>\n",
       "      <td>170.00</td>\n",
       "      <td>0.0</td>\n",
       "      <td>1.0</td>\n",
       "      <td>0.0</td>\n",
       "      <td>1.0</td>\n",
       "    </tr>\n",
       "  </tbody>\n",
       "</table>\n",
       "</div>"
      ],
      "text/plain": [
       "   lead_time  arrival_date_month  arrival_date_day_of_month   country  \\\n",
       "0      414.0                12.0                        5.0  0.990232   \n",
       "1        0.0                10.0                        6.0 -0.882612   \n",
       "2      106.0                 5.0                       29.0 -1.239021   \n",
       "3       35.0                 6.0                       21.0  0.990232   \n",
       "4      344.0                 9.0                       26.0  0.990232   \n",
       "\n",
       "   previous_cancellations  assigned_room_type  booking_changes     adr  \\\n",
       "0                     1.0            0.221831              0.0   62.00   \n",
       "1                     0.0           -0.218601              0.0  216.00   \n",
       "2                     0.0            0.221831              0.0   80.75   \n",
       "3                     0.0           -0.778220              1.0  107.10   \n",
       "4                     1.0            0.221831              1.0  170.00   \n",
       "\n",
       "   total_of_special_requests  customer_Transient  customer_Transient-Party  \\\n",
       "0                        0.0                 1.0                       0.0   \n",
       "1                        0.0                 1.0                       0.0   \n",
       "2                        1.0                 0.0                       1.0   \n",
       "3                        1.0                 1.0                       0.0   \n",
       "4                        0.0                 1.0                       0.0   \n",
       "\n",
       "   market_segment_Groups  \n",
       "0                    1.0  \n",
       "1                    0.0  \n",
       "2                    0.0  \n",
       "3                    0.0  \n",
       "4                    1.0  "
      ]
     },
     "execution_count": 15,
     "metadata": {},
     "output_type": "execute_result"
    }
   ],
   "source": [
    "X_test_rfe.head()"
   ]
  },
  {
   "cell_type": "markdown",
   "metadata": {},
   "source": [
    "---"
   ]
  },
  {
   "cell_type": "markdown",
   "metadata": {},
   "source": [
    "| **SVM**|\n",
    "| :---: |"
   ]
  },
  {
   "cell_type": "markdown",
   "metadata": {},
   "source": [
    "Modelo sin aplicar Feature Selection:"
   ]
  },
  {
   "cell_type": "code",
   "execution_count": 24,
   "metadata": {},
   "outputs": [
    {
     "name": "stdout",
     "output_type": "stream",
     "text": [
      "{'svm__C': 10, 'svm__gamma': 'auto', 'svm__kernel': 'rbf'}\n",
      "0.8448082803006217\n"
     ]
    }
   ],
   "source": [
    "# Intenté poner más opciones de parámetros (incluyendo un kernel polinómico), pero después de dejarlo toda la noche, seguía sin darme un resultado.\n",
    "# Best params --> {'svm__C': 10, 'svm__gamma': 'auto', 'svm__kernel': 'rbf'}\n",
    "\n",
    "svm = Pipeline([(\"scaler\", StandardScaler()),\n",
    "                (\"svm\", SVC())])  \n",
    "\n",
    "svm_params = { \"svm__C\": [0.2, 0.4, 0.6, 0.8, 10],# parámetro de regularización\n",
    "            \"svm__kernel\": [\"rbf\"],          # kernel\n",
    "            \"svm__gamma\": [\"auto\"]}                 \n",
    "\n",
    "grid_svm = GridSearchCV(svm, svm_params,\n",
    "                                cv = 10,\n",
    "                                scoring = \"accuracy\",\n",
    "                                verbose = 0,\n",
    "                                n_jobs = -1)\n",
    "\n",
    "grid_svm.fit(X_train, y_train)\n",
    "print(grid_svm.best_params_)\n",
    "print(grid_svm.best_score_)"
   ]
  },
  {
   "cell_type": "code",
   "execution_count": 17,
   "metadata": {},
   "outputs": [
    {
     "name": "stdout",
     "output_type": "stream",
     "text": [
      "{'svm__C': 10, 'svm__gamma': 'auto', 'svm__kernel': 'rbf'}\n",
      "0.8448082803006217\n"
     ]
    }
   ],
   "source": [
    "# El mejor estimador de arriba (para no volver a ejecutar la celda de arriba)\n",
    "\n",
    "svm = Pipeline([(\"scaler\", StandardScaler()),\n",
    "                (\"svm\", SVC())])  \n",
    "\n",
    "svm_params = { \"svm__C\": [10],\n",
    "            \"svm__kernel\": [\"rbf\"],       \n",
    "            \"svm__gamma\": [\"auto\"]}                 \n",
    "\n",
    "grid_svm = GridSearchCV(svm, svm_params,\n",
    "                                cv = 10,\n",
    "                                scoring = \"accuracy\",\n",
    "                                verbose = 0,\n",
    "                                n_jobs = -1)\n",
    "\n",
    "grid_svm.fit(X_train, y_train)\n",
    "print(grid_svm.best_params_)\n",
    "print(grid_svm.best_score_)"
   ]
  },
  {
   "cell_type": "code",
   "execution_count": 18,
   "metadata": {},
   "outputs": [
    {
     "name": "stdout",
     "output_type": "stream",
     "text": [
      "Train:\n",
      "Accuracy 0.8610362938522659\n",
      "Precision 0.8695163104611924\n",
      "F1 0.8296216796350951\n",
      "AUC 0.8523479363388324\n",
      "\n",
      "Test:\n",
      "Accuracy 0.8477646108268246\n",
      "Precision 0.8491026311204043\n",
      "F1 0.8116931789789289\n",
      "AUC 0.8382778009398171\n"
     ]
    }
   ],
   "source": [
    "# Hay un poco de overfitting --> probamos con el dataset de feature selection (quitamos ruifo)\n",
    "\n",
    "svm_train_preds = grid_svm.predict(X_train)\n",
    "svm_test_preds = grid_svm.predict(X_test)\n",
    "\n",
    "print(\"Train:\")\n",
    "metricas_print(svm_train_preds, y_train)\n",
    "print()\n",
    "print(\"Test:\")\n",
    "metricas_print(svm_test_preds, y_test)"
   ]
  },
  {
   "cell_type": "markdown",
   "metadata": {},
   "source": [
    "Modelo aplicando Feature Selection:"
   ]
  },
  {
   "cell_type": "code",
   "execution_count": 26,
   "metadata": {},
   "outputs": [
    {
     "name": "stdout",
     "output_type": "stream",
     "text": [
      "{'svm__C': 10, 'svm__gamma': 'auto', 'svm__kernel': 'rbf'}\n",
      "0.8448082803006217\n"
     ]
    }
   ],
   "source": [
    "# Best params --> {'svm__C': 10, 'svm__gamma': 'auto', 'svm__kernel': 'rbf'} / Mismos que sin feature selection\n",
    "\n",
    "svm_rfe = Pipeline([(\"scaler\", StandardScaler()),\n",
    "                (\"svm\", SVC())])  \n",
    "\n",
    "svm_params_rfe = { \"svm__C\": [0.2, 0.4, 0.6, 0.8, 10],# parámetro de regularización\n",
    "            \"svm__kernel\": [\"rbf\"],          # kernel\n",
    "            \"svm__gamma\": [\"auto\"]}                 \n",
    "\n",
    "grid_svm_rfe = GridSearchCV(svm_rfe, svm_params_rfe,\n",
    "                                cv = 10,\n",
    "                                scoring = \"accuracy\",\n",
    "                                verbose = 0,\n",
    "                                n_jobs = -1)\n",
    "\n",
    "grid_svm_rfe.fit(X_train_rfe, y_train)\n",
    "print(grid_svm_rfe.best_params_)\n",
    "print(grid_svm_rfe.best_score_) # 0.02 puntos menos que sin feature selection"
   ]
  },
  {
   "cell_type": "code",
   "execution_count": 20,
   "metadata": {},
   "outputs": [
    {
     "name": "stdout",
     "output_type": "stream",
     "text": [
      "{'svm__C': 10, 'svm__gamma': 'auto', 'svm__kernel': 'rbf'}\n",
      "0.821223883904409\n"
     ]
    }
   ],
   "source": [
    "# Para no volver a ejecutar lo anterior, ejecutamos el mejor estimador:\n",
    "\n",
    "svm_rfe = Pipeline([(\"scaler\", StandardScaler()),\n",
    "                (\"svm\", SVC())])  \n",
    "\n",
    "svm_params_rfe = { \"svm__C\": [10],\n",
    "            \"svm__kernel\": [\"rbf\"],          # kernel\n",
    "            \"svm__gamma\": [\"auto\"]}                 \n",
    "\n",
    "grid_svm_rfe = GridSearchCV(svm_rfe, svm_params_rfe,\n",
    "                                cv = 10,\n",
    "                                scoring = \"accuracy\",\n",
    "                                verbose = 0,\n",
    "                                n_jobs = -1)\n",
    "\n",
    "grid_svm_rfe.fit(X_train_rfe, y_train)\n",
    "print(grid_svm_rfe.best_params_)\n",
    "print(grid_svm_rfe.best_score_)"
   ]
  },
  {
   "cell_type": "code",
   "execution_count": 21,
   "metadata": {},
   "outputs": [
    {
     "name": "stdout",
     "output_type": "stream",
     "text": [
      "Train:\n",
      "Accuracy 0.8286310686149081\n",
      "Precision 0.8526031731261341\n",
      "F1 0.782617979927397\n",
      "AUC 0.8151286814540766\n",
      "\n",
      "Test:\n",
      "Accuracy 0.8279692970643684\n",
      "Precision 0.8462973325872039\n",
      "F1 0.7802906526786483\n",
      "AUC 0.8139214049557777\n"
     ]
    }
   ],
   "source": [
    "# Empeoran un poco los scorings con feature selection, pero mejora el overfitting (scorings más similares entre train y test)\n",
    "\n",
    "svm_train_preds_rfe = grid_svm_rfe.predict(X_train_rfe)\n",
    "svm_test_preds_rfe = grid_svm_rfe.predict(X_test_rfe)\n",
    "\n",
    "print(\"Train:\")\n",
    "metricas_print(svm_train_preds_rfe, y_train)\n",
    "print()\n",
    "print(\"Test:\")\n",
    "metricas_print(svm_test_preds_rfe, y_test)"
   ]
  },
  {
   "cell_type": "markdown",
   "metadata": {},
   "source": [
    "-----"
   ]
  },
  {
   "cell_type": "markdown",
   "metadata": {},
   "source": [
    "| **Ensembles** |\n",
    "| :---:|\n",
    "\n",
    "Funcionan muy bien si hay overfitting"
   ]
  },
  {
   "cell_type": "markdown",
   "metadata": {},
   "source": [
    "| **Bagging Random Forest** |\n",
    "|:---:|"
   ]
  },
  {
   "cell_type": "markdown",
   "metadata": {},
   "source": [
    "Sin Feature Selection:"
   ]
  },
  {
   "cell_type": "code",
   "execution_count": 113,
   "metadata": {},
   "outputs": [
    {
     "name": "stderr",
     "output_type": "stream",
     "text": [
      "/Library/Frameworks/Python.framework/Versions/3.7/lib/python3.7/site-packages/joblib/externals/loky/process_executor.py:705: UserWarning: A worker stopped while some jobs were given to the executor. This can be caused by a too short worker timeout or by a memory leak.\n",
      "  \"timeout or by a memory leak.\", UserWarning\n"
     ]
    },
    {
     "name": "stdout",
     "output_type": "stream",
     "text": [
      "BaggingClassifier(n_estimators=300)\n",
      "{'n_estimators': 300}\n",
      "0.882398328229838\n"
     ]
    }
   ],
   "source": [
    "# No me di cuenta y sobreescribí esto, no lo vuelvo a ejecutar porque nos da lo mismo el código sobreescrito\n",
    "\n",
    "bagging_rf = BaggingClassifier()\n",
    "\n",
    "bagging_rf_params =  { \"n_estimators\": [100, 200, 300, 400], # n árboles en paralelo\n",
    "                       }\n",
    "\n",
    "grid_bagging_rf = GridSearchCV(bagging_rf, bagging_rf_params,   # Por defecto, base_estimator: DecisionTreeClassifie\n",
    "                                cv = 10, # cross validation\n",
    "                                scoring = \"accuracy\",\n",
    "                                verbose = 0,\n",
    "                                n_jobs = -1)\n",
    "\n",
    "# Entrenamos\n",
    "grid_bagging_rf.fit(X_train, y_train)    \n",
    "\n",
    "print(grid_bagging_rf.best_estimator_)\n",
    "print(grid_bagging_rf.best_params_) \n",
    "print(grid_bagging_rf.best_score_)"
   ]
  },
  {
   "cell_type": "code",
   "execution_count": 115,
   "metadata": {},
   "outputs": [
    {
     "name": "stdout",
     "output_type": "stream",
     "text": [
      "Train:\n",
      "Accuracy 0.9950340044441451\n",
      "Precision 0.9958811881188119\n",
      "F1 0.994168462253148\n",
      "AUC 0.9947044048475068\n",
      "\n",
      "Test:\n",
      "Accuracy 0.889307837328306\n",
      "Precision 0.8822751322751323\n",
      "F1 0.8665151023059435\n",
      "AUC 0.8841816091557526\n"
     ]
    }
   ],
   "source": [
    "bagging_train_preds = grid_bagging_rf.best_estimator_.predict(X_train)\n",
    "bagging_test_preds = grid_bagging_rf.best_estimator_.predict(X_test)\n",
    "\n",
    "print(\"Train:\")\n",
    "metricas_print(bagging_train_preds, y_train)\n",
    "print()\n",
    "print(\"Test:\")\n",
    "metricas_print(bagging_test_preds, y_test)\n",
    "\n",
    "# Diferencia entre train y test (OVERFITTING) --> probamos a añadir parámetro 'max_samples'"
   ]
  },
  {
   "cell_type": "code",
   "execution_count": 23,
   "metadata": {},
   "outputs": [
    {
     "name": "stdout",
     "output_type": "stream",
     "text": [
      "BaggingClassifier(max_samples=125, n_estimators=300)\n",
      "{'max_samples': 125, 'n_estimators': 300}\n",
      "0.8021176161548154\n"
     ]
    }
   ],
   "source": [
    "# ELEGIMOS EL ESTIMADOR DE ESTE GRIDSEARCH PARA BAGGING --> mejor resultados entre train y test, aunque el scoring sea más bajo\n",
    "'''\n",
    "BaggingClassifier(max_samples=125, n_estimators=300)\n",
    "{'max_samples': 125, 'n_estimators': 300}\n",
    "0.8021176161548154\n",
    "'''\n",
    "\n",
    "bagging_rf = BaggingClassifier()\n",
    "\n",
    "bagging_rf_params_2 =  { \"n_estimators\": [100, 150, 200, 250, 300],\n",
    "                        \"max_samples\": [25, 50, 75, 100, 125] # probamos añadiendo un máximo de muestras --> bajan las métricas, pero más similares entre train y test\n",
    "}\n",
    "\n",
    "grid_bagging_rf_2 = GridSearchCV(bagging_rf, bagging_rf_params_2,   # Por defecto, base_estimator: DecisionTreeClassifie\n",
    "                                cv = 10, # cross validation\n",
    "                                scoring = \"accuracy\",\n",
    "                                verbose = 0,\n",
    "                                n_jobs = -1)\n",
    "\n",
    "# Entrenamos\n",
    "grid_bagging_rf_2.fit(X_train, y_train)   \n",
    "\n",
    "print(grid_bagging_rf_2.best_estimator_)\n",
    "print(grid_bagging_rf_2.best_params_) \n",
    "print(grid_bagging_rf_2.best_score_)"
   ]
  },
  {
   "cell_type": "code",
   "execution_count": 24,
   "metadata": {},
   "outputs": [
    {
     "name": "stdout",
     "output_type": "stream",
     "text": [
      "Train:\n",
      "Accuracy 0.8045754494646825\n",
      "Precision 0.8374299478910628\n",
      "F1 0.7458569583397185\n",
      "AUC 0.7876317422261601\n",
      "\n",
      "Test:\n",
      "Accuracy 0.8074333423107999\n",
      "Precision 0.8358297201418999\n",
      "F1 0.7478398871451244\n",
      "AUC 0.7897851763807466\n"
     ]
    }
   ],
   "source": [
    "bagging_train_preds_2 = grid_bagging_rf_2.best_estimator_.predict(X_train)\n",
    "bagging_test_preds_2 = grid_bagging_rf_2.best_estimator_.predict(X_test)\n",
    "\n",
    "print(\"Train:\")\n",
    "metricas_print(bagging_train_preds_2, y_train)\n",
    "print()\n",
    "print(\"Test:\")\n",
    "metricas_print(bagging_test_preds_2, y_test)\n",
    "\n",
    "# No hay diferencias casi entre train y test "
   ]
  },
  {
   "cell_type": "code",
   "execution_count": 26,
   "metadata": {},
   "outputs": [
    {
     "name": "stdout",
     "output_type": "stream",
     "text": [
      "Train:\n",
      "Accuracy 0.8045754494646825\n",
      "Precision 0.8374299478910628\n",
      "F1 0.7458569583397185\n",
      "AUC 0.7876317422261601\n",
      "\n",
      "Test:\n",
      "Accuracy 0.8074333423107999\n",
      "Precision 0.8358297201418999\n",
      "F1 0.7478398871451244\n",
      "AUC 0.7897851763807466\n"
     ]
    }
   ],
   "source": [
    "bagging_train_preds_2 = grid_bagging_rf_2.best_estimator_.predict(X_train)\n",
    "bagging_test_preds_2 = grid_bagging_rf_2.best_estimator_.predict(X_test)\n",
    "\n",
    "print(\"Train:\")\n",
    "metricas_print(bagging_train_preds_2, y_train)\n",
    "print()\n",
    "print(\"Test:\")\n",
    "metricas_print(bagging_test_preds_2, y_test)\n",
    "\n",
    "# No hay diferencias casi entre train y test "
   ]
  },
  {
   "cell_type": "markdown",
   "metadata": {},
   "source": [
    "Aplicamos feature selection para ver si mejora:"
   ]
  },
  {
   "cell_type": "code",
   "execution_count": 25,
   "metadata": {},
   "outputs": [
    {
     "name": "stdout",
     "output_type": "stream",
     "text": [
      "BaggingClassifier(max_samples=125, n_estimators=300)\n",
      "{'max_samples': 125, 'n_estimators': 300}\n",
      "0.7926064805605286\n"
     ]
    }
   ],
   "source": [
    "bagging_rf_params_3 =  { \"n_estimators\": [100, 150, 200, 250, 300],\n",
    "                        \"max_samples\": [25, 50, 75, 100, 125] \n",
    "}\n",
    "\n",
    "grid_bagging_rf_3 = GridSearchCV(bagging_rf, bagging_rf_params_3,   \n",
    "                                cv = 10, \n",
    "                                scoring = \"accuracy\",\n",
    "                                verbose = 0,\n",
    "                                n_jobs = -1)\n",
    "\n",
    "# Entrenamos\n",
    "grid_bagging_rf_3.fit(X_train_rfe, y_train)   \n",
    "\n",
    "print(grid_bagging_rf_3.best_estimator_) # mismo estimador\n",
    "print(grid_bagging_rf_3.best_params_) \n",
    "print(grid_bagging_rf_3.best_score_) # baja el score"
   ]
  },
  {
   "cell_type": "code",
   "execution_count": 28,
   "metadata": {},
   "outputs": [
    {
     "name": "stdout",
     "output_type": "stream",
     "text": [
      "Train:\n",
      "Accuracy 0.7951653087334186\n",
      "Precision 0.8319971764231332\n",
      "F1 0.7306176665928713\n",
      "AUC 0.7767268697686306\n",
      "\n",
      "Test:\n",
      "Accuracy 0.8021815243738217\n",
      "Precision 0.8382771231206827\n",
      "F1 0.7374441465594281\n",
      "AUC 0.782766768705197\n"
     ]
    }
   ],
   "source": [
    "# Scoring casi igual que sin feature selection --> aunque este un poco más bajo, seleccionamos el anterior (sin feature selection)\n",
    "\n",
    "bagging_train_preds_3 = grid_bagging_rf_3.best_estimator_.predict(X_train_rfe)\n",
    "bagging_test_preds_3 = grid_bagging_rf_3.best_estimator_.predict(X_test_rfe)\n",
    "\n",
    "print(\"Train:\")\n",
    "metricas_print(bagging_train_preds_3, y_train)\n",
    "print()\n",
    "print(\"Test:\")\n",
    "metricas_print(bagging_test_preds_3, y_test) "
   ]
  },
  {
   "cell_type": "markdown",
   "metadata": {},
   "source": [
    "| **Gradient Boosting Classifier** |\n",
    "|:---:|"
   ]
  },
  {
   "cell_type": "code",
   "execution_count": 43,
   "metadata": {},
   "outputs": [
    {
     "name": "stdout",
     "output_type": "stream",
     "text": [
      "GradientBoostingClassifier(n_estimators=400)\n",
      "{'loss': 'deviance', 'n_estimators': 400}\n",
      "0.8427712744342941\n"
     ]
    }
   ],
   "source": [
    "# MEJOR ESTIMADOR:\n",
    "'''\n",
    "GradientBoostingClassifier(n_estimators=400)\n",
    "{'loss': 'deviance', 'n_estimators': 400}\n",
    "'''\n",
    "\n",
    "gbc = GradientBoostingClassifier()\n",
    "\n",
    "gbc_params = {'loss': ['deviance', 'exponential'],\n",
    "                'n_estimators': [200, 300, 400]}\n",
    "\n",
    "gbc = GridSearchCV(gbc, gbc_params,\n",
    "                                cv = 10, # cross validation\n",
    "                                scoring = \"accuracy\",\n",
    "                                verbose = 0,\n",
    "                                n_jobs = -1)\n",
    "\n",
    "# Entrenamos\n",
    "gbc.fit(X_train, y_train)  \n",
    "\n",
    "print(gbc.best_estimator_)\n",
    "print(gbc.best_params_) \n",
    "print(gbc.best_score_)"
   ]
  },
  {
   "cell_type": "code",
   "execution_count": 44,
   "metadata": {},
   "outputs": [
    {
     "name": "stdout",
     "output_type": "stream",
     "text": [
      "Train:\n",
      "Accuracy 0.8489495656858124\n",
      "Precision 0.8479925144607009\n",
      "F1 0.8163114905115765\n",
      "AUC 0.8410007548592813\n",
      "\n",
      "Test:\n",
      "Accuracy 0.846215997845408\n",
      "Precision 0.842503438789546\n",
      "F1 0.8109897384971864\n",
      "AUC 0.8375192028504971\n"
     ]
    }
   ],
   "source": [
    "gbc_train_preds = gbc.best_estimator_.predict(X_train)\n",
    "gbc_test_preds = gbc.best_estimator_.predict(X_test)\n",
    "\n",
    "print(\"Train:\")\n",
    "metricas_print(gbc_train_preds, y_train)\n",
    "print()\n",
    "print(\"Test:\")\n",
    "metricas_print(gbc_test_preds, y_test)"
   ]
  },
  {
   "cell_type": "code",
   "execution_count": 45,
   "metadata": {},
   "outputs": [
    {
     "data": {
      "text/html": [
       "<div>\n",
       "<style scoped>\n",
       "    .dataframe tbody tr th:only-of-type {\n",
       "        vertical-align: middle;\n",
       "    }\n",
       "\n",
       "    .dataframe tbody tr th {\n",
       "        vertical-align: top;\n",
       "    }\n",
       "\n",
       "    .dataframe thead th {\n",
       "        text-align: right;\n",
       "    }\n",
       "</style>\n",
       "<table border=\"1\" class=\"dataframe\">\n",
       "  <thead>\n",
       "    <tr style=\"text-align: right;\">\n",
       "      <th></th>\n",
       "      <th>Importances</th>\n",
       "    </tr>\n",
       "  </thead>\n",
       "  <tbody>\n",
       "    <tr>\n",
       "      <th>country</th>\n",
       "      <td>0.286585</td>\n",
       "    </tr>\n",
       "    <tr>\n",
       "      <th>lead_time</th>\n",
       "      <td>0.202057</td>\n",
       "    </tr>\n",
       "    <tr>\n",
       "      <th>total_of_special_requests</th>\n",
       "      <td>0.131312</td>\n",
       "    </tr>\n",
       "    <tr>\n",
       "      <th>market_segment_Online TA</th>\n",
       "      <td>0.083671</td>\n",
       "    </tr>\n",
       "    <tr>\n",
       "      <th>previous_cancellations</th>\n",
       "      <td>0.045082</td>\n",
       "    </tr>\n",
       "  </tbody>\n",
       "</table>\n",
       "</div>"
      ],
      "text/plain": [
       "                           Importances\n",
       "country                       0.286585\n",
       "lead_time                     0.202057\n",
       "total_of_special_requests     0.131312\n",
       "market_segment_Online TA      0.083671\n",
       "previous_cancellations        0.045082"
      ]
     },
     "execution_count": 45,
     "metadata": {},
     "output_type": "execute_result"
    }
   ],
   "source": [
    "# FEATURE IMPORTANCE\n",
    "\n",
    "feat_importance_gbc = gbc.best_estimator_.feature_importances_\n",
    "\n",
    "feat_importance_gbc_df = pd.DataFrame(feat_importance_gbc,\n",
    "                             index = X_train.columns,\n",
    "                            columns = [\"Importances\"]).sort_values('Importances', ascending=False)\n",
    "feat_importance_gbc_df.head()"
   ]
  },
  {
   "cell_type": "code",
   "execution_count": 46,
   "metadata": {},
   "outputs": [
    {
     "data": {
      "application/vnd.plotly.v1+json": {
       "config": {
        "plotlyServerURL": "https://plot.ly"
       },
       "data": [
        {
         "marker": {
          "color": "#4620ff"
         },
         "name": "Feature Importance Gradient Boosting Classifier",
         "type": "bar",
         "x": [
          "country",
          "lead_time",
          "total_of_special_requests",
          "market_segment_Online TA",
          "previous_cancellations",
          "booking_changes",
          "customer_Transient",
          "adr",
          "customer_Transient-Party",
          "market_segment_Groups",
          "assigned_room_type",
          "required_car_parking_spaces",
          "previous_bookings_not_canceled",
          "arrival_date_month",
          "stays_in_week_nights",
          "stays_in_weekend_nights",
          "arrival_date_day_of_month",
          "market_segment_Offline TA/TO",
          "meal_HB",
          "meal_SC",
          "distribution_channel_TA/TO",
          "days_in_waiting_list",
          "adults",
          "market_segment_Direct",
          "children",
          "meal_FB",
          "market_segment_Corporate",
          "distribution_channel_GDS",
          "is_repeated_guest",
          "market_segment_Complementary",
          "distribution_channel_Direct",
          "customer_Group",
          "babies"
         ],
         "y": [
          0.2865850039026513,
          0.20205666717955595,
          0.13131163136228352,
          0.0836711357222081,
          0.04508242159722538,
          0.04235965069434928,
          0.04181329347531621,
          0.03436498077679707,
          0.03225683719206271,
          0.02524597748951344,
          0.015187676295496036,
          0.012960553559449127,
          0.00851248900972088,
          0.00783583476402082,
          0.004355584414176503,
          0.004335042024339006,
          0.004188117423078187,
          0.003276664034821167,
          0.0029951046805789952,
          0.0023472516259123227,
          0.0022129861045323187,
          0.001807669765299928,
          0.0015786929121966895,
          0.0010357735556353837,
          0.0008491039369158401,
          0.0004392492685095778,
          0.00040259125344253356,
          0.00035828182127163805,
          0.00018939712677739127,
          0.00018265232649794042,
          0.00009658877335268852,
          0.00007784933252736623,
          0.000027246599484817568
         ]
        }
       ],
       "layout": {
        "barmode": "group",
        "font": {
         "family": "Arial"
        },
        "paper_bgcolor": "#efefef",
        "plot_bgcolor": "#efefef",
        "showlegend": false,
        "template": {
         "data": {
          "bar": [
           {
            "error_x": {
             "color": "#2a3f5f"
            },
            "error_y": {
             "color": "#2a3f5f"
            },
            "marker": {
             "line": {
              "color": "#E5ECF6",
              "width": 0.5
             },
             "pattern": {
              "fillmode": "overlay",
              "size": 10,
              "solidity": 0.2
             }
            },
            "type": "bar"
           }
          ],
          "barpolar": [
           {
            "marker": {
             "line": {
              "color": "#E5ECF6",
              "width": 0.5
             },
             "pattern": {
              "fillmode": "overlay",
              "size": 10,
              "solidity": 0.2
             }
            },
            "type": "barpolar"
           }
          ],
          "carpet": [
           {
            "aaxis": {
             "endlinecolor": "#2a3f5f",
             "gridcolor": "white",
             "linecolor": "white",
             "minorgridcolor": "white",
             "startlinecolor": "#2a3f5f"
            },
            "baxis": {
             "endlinecolor": "#2a3f5f",
             "gridcolor": "white",
             "linecolor": "white",
             "minorgridcolor": "white",
             "startlinecolor": "#2a3f5f"
            },
            "type": "carpet"
           }
          ],
          "choropleth": [
           {
            "colorbar": {
             "outlinewidth": 0,
             "ticks": ""
            },
            "type": "choropleth"
           }
          ],
          "contour": [
           {
            "colorbar": {
             "outlinewidth": 0,
             "ticks": ""
            },
            "colorscale": [
             [
              0,
              "#0d0887"
             ],
             [
              0.1111111111111111,
              "#46039f"
             ],
             [
              0.2222222222222222,
              "#7201a8"
             ],
             [
              0.3333333333333333,
              "#9c179e"
             ],
             [
              0.4444444444444444,
              "#bd3786"
             ],
             [
              0.5555555555555556,
              "#d8576b"
             ],
             [
              0.6666666666666666,
              "#ed7953"
             ],
             [
              0.7777777777777778,
              "#fb9f3a"
             ],
             [
              0.8888888888888888,
              "#fdca26"
             ],
             [
              1,
              "#f0f921"
             ]
            ],
            "type": "contour"
           }
          ],
          "contourcarpet": [
           {
            "colorbar": {
             "outlinewidth": 0,
             "ticks": ""
            },
            "type": "contourcarpet"
           }
          ],
          "heatmap": [
           {
            "colorbar": {
             "outlinewidth": 0,
             "ticks": ""
            },
            "colorscale": [
             [
              0,
              "#0d0887"
             ],
             [
              0.1111111111111111,
              "#46039f"
             ],
             [
              0.2222222222222222,
              "#7201a8"
             ],
             [
              0.3333333333333333,
              "#9c179e"
             ],
             [
              0.4444444444444444,
              "#bd3786"
             ],
             [
              0.5555555555555556,
              "#d8576b"
             ],
             [
              0.6666666666666666,
              "#ed7953"
             ],
             [
              0.7777777777777778,
              "#fb9f3a"
             ],
             [
              0.8888888888888888,
              "#fdca26"
             ],
             [
              1,
              "#f0f921"
             ]
            ],
            "type": "heatmap"
           }
          ],
          "heatmapgl": [
           {
            "colorbar": {
             "outlinewidth": 0,
             "ticks": ""
            },
            "colorscale": [
             [
              0,
              "#0d0887"
             ],
             [
              0.1111111111111111,
              "#46039f"
             ],
             [
              0.2222222222222222,
              "#7201a8"
             ],
             [
              0.3333333333333333,
              "#9c179e"
             ],
             [
              0.4444444444444444,
              "#bd3786"
             ],
             [
              0.5555555555555556,
              "#d8576b"
             ],
             [
              0.6666666666666666,
              "#ed7953"
             ],
             [
              0.7777777777777778,
              "#fb9f3a"
             ],
             [
              0.8888888888888888,
              "#fdca26"
             ],
             [
              1,
              "#f0f921"
             ]
            ],
            "type": "heatmapgl"
           }
          ],
          "histogram": [
           {
            "marker": {
             "pattern": {
              "fillmode": "overlay",
              "size": 10,
              "solidity": 0.2
             }
            },
            "type": "histogram"
           }
          ],
          "histogram2d": [
           {
            "colorbar": {
             "outlinewidth": 0,
             "ticks": ""
            },
            "colorscale": [
             [
              0,
              "#0d0887"
             ],
             [
              0.1111111111111111,
              "#46039f"
             ],
             [
              0.2222222222222222,
              "#7201a8"
             ],
             [
              0.3333333333333333,
              "#9c179e"
             ],
             [
              0.4444444444444444,
              "#bd3786"
             ],
             [
              0.5555555555555556,
              "#d8576b"
             ],
             [
              0.6666666666666666,
              "#ed7953"
             ],
             [
              0.7777777777777778,
              "#fb9f3a"
             ],
             [
              0.8888888888888888,
              "#fdca26"
             ],
             [
              1,
              "#f0f921"
             ]
            ],
            "type": "histogram2d"
           }
          ],
          "histogram2dcontour": [
           {
            "colorbar": {
             "outlinewidth": 0,
             "ticks": ""
            },
            "colorscale": [
             [
              0,
              "#0d0887"
             ],
             [
              0.1111111111111111,
              "#46039f"
             ],
             [
              0.2222222222222222,
              "#7201a8"
             ],
             [
              0.3333333333333333,
              "#9c179e"
             ],
             [
              0.4444444444444444,
              "#bd3786"
             ],
             [
              0.5555555555555556,
              "#d8576b"
             ],
             [
              0.6666666666666666,
              "#ed7953"
             ],
             [
              0.7777777777777778,
              "#fb9f3a"
             ],
             [
              0.8888888888888888,
              "#fdca26"
             ],
             [
              1,
              "#f0f921"
             ]
            ],
            "type": "histogram2dcontour"
           }
          ],
          "mesh3d": [
           {
            "colorbar": {
             "outlinewidth": 0,
             "ticks": ""
            },
            "type": "mesh3d"
           }
          ],
          "parcoords": [
           {
            "line": {
             "colorbar": {
              "outlinewidth": 0,
              "ticks": ""
             }
            },
            "type": "parcoords"
           }
          ],
          "pie": [
           {
            "automargin": true,
            "type": "pie"
           }
          ],
          "scatter": [
           {
            "fillpattern": {
             "fillmode": "overlay",
             "size": 10,
             "solidity": 0.2
            },
            "type": "scatter"
           }
          ],
          "scatter3d": [
           {
            "line": {
             "colorbar": {
              "outlinewidth": 0,
              "ticks": ""
             }
            },
            "marker": {
             "colorbar": {
              "outlinewidth": 0,
              "ticks": ""
             }
            },
            "type": "scatter3d"
           }
          ],
          "scattercarpet": [
           {
            "marker": {
             "colorbar": {
              "outlinewidth": 0,
              "ticks": ""
             }
            },
            "type": "scattercarpet"
           }
          ],
          "scattergeo": [
           {
            "marker": {
             "colorbar": {
              "outlinewidth": 0,
              "ticks": ""
             }
            },
            "type": "scattergeo"
           }
          ],
          "scattergl": [
           {
            "marker": {
             "colorbar": {
              "outlinewidth": 0,
              "ticks": ""
             }
            },
            "type": "scattergl"
           }
          ],
          "scattermapbox": [
           {
            "marker": {
             "colorbar": {
              "outlinewidth": 0,
              "ticks": ""
             }
            },
            "type": "scattermapbox"
           }
          ],
          "scatterpolar": [
           {
            "marker": {
             "colorbar": {
              "outlinewidth": 0,
              "ticks": ""
             }
            },
            "type": "scatterpolar"
           }
          ],
          "scatterpolargl": [
           {
            "marker": {
             "colorbar": {
              "outlinewidth": 0,
              "ticks": ""
             }
            },
            "type": "scatterpolargl"
           }
          ],
          "scatterternary": [
           {
            "marker": {
             "colorbar": {
              "outlinewidth": 0,
              "ticks": ""
             }
            },
            "type": "scatterternary"
           }
          ],
          "surface": [
           {
            "colorbar": {
             "outlinewidth": 0,
             "ticks": ""
            },
            "colorscale": [
             [
              0,
              "#0d0887"
             ],
             [
              0.1111111111111111,
              "#46039f"
             ],
             [
              0.2222222222222222,
              "#7201a8"
             ],
             [
              0.3333333333333333,
              "#9c179e"
             ],
             [
              0.4444444444444444,
              "#bd3786"
             ],
             [
              0.5555555555555556,
              "#d8576b"
             ],
             [
              0.6666666666666666,
              "#ed7953"
             ],
             [
              0.7777777777777778,
              "#fb9f3a"
             ],
             [
              0.8888888888888888,
              "#fdca26"
             ],
             [
              1,
              "#f0f921"
             ]
            ],
            "type": "surface"
           }
          ],
          "table": [
           {
            "cells": {
             "fill": {
              "color": "#EBF0F8"
             },
             "line": {
              "color": "white"
             }
            },
            "header": {
             "fill": {
              "color": "#C8D4E3"
             },
             "line": {
              "color": "white"
             }
            },
            "type": "table"
           }
          ]
         },
         "layout": {
          "annotationdefaults": {
           "arrowcolor": "#2a3f5f",
           "arrowhead": 0,
           "arrowwidth": 1
          },
          "autotypenumbers": "strict",
          "coloraxis": {
           "colorbar": {
            "outlinewidth": 0,
            "ticks": ""
           }
          },
          "colorscale": {
           "diverging": [
            [
             0,
             "#8e0152"
            ],
            [
             0.1,
             "#c51b7d"
            ],
            [
             0.2,
             "#de77ae"
            ],
            [
             0.3,
             "#f1b6da"
            ],
            [
             0.4,
             "#fde0ef"
            ],
            [
             0.5,
             "#f7f7f7"
            ],
            [
             0.6,
             "#e6f5d0"
            ],
            [
             0.7,
             "#b8e186"
            ],
            [
             0.8,
             "#7fbc41"
            ],
            [
             0.9,
             "#4d9221"
            ],
            [
             1,
             "#276419"
            ]
           ],
           "sequential": [
            [
             0,
             "#0d0887"
            ],
            [
             0.1111111111111111,
             "#46039f"
            ],
            [
             0.2222222222222222,
             "#7201a8"
            ],
            [
             0.3333333333333333,
             "#9c179e"
            ],
            [
             0.4444444444444444,
             "#bd3786"
            ],
            [
             0.5555555555555556,
             "#d8576b"
            ],
            [
             0.6666666666666666,
             "#ed7953"
            ],
            [
             0.7777777777777778,
             "#fb9f3a"
            ],
            [
             0.8888888888888888,
             "#fdca26"
            ],
            [
             1,
             "#f0f921"
            ]
           ],
           "sequentialminus": [
            [
             0,
             "#0d0887"
            ],
            [
             0.1111111111111111,
             "#46039f"
            ],
            [
             0.2222222222222222,
             "#7201a8"
            ],
            [
             0.3333333333333333,
             "#9c179e"
            ],
            [
             0.4444444444444444,
             "#bd3786"
            ],
            [
             0.5555555555555556,
             "#d8576b"
            ],
            [
             0.6666666666666666,
             "#ed7953"
            ],
            [
             0.7777777777777778,
             "#fb9f3a"
            ],
            [
             0.8888888888888888,
             "#fdca26"
            ],
            [
             1,
             "#f0f921"
            ]
           ]
          },
          "colorway": [
           "#636efa",
           "#EF553B",
           "#00cc96",
           "#ab63fa",
           "#FFA15A",
           "#19d3f3",
           "#FF6692",
           "#B6E880",
           "#FF97FF",
           "#FECB52"
          ],
          "font": {
           "color": "#2a3f5f"
          },
          "geo": {
           "bgcolor": "white",
           "lakecolor": "white",
           "landcolor": "#E5ECF6",
           "showlakes": true,
           "showland": true,
           "subunitcolor": "white"
          },
          "hoverlabel": {
           "align": "left"
          },
          "hovermode": "closest",
          "mapbox": {
           "style": "light"
          },
          "paper_bgcolor": "white",
          "plot_bgcolor": "#E5ECF6",
          "polar": {
           "angularaxis": {
            "gridcolor": "white",
            "linecolor": "white",
            "ticks": ""
           },
           "bgcolor": "#E5ECF6",
           "radialaxis": {
            "gridcolor": "white",
            "linecolor": "white",
            "ticks": ""
           }
          },
          "scene": {
           "xaxis": {
            "backgroundcolor": "#E5ECF6",
            "gridcolor": "white",
            "gridwidth": 2,
            "linecolor": "white",
            "showbackground": true,
            "ticks": "",
            "zerolinecolor": "white"
           },
           "yaxis": {
            "backgroundcolor": "#E5ECF6",
            "gridcolor": "white",
            "gridwidth": 2,
            "linecolor": "white",
            "showbackground": true,
            "ticks": "",
            "zerolinecolor": "white"
           },
           "zaxis": {
            "backgroundcolor": "#E5ECF6",
            "gridcolor": "white",
            "gridwidth": 2,
            "linecolor": "white",
            "showbackground": true,
            "ticks": "",
            "zerolinecolor": "white"
           }
          },
          "shapedefaults": {
           "line": {
            "color": "#2a3f5f"
           }
          },
          "ternary": {
           "aaxis": {
            "gridcolor": "white",
            "linecolor": "white",
            "ticks": ""
           },
           "baxis": {
            "gridcolor": "white",
            "linecolor": "white",
            "ticks": ""
           },
           "bgcolor": "#E5ECF6",
           "caxis": {
            "gridcolor": "white",
            "linecolor": "white",
            "ticks": ""
           }
          },
          "title": {
           "x": 0.05
          },
          "xaxis": {
           "automargin": true,
           "gridcolor": "white",
           "linecolor": "white",
           "ticks": "",
           "title": {
            "standoff": 15
           },
           "zerolinecolor": "white",
           "zerolinewidth": 2
          },
          "yaxis": {
           "automargin": true,
           "gridcolor": "white",
           "linecolor": "white",
           "ticks": "",
           "title": {
            "standoff": 15
           },
           "zerolinecolor": "white",
           "zerolinewidth": 2
          }
         }
        },
        "title": {
         "font": {
          "family": "Arial"
         }
        },
        "uniformtext": {
         "minsize": 12,
         "mode": "hide"
        },
        "yaxis": {
         "visible": true
        }
       }
      }
     },
     "metadata": {},
     "output_type": "display_data"
    }
   ],
   "source": [
    "# GRÁFICO PLOTLY FEATURE IMPORTANCE\n",
    "\n",
    "fig = go.Figure()\n",
    "fig.add_trace(go.Bar(name='Feature Importance Gradient Boosting Classifier', y=feat_importance_gbc_df['Importances'], \n",
    "                    x=feat_importance_gbc_df.index, marker_color = '#4620ff'))\n",
    "\n",
    "fig.update_layout(barmode='group', uniformtext_minsize=12, uniformtext_mode='hide', font_family = 'Arial', title_font_family='Arial', \n",
    "                        plot_bgcolor='#efefef', paper_bgcolor='#efefef',showlegend=False)\n",
    "\n",
    "fig.update_yaxes(visible = True)\n",
    "\n",
    "fig.show()"
   ]
  },
  {
   "cell_type": "markdown",
   "metadata": {},
   "source": [
    "Probamos con feature selection:\n",
    "\n"
   ]
  },
  {
   "cell_type": "code",
   "execution_count": 37,
   "metadata": {},
   "outputs": [
    {
     "name": "stdout",
     "output_type": "stream",
     "text": [
      "GradientBoostingClassifier(n_estimators=400)\n",
      "{'loss': 'deviance', 'n_estimators': 400}\n",
      "0.8278397706515868\n"
     ]
    }
   ],
   "source": [
    "gbc = GradientBoostingClassifier()\n",
    "\n",
    "gbc_params_fs = {'loss': ['deviance', 'exponential'],\n",
    "                'n_estimators': [200, 300, 400]}\n",
    "\n",
    "gbc_fs = GridSearchCV(gbc, gbc_params_fs,\n",
    "                                cv = 10, # cross validation\n",
    "                                scoring = \"accuracy\",\n",
    "                                verbose = 0,\n",
    "                                n_jobs = -1)\n",
    "\n",
    "# Entrenamos\n",
    "gbc_fs.fit(X_train_rfe, y_train)  \n",
    "\n",
    "print(gbc_fs.best_estimator_)\n",
    "print(gbc_fs.best_params_) \n",
    "print(gbc_fs.best_score_) # Baja 0.02 respecto a sin feature selection"
   ]
  },
  {
   "cell_type": "code",
   "execution_count": 38,
   "metadata": {},
   "outputs": [
    {
     "name": "stdout",
     "output_type": "stream",
     "text": [
      "Train:\n",
      "Accuracy 0.834876439297017\n",
      "Precision 0.8413647555399226\n",
      "F1 0.7959901000395166\n",
      "AUC 0.8246750815474947\n",
      "\n",
      "Test:\n",
      "Accuracy 0.8330864530029626\n",
      "Precision 0.8368\n",
      "F1 0.7915580593626503\n",
      "AUC 0.8220070465465796\n"
     ]
    }
   ],
   "source": [
    "# muy similar que sin feature selection, pero mejor sin\n",
    "\n",
    "gbc_fs_train_preds = gbc_fs.best_estimator_.predict(X_train_rfe)\n",
    "gbc_fs_test_preds = gbc_fs.best_estimator_.predict(X_test_rfe)\n",
    "\n",
    "print(\"Train:\")\n",
    "metricas_print(gbc_fs_train_preds, y_train)\n",
    "print()\n",
    "print(\"Test:\")\n",
    "metricas_print(gbc_fs_test_preds, y_test)"
   ]
  },
  {
   "cell_type": "markdown",
   "metadata": {},
   "source": [
    "----"
   ]
  },
  {
   "cell_type": "markdown",
   "metadata": {},
   "source": [
    "| **XG BOOST** |\n",
    "|:---:|"
   ]
  },
  {
   "cell_type": "code",
   "execution_count": 16,
   "metadata": {},
   "outputs": [
    {
     "data": {
      "text/plain": [
       "GridSearchCV(cv=10,\n",
       "             estimator=XGBClassifier(base_score=None, booster=None,\n",
       "                                     callbacks=None, colsample_bylevel=None,\n",
       "                                     colsample_bynode=None,\n",
       "                                     colsample_bytree=None,\n",
       "                                     early_stopping_rounds=None,\n",
       "                                     enable_categorical=False, eval_metric=None,\n",
       "                                     gamma=None, gpu_id=None, grow_policy=None,\n",
       "                                     importance_type=None,\n",
       "                                     interaction_constraints=None,\n",
       "                                     learning_rate=None, max_bin=None,\n",
       "                                     max_c...\n",
       "                                     max_leaves=None, min_child_weight=None,\n",
       "                                     missing=nan, monotone_constraints=None,\n",
       "                                     n_estimators=100, n_jobs=None,\n",
       "                                     num_parallel_tree=None, predictor=None,\n",
       "                                     random_state=None, reg_alpha=None,\n",
       "                                     reg_lambda=None, ...),\n",
       "             n_jobs=-1,\n",
       "             param_grid={'eval_metric': ['logloss'],\n",
       "                         'max_depth': [5, 10, 15, 20, 25],\n",
       "                         'n_estimators': [200, 300, 400],\n",
       "                         'use_label_encoder': [False], 'verbosity': [1]},\n",
       "             scoring='accuracy')"
      ]
     },
     "execution_count": 16,
     "metadata": {},
     "output_type": "execute_result"
    }
   ],
   "source": [
    "xgbc = XGBClassifier()\n",
    "\n",
    "xgbc_params = {\n",
    "            \"n_estimators\": [200, 300, 400],\n",
    "            \"max_depth\": [5, 10, 15, 20, 25],\n",
    "            \"use_label_encoder\": [False],\n",
    "            \"eval_metric\": ['logloss'],\n",
    "            \"verbosity\": [1]\n",
    "}\n",
    "\n",
    "xgbc_grid = GridSearchCV(xgbc, xgbc_params,\n",
    "                                cv = 10,\n",
    "                                scoring = \"accuracy\",\n",
    "                                verbose = 0,\n",
    "                                n_jobs = -1)\n",
    "\n",
    "xgbc_grid.fit(X_train, y_train) # n_estimators=100"
   ]
  },
  {
   "cell_type": "code",
   "execution_count": 17,
   "metadata": {},
   "outputs": [
    {
     "name": "stdout",
     "output_type": "stream",
     "text": [
      "Train:\n",
      "Accuracy 0.995017170560905\n",
      "Precision 0.99576321520491\n",
      "F1 0.9941492726122707\n",
      "AUC 0.9946998419389235\n",
      "\n",
      "Test:\n",
      "Accuracy 0.8795448424454619\n",
      "Precision 0.8723192019950124\n",
      "F1 0.8543515427827079\n",
      "AUC 0.8738201732969904\n"
     ]
    }
   ],
   "source": [
    "xgbc_train_preds = xgbc_grid.predict(X_train)\n",
    "xgbc_test_preds = xgbc_grid.predict(X_test)\n",
    "\n",
    "print(\"Train:\")\n",
    "metricas_print(xgbc_train_preds, y_train)\n",
    "print()\n",
    "print(\"Test:\")\n",
    "metricas_print(xgbc_test_preds, y_test) # vemos overfitting"
   ]
  },
  {
   "cell_type": "code",
   "execution_count": 27,
   "metadata": {},
   "outputs": [
    {
     "name": "stderr",
     "output_type": "stream",
     "text": [
      "/Library/Frameworks/Python.framework/Versions/3.7/lib/python3.7/site-packages/joblib/externals/loky/process_executor.py:705: UserWarning:\n",
      "\n",
      "A worker stopped while some jobs were given to the executor. This can be caused by a too short worker timeout or by a memory leak.\n",
      "\n"
     ]
    },
    {
     "data": {
      "text/plain": [
       "GridSearchCV(cv=10,\n",
       "             estimator=XGBClassifier(base_score=None, booster=None,\n",
       "                                     callbacks=None, colsample_bylevel=None,\n",
       "                                     colsample_bynode=None,\n",
       "                                     colsample_bytree=None,\n",
       "                                     early_stopping_rounds=None,\n",
       "                                     enable_categorical=False, eval_metric=None,\n",
       "                                     gamma=None, gpu_id=None, grow_policy=None,\n",
       "                                     importance_type=None,\n",
       "                                     interaction_constraints=None,\n",
       "                                     learning_rate=None, max_bin=None,\n",
       "                                     max_c...\n",
       "                                     max_leaves=None, min_child_weight=None,\n",
       "                                     missing=nan, monotone_constraints=None,\n",
       "                                     n_estimators=100, n_jobs=None,\n",
       "                                     num_parallel_tree=None, predictor=None,\n",
       "                                     random_state=None, reg_alpha=None,\n",
       "                                     reg_lambda=None, ...),\n",
       "             n_jobs=-1,\n",
       "             param_grid={'eval_metric': ['logloss'],\n",
       "                         'max_depth': [5, 10, 15, 20, 25],\n",
       "                         'n_estimators': [200, 300, 400],\n",
       "                         'use_label_encoder': [False], 'verbosity': [1]},\n",
       "             scoring='accuracy')"
      ]
     },
     "execution_count": 27,
     "metadata": {},
     "output_type": "execute_result"
    }
   ],
   "source": [
    "# Reducimos tamaño de parámetros por si mejorase el overfitting:\n",
    "\n",
    "xgbc = XGBClassifier()\n",
    "\n",
    "xgbc_2_params = {\n",
    "            \"n_estimators\": [100, 150, 200],\n",
    "            \"max_depth\": [1, 3, 5],\n",
    "            \"use_label_encoder\": [False],\n",
    "            \"eval_metric\": ['logloss'],\n",
    "            \"verbosity\": [1]\n",
    "}\n",
    "\n",
    "xgbc_2_grid = GridSearchCV(xgbc, xgbc_params,\n",
    "                                cv = 10,\n",
    "                                scoring = \"accuracy\",\n",
    "                                verbose = 0,\n",
    "                                n_jobs = -1)\n",
    "\n",
    "xgbc_2_grid.fit(X_train, y_train)"
   ]
  },
  {
   "cell_type": "code",
   "execution_count": 28,
   "metadata": {},
   "outputs": [
    {
     "name": "stdout",
     "output_type": "stream",
     "text": [
      "Train:\n",
      "Accuracy 0.995017170560905\n",
      "Precision 0.99576321520491\n",
      "F1 0.9941492726122707\n",
      "AUC 0.9946998419389235\n",
      "\n",
      "Test:\n",
      "Accuracy 0.8795448424454619\n",
      "Precision 0.8723192019950124\n",
      "F1 0.8543515427827079\n",
      "AUC 0.8738201732969904\n"
     ]
    }
   ],
   "source": [
    "xgbc_2_train_preds = xgbc_2_grid.predict(X_train)\n",
    "xgbc_2_test_preds = xgbc_2_grid.predict(X_test)\n",
    "\n",
    "print(\"Train:\")\n",
    "metricas_print(xgbc_2_train_preds, y_train)\n",
    "print()\n",
    "print(\"Test:\")\n",
    "metricas_print(xgbc_2_test_preds, y_test)   # sigue el overfitting"
   ]
  },
  {
   "cell_type": "code",
   "execution_count": 37,
   "metadata": {},
   "outputs": [
    {
     "data": {
      "text/html": [
       "<div>\n",
       "<style scoped>\n",
       "    .dataframe tbody tr th:only-of-type {\n",
       "        vertical-align: middle;\n",
       "    }\n",
       "\n",
       "    .dataframe tbody tr th {\n",
       "        vertical-align: top;\n",
       "    }\n",
       "\n",
       "    .dataframe thead th {\n",
       "        text-align: right;\n",
       "    }\n",
       "</style>\n",
       "<table border=\"1\" class=\"dataframe\">\n",
       "  <thead>\n",
       "    <tr style=\"text-align: right;\">\n",
       "      <th></th>\n",
       "      <th>Importances</th>\n",
       "    </tr>\n",
       "  </thead>\n",
       "  <tbody>\n",
       "    <tr>\n",
       "      <th>previous_cancellations</th>\n",
       "      <td>0.205479</td>\n",
       "    </tr>\n",
       "    <tr>\n",
       "      <th>required_car_parking_spaces</th>\n",
       "      <td>0.159493</td>\n",
       "    </tr>\n",
       "    <tr>\n",
       "      <th>market_segment_Online TA</th>\n",
       "      <td>0.106140</td>\n",
       "    </tr>\n",
       "    <tr>\n",
       "      <th>customer_Transient-Party</th>\n",
       "      <td>0.100060</td>\n",
       "    </tr>\n",
       "    <tr>\n",
       "      <th>meal_FB</th>\n",
       "      <td>0.040376</td>\n",
       "    </tr>\n",
       "  </tbody>\n",
       "</table>\n",
       "</div>"
      ],
      "text/plain": [
       "                             Importances\n",
       "previous_cancellations          0.205479\n",
       "required_car_parking_spaces     0.159493\n",
       "market_segment_Online TA        0.106140\n",
       "customer_Transient-Party        0.100060\n",
       "meal_FB                         0.040376"
      ]
     },
     "execution_count": 37,
     "metadata": {},
     "output_type": "execute_result"
    }
   ],
   "source": [
    "feat_importance_xgbc = xgbc_grid.best_estimator_.feature_importances_\n",
    "\n",
    "feat_importance_xgbc_df = pd.DataFrame(feat_importance_xgbc,\n",
    "                             index = X_train.columns,\n",
    "                            columns = [\"Importances\"]).sort_values('Importances', ascending=False)\n",
    "feat_importance_xgbc_df.head()"
   ]
  },
  {
   "cell_type": "code",
   "execution_count": 38,
   "metadata": {},
   "outputs": [
    {
     "data": {
      "application/vnd.plotly.v1+json": {
       "config": {
        "plotlyServerURL": "https://plot.ly"
       },
       "data": [
        {
         "marker": {
          "color": "#4620ff"
         },
         "name": "Feature Importance XGBoost",
         "type": "bar",
         "x": [
          "previous_cancellations",
          "required_car_parking_spaces",
          "market_segment_Online TA",
          "customer_Transient-Party",
          "meal_FB",
          "customer_Transient",
          "total_of_special_requests",
          "market_segment_Groups",
          "booking_changes",
          "market_segment_Direct",
          "country",
          "is_repeated_guest",
          "previous_bookings_not_canceled",
          "distribution_channel_GDS",
          "days_in_waiting_list",
          "meal_HB",
          "market_segment_Offline TA/TO",
          "market_segment_Complementary",
          "distribution_channel_TA/TO",
          "lead_time",
          "assigned_room_type",
          "adults",
          "meal_SC",
          "children",
          "distribution_channel_Direct",
          "arrival_date_month",
          "market_segment_Corporate",
          "stays_in_week_nights",
          "adr",
          "stays_in_weekend_nights",
          "babies",
          "arrival_date_day_of_month",
          "customer_Group"
         ],
         "y": [
          0.2054787278175354,
          0.15949328243732452,
          0.10614039748907089,
          0.10005980730056763,
          0.040376048535108566,
          0.03500808775424957,
          0.03327318653464317,
          0.028173312544822693,
          0.0260398481041193,
          0.024201298132538795,
          0.021539725363254547,
          0.02001231722533703,
          0.01896269991993904,
          0.01876804232597351,
          0.01757233776152134,
          0.015182172879576683,
          0.013644766993820667,
          0.012920246459543705,
          0.011315817013382912,
          0.010202839970588684,
          0.009440246038138866,
          0.007677681278437376,
          0.007471584714949131,
          0.0073516457341611385,
          0.006700258236378431,
          0.006678761448711157,
          0.0066500441171228886,
          0.006154600065201521,
          0.006051854230463505,
          0.005761567037552595,
          0.005415617022663355,
          0.004939329344779253,
          0.001341872033663094
         ]
        }
       ],
       "layout": {
        "barmode": "group",
        "font": {
         "family": "Arial"
        },
        "paper_bgcolor": "#efefef",
        "plot_bgcolor": "#efefef",
        "showlegend": false,
        "template": {
         "data": {
          "bar": [
           {
            "error_x": {
             "color": "#2a3f5f"
            },
            "error_y": {
             "color": "#2a3f5f"
            },
            "marker": {
             "line": {
              "color": "#E5ECF6",
              "width": 0.5
             },
             "pattern": {
              "fillmode": "overlay",
              "size": 10,
              "solidity": 0.2
             }
            },
            "type": "bar"
           }
          ],
          "barpolar": [
           {
            "marker": {
             "line": {
              "color": "#E5ECF6",
              "width": 0.5
             },
             "pattern": {
              "fillmode": "overlay",
              "size": 10,
              "solidity": 0.2
             }
            },
            "type": "barpolar"
           }
          ],
          "carpet": [
           {
            "aaxis": {
             "endlinecolor": "#2a3f5f",
             "gridcolor": "white",
             "linecolor": "white",
             "minorgridcolor": "white",
             "startlinecolor": "#2a3f5f"
            },
            "baxis": {
             "endlinecolor": "#2a3f5f",
             "gridcolor": "white",
             "linecolor": "white",
             "minorgridcolor": "white",
             "startlinecolor": "#2a3f5f"
            },
            "type": "carpet"
           }
          ],
          "choropleth": [
           {
            "colorbar": {
             "outlinewidth": 0,
             "ticks": ""
            },
            "type": "choropleth"
           }
          ],
          "contour": [
           {
            "colorbar": {
             "outlinewidth": 0,
             "ticks": ""
            },
            "colorscale": [
             [
              0,
              "#0d0887"
             ],
             [
              0.1111111111111111,
              "#46039f"
             ],
             [
              0.2222222222222222,
              "#7201a8"
             ],
             [
              0.3333333333333333,
              "#9c179e"
             ],
             [
              0.4444444444444444,
              "#bd3786"
             ],
             [
              0.5555555555555556,
              "#d8576b"
             ],
             [
              0.6666666666666666,
              "#ed7953"
             ],
             [
              0.7777777777777778,
              "#fb9f3a"
             ],
             [
              0.8888888888888888,
              "#fdca26"
             ],
             [
              1,
              "#f0f921"
             ]
            ],
            "type": "contour"
           }
          ],
          "contourcarpet": [
           {
            "colorbar": {
             "outlinewidth": 0,
             "ticks": ""
            },
            "type": "contourcarpet"
           }
          ],
          "heatmap": [
           {
            "colorbar": {
             "outlinewidth": 0,
             "ticks": ""
            },
            "colorscale": [
             [
              0,
              "#0d0887"
             ],
             [
              0.1111111111111111,
              "#46039f"
             ],
             [
              0.2222222222222222,
              "#7201a8"
             ],
             [
              0.3333333333333333,
              "#9c179e"
             ],
             [
              0.4444444444444444,
              "#bd3786"
             ],
             [
              0.5555555555555556,
              "#d8576b"
             ],
             [
              0.6666666666666666,
              "#ed7953"
             ],
             [
              0.7777777777777778,
              "#fb9f3a"
             ],
             [
              0.8888888888888888,
              "#fdca26"
             ],
             [
              1,
              "#f0f921"
             ]
            ],
            "type": "heatmap"
           }
          ],
          "heatmapgl": [
           {
            "colorbar": {
             "outlinewidth": 0,
             "ticks": ""
            },
            "colorscale": [
             [
              0,
              "#0d0887"
             ],
             [
              0.1111111111111111,
              "#46039f"
             ],
             [
              0.2222222222222222,
              "#7201a8"
             ],
             [
              0.3333333333333333,
              "#9c179e"
             ],
             [
              0.4444444444444444,
              "#bd3786"
             ],
             [
              0.5555555555555556,
              "#d8576b"
             ],
             [
              0.6666666666666666,
              "#ed7953"
             ],
             [
              0.7777777777777778,
              "#fb9f3a"
             ],
             [
              0.8888888888888888,
              "#fdca26"
             ],
             [
              1,
              "#f0f921"
             ]
            ],
            "type": "heatmapgl"
           }
          ],
          "histogram": [
           {
            "marker": {
             "pattern": {
              "fillmode": "overlay",
              "size": 10,
              "solidity": 0.2
             }
            },
            "type": "histogram"
           }
          ],
          "histogram2d": [
           {
            "colorbar": {
             "outlinewidth": 0,
             "ticks": ""
            },
            "colorscale": [
             [
              0,
              "#0d0887"
             ],
             [
              0.1111111111111111,
              "#46039f"
             ],
             [
              0.2222222222222222,
              "#7201a8"
             ],
             [
              0.3333333333333333,
              "#9c179e"
             ],
             [
              0.4444444444444444,
              "#bd3786"
             ],
             [
              0.5555555555555556,
              "#d8576b"
             ],
             [
              0.6666666666666666,
              "#ed7953"
             ],
             [
              0.7777777777777778,
              "#fb9f3a"
             ],
             [
              0.8888888888888888,
              "#fdca26"
             ],
             [
              1,
              "#f0f921"
             ]
            ],
            "type": "histogram2d"
           }
          ],
          "histogram2dcontour": [
           {
            "colorbar": {
             "outlinewidth": 0,
             "ticks": ""
            },
            "colorscale": [
             [
              0,
              "#0d0887"
             ],
             [
              0.1111111111111111,
              "#46039f"
             ],
             [
              0.2222222222222222,
              "#7201a8"
             ],
             [
              0.3333333333333333,
              "#9c179e"
             ],
             [
              0.4444444444444444,
              "#bd3786"
             ],
             [
              0.5555555555555556,
              "#d8576b"
             ],
             [
              0.6666666666666666,
              "#ed7953"
             ],
             [
              0.7777777777777778,
              "#fb9f3a"
             ],
             [
              0.8888888888888888,
              "#fdca26"
             ],
             [
              1,
              "#f0f921"
             ]
            ],
            "type": "histogram2dcontour"
           }
          ],
          "mesh3d": [
           {
            "colorbar": {
             "outlinewidth": 0,
             "ticks": ""
            },
            "type": "mesh3d"
           }
          ],
          "parcoords": [
           {
            "line": {
             "colorbar": {
              "outlinewidth": 0,
              "ticks": ""
             }
            },
            "type": "parcoords"
           }
          ],
          "pie": [
           {
            "automargin": true,
            "type": "pie"
           }
          ],
          "scatter": [
           {
            "fillpattern": {
             "fillmode": "overlay",
             "size": 10,
             "solidity": 0.2
            },
            "type": "scatter"
           }
          ],
          "scatter3d": [
           {
            "line": {
             "colorbar": {
              "outlinewidth": 0,
              "ticks": ""
             }
            },
            "marker": {
             "colorbar": {
              "outlinewidth": 0,
              "ticks": ""
             }
            },
            "type": "scatter3d"
           }
          ],
          "scattercarpet": [
           {
            "marker": {
             "colorbar": {
              "outlinewidth": 0,
              "ticks": ""
             }
            },
            "type": "scattercarpet"
           }
          ],
          "scattergeo": [
           {
            "marker": {
             "colorbar": {
              "outlinewidth": 0,
              "ticks": ""
             }
            },
            "type": "scattergeo"
           }
          ],
          "scattergl": [
           {
            "marker": {
             "colorbar": {
              "outlinewidth": 0,
              "ticks": ""
             }
            },
            "type": "scattergl"
           }
          ],
          "scattermapbox": [
           {
            "marker": {
             "colorbar": {
              "outlinewidth": 0,
              "ticks": ""
             }
            },
            "type": "scattermapbox"
           }
          ],
          "scatterpolar": [
           {
            "marker": {
             "colorbar": {
              "outlinewidth": 0,
              "ticks": ""
             }
            },
            "type": "scatterpolar"
           }
          ],
          "scatterpolargl": [
           {
            "marker": {
             "colorbar": {
              "outlinewidth": 0,
              "ticks": ""
             }
            },
            "type": "scatterpolargl"
           }
          ],
          "scatterternary": [
           {
            "marker": {
             "colorbar": {
              "outlinewidth": 0,
              "ticks": ""
             }
            },
            "type": "scatterternary"
           }
          ],
          "surface": [
           {
            "colorbar": {
             "outlinewidth": 0,
             "ticks": ""
            },
            "colorscale": [
             [
              0,
              "#0d0887"
             ],
             [
              0.1111111111111111,
              "#46039f"
             ],
             [
              0.2222222222222222,
              "#7201a8"
             ],
             [
              0.3333333333333333,
              "#9c179e"
             ],
             [
              0.4444444444444444,
              "#bd3786"
             ],
             [
              0.5555555555555556,
              "#d8576b"
             ],
             [
              0.6666666666666666,
              "#ed7953"
             ],
             [
              0.7777777777777778,
              "#fb9f3a"
             ],
             [
              0.8888888888888888,
              "#fdca26"
             ],
             [
              1,
              "#f0f921"
             ]
            ],
            "type": "surface"
           }
          ],
          "table": [
           {
            "cells": {
             "fill": {
              "color": "#EBF0F8"
             },
             "line": {
              "color": "white"
             }
            },
            "header": {
             "fill": {
              "color": "#C8D4E3"
             },
             "line": {
              "color": "white"
             }
            },
            "type": "table"
           }
          ]
         },
         "layout": {
          "annotationdefaults": {
           "arrowcolor": "#2a3f5f",
           "arrowhead": 0,
           "arrowwidth": 1
          },
          "autotypenumbers": "strict",
          "coloraxis": {
           "colorbar": {
            "outlinewidth": 0,
            "ticks": ""
           }
          },
          "colorscale": {
           "diverging": [
            [
             0,
             "#8e0152"
            ],
            [
             0.1,
             "#c51b7d"
            ],
            [
             0.2,
             "#de77ae"
            ],
            [
             0.3,
             "#f1b6da"
            ],
            [
             0.4,
             "#fde0ef"
            ],
            [
             0.5,
             "#f7f7f7"
            ],
            [
             0.6,
             "#e6f5d0"
            ],
            [
             0.7,
             "#b8e186"
            ],
            [
             0.8,
             "#7fbc41"
            ],
            [
             0.9,
             "#4d9221"
            ],
            [
             1,
             "#276419"
            ]
           ],
           "sequential": [
            [
             0,
             "#0d0887"
            ],
            [
             0.1111111111111111,
             "#46039f"
            ],
            [
             0.2222222222222222,
             "#7201a8"
            ],
            [
             0.3333333333333333,
             "#9c179e"
            ],
            [
             0.4444444444444444,
             "#bd3786"
            ],
            [
             0.5555555555555556,
             "#d8576b"
            ],
            [
             0.6666666666666666,
             "#ed7953"
            ],
            [
             0.7777777777777778,
             "#fb9f3a"
            ],
            [
             0.8888888888888888,
             "#fdca26"
            ],
            [
             1,
             "#f0f921"
            ]
           ],
           "sequentialminus": [
            [
             0,
             "#0d0887"
            ],
            [
             0.1111111111111111,
             "#46039f"
            ],
            [
             0.2222222222222222,
             "#7201a8"
            ],
            [
             0.3333333333333333,
             "#9c179e"
            ],
            [
             0.4444444444444444,
             "#bd3786"
            ],
            [
             0.5555555555555556,
             "#d8576b"
            ],
            [
             0.6666666666666666,
             "#ed7953"
            ],
            [
             0.7777777777777778,
             "#fb9f3a"
            ],
            [
             0.8888888888888888,
             "#fdca26"
            ],
            [
             1,
             "#f0f921"
            ]
           ]
          },
          "colorway": [
           "#636efa",
           "#EF553B",
           "#00cc96",
           "#ab63fa",
           "#FFA15A",
           "#19d3f3",
           "#FF6692",
           "#B6E880",
           "#FF97FF",
           "#FECB52"
          ],
          "font": {
           "color": "#2a3f5f"
          },
          "geo": {
           "bgcolor": "white",
           "lakecolor": "white",
           "landcolor": "#E5ECF6",
           "showlakes": true,
           "showland": true,
           "subunitcolor": "white"
          },
          "hoverlabel": {
           "align": "left"
          },
          "hovermode": "closest",
          "mapbox": {
           "style": "light"
          },
          "paper_bgcolor": "white",
          "plot_bgcolor": "#E5ECF6",
          "polar": {
           "angularaxis": {
            "gridcolor": "white",
            "linecolor": "white",
            "ticks": ""
           },
           "bgcolor": "#E5ECF6",
           "radialaxis": {
            "gridcolor": "white",
            "linecolor": "white",
            "ticks": ""
           }
          },
          "scene": {
           "xaxis": {
            "backgroundcolor": "#E5ECF6",
            "gridcolor": "white",
            "gridwidth": 2,
            "linecolor": "white",
            "showbackground": true,
            "ticks": "",
            "zerolinecolor": "white"
           },
           "yaxis": {
            "backgroundcolor": "#E5ECF6",
            "gridcolor": "white",
            "gridwidth": 2,
            "linecolor": "white",
            "showbackground": true,
            "ticks": "",
            "zerolinecolor": "white"
           },
           "zaxis": {
            "backgroundcolor": "#E5ECF6",
            "gridcolor": "white",
            "gridwidth": 2,
            "linecolor": "white",
            "showbackground": true,
            "ticks": "",
            "zerolinecolor": "white"
           }
          },
          "shapedefaults": {
           "line": {
            "color": "#2a3f5f"
           }
          },
          "ternary": {
           "aaxis": {
            "gridcolor": "white",
            "linecolor": "white",
            "ticks": ""
           },
           "baxis": {
            "gridcolor": "white",
            "linecolor": "white",
            "ticks": ""
           },
           "bgcolor": "#E5ECF6",
           "caxis": {
            "gridcolor": "white",
            "linecolor": "white",
            "ticks": ""
           }
          },
          "title": {
           "x": 0.05
          },
          "xaxis": {
           "automargin": true,
           "gridcolor": "white",
           "linecolor": "white",
           "ticks": "",
           "title": {
            "standoff": 15
           },
           "zerolinecolor": "white",
           "zerolinewidth": 2
          },
          "yaxis": {
           "automargin": true,
           "gridcolor": "white",
           "linecolor": "white",
           "ticks": "",
           "title": {
            "standoff": 15
           },
           "zerolinecolor": "white",
           "zerolinewidth": 2
          }
         }
        },
        "title": {
         "font": {
          "family": "Arial"
         }
        },
        "uniformtext": {
         "minsize": 12,
         "mode": "hide"
        },
        "yaxis": {
         "visible": true
        }
       }
      }
     },
     "metadata": {},
     "output_type": "display_data"
    }
   ],
   "source": [
    "# GRÁFICO PLOTLY FEATURE IMPORTANCE\n",
    "\n",
    "fig = go.Figure()\n",
    "fig.add_trace(go.Bar(name='Feature Importance XGBoost', y=feat_importance_xgbc_df['Importances'], \n",
    "                    x=feat_importance_xgbc_df.index, marker_color = '#4620ff'))\n",
    "\n",
    "fig.update_layout(barmode='group', uniformtext_minsize=12, uniformtext_mode='hide', font_family = 'Arial', title_font_family='Arial', \n",
    "                        plot_bgcolor='#efefef', paper_bgcolor='#efefef',showlegend=False)\n",
    "\n",
    "fig.update_yaxes(visible = True)\n",
    "\n",
    "fig.show()"
   ]
  },
  {
   "cell_type": "markdown",
   "metadata": {},
   "source": [
    "Probamos con feature selection:"
   ]
  },
  {
   "cell_type": "code",
   "execution_count": 39,
   "metadata": {},
   "outputs": [
    {
     "name": "stderr",
     "output_type": "stream",
     "text": [
      "/Library/Frameworks/Python.framework/Versions/3.7/lib/python3.7/site-packages/joblib/externals/loky/process_executor.py:705: UserWarning:\n",
      "\n",
      "A worker stopped while some jobs were given to the executor. This can be caused by a too short worker timeout or by a memory leak.\n",
      "\n"
     ]
    },
    {
     "data": {
      "text/plain": [
       "GridSearchCV(cv=10,\n",
       "             estimator=XGBClassifier(base_score=None, booster=None,\n",
       "                                     callbacks=None, colsample_bylevel=None,\n",
       "                                     colsample_bynode=None,\n",
       "                                     colsample_bytree=None,\n",
       "                                     early_stopping_rounds=None,\n",
       "                                     enable_categorical=False, eval_metric=None,\n",
       "                                     gamma=None, gpu_id=None, grow_policy=None,\n",
       "                                     importance_type=None,\n",
       "                                     interaction_constraints=None,\n",
       "                                     learning_rate=None, max_bin=None,\n",
       "                                     max_c...\n",
       "                                     max_leaves=None, min_child_weight=None,\n",
       "                                     missing=nan, monotone_constraints=None,\n",
       "                                     n_estimators=100, n_jobs=None,\n",
       "                                     num_parallel_tree=None, predictor=None,\n",
       "                                     random_state=None, reg_alpha=None,\n",
       "                                     reg_lambda=None, ...),\n",
       "             n_jobs=-1,\n",
       "             param_grid={'eval_metric': ['logloss'],\n",
       "                         'max_depth': [5, 10, 15, 20, 25],\n",
       "                         'n_estimators': [200, 300, 400],\n",
       "                         'use_label_encoder': [False], 'verbosity': [1]},\n",
       "             scoring='accuracy')"
      ]
     },
     "execution_count": 39,
     "metadata": {},
     "output_type": "execute_result"
    }
   ],
   "source": [
    "xgbc_3_params = {\n",
    "            \"n_estimators\": [200, 300, 400],\n",
    "            \"max_depth\": [5, 10, 15, 20, 25],\n",
    "            \"use_label_encoder\": [False],\n",
    "            \"eval_metric\": ['logloss'],\n",
    "            \"verbosity\": [1]\n",
    "}\n",
    "\n",
    "xgbc_3_grid = GridSearchCV(xgbc, xgbc_3_params,\n",
    "                                cv = 10,\n",
    "                                scoring = \"accuracy\",\n",
    "                                verbose = 0,\n",
    "                                n_jobs = -1)\n",
    "\n",
    "xgbc_3_grid.fit(X_train_rfe, y_train)"
   ]
  },
  {
   "cell_type": "code",
   "execution_count": 40,
   "metadata": {},
   "outputs": [
    {
     "name": "stdout",
     "output_type": "stream",
     "text": [
      "Train:\n",
      "Accuracy 0.9913137162480641\n",
      "Precision 0.9922262324991076\n",
      "F1 0.9897922848664689\n",
      "AUC 0.9908084403402785\n",
      "\n",
      "Test:\n",
      "Accuracy 0.8641260436304875\n",
      "Precision 0.8558271935699933\n",
      "F1 0.8351307189542484\n",
      "AUC 0.8575543627270517\n"
     ]
    }
   ],
   "source": [
    "xgbc_3_train_preds = xgbc_3_grid.predict(X_train_rfe)\n",
    "xgbc_3_test_preds = xgbc_3_grid.predict(X_test_rfe)\n",
    "\n",
    "print(\"Train:\")\n",
    "metricas_print(xgbc_3_train_preds, y_train)\n",
    "print()\n",
    "print(\"Test:\")\n",
    "metricas_print(xgbc_3_test_preds, y_test) # Reducir el número de variables, no reduce el overfitting"
   ]
  },
  {
   "cell_type": "markdown",
   "metadata": {},
   "source": [
    "-----"
   ]
  },
  {
   "cell_type": "code",
   "execution_count": 51,
   "metadata": {},
   "outputs": [
    {
     "data": {
      "application/vnd.plotly.v1+json": {
       "config": {
        "plotlyServerURL": "https://plot.ly"
       },
       "data": [
        {
         "marker": {
          "color": "#4A3B8F"
         },
         "name": "Feature Importance Gradient Boosting Classifier",
         "type": "bar",
         "x": [
          "country",
          "lead_time",
          "total_of_special_requests",
          "market_segment_Online TA",
          "previous_cancellations",
          "booking_changes",
          "customer_Transient",
          "adr",
          "customer_Transient-Party",
          "market_segment_Groups"
         ],
         "y": [
          0.2865850039026513,
          0.20205666717955595,
          0.13131163136228352,
          0.0836711357222081,
          0.04508242159722538,
          0.04235965069434928,
          0.04181329347531621,
          0.03436498077679707,
          0.03225683719206271,
          0.02524597748951344
         ]
        },
        {
         "marker": {
          "color": "#4620ff"
         },
         "name": "Feature Importance XGBoost",
         "type": "bar",
         "x": [
          "previous_cancellations",
          "required_car_parking_spaces",
          "market_segment_Online TA",
          "customer_Transient-Party",
          "meal_FB",
          "customer_Transient",
          "total_of_special_requests",
          "market_segment_Groups",
          "booking_changes",
          "market_segment_Direct"
         ],
         "y": [
          0.2054787278175354,
          0.15949328243732452,
          0.10614039748907089,
          0.10005980730056763,
          0.040376048535108566,
          0.03500808775424957,
          0.03327318653464317,
          0.028173312544822693,
          0.0260398481041193,
          0.024201298132538795
         ]
        },
        {
         "marker": {
          "color": "#D7DCFF"
         },
         "name": "Feature Importance Random Forest",
         "type": "bar",
         "x": [
          "country",
          "lead_time",
          "total_of_special_requests",
          "adr",
          "previous_cancellations",
          "arrival_date_day_of_month",
          "arrival_date_month",
          "customer_Transient-Party",
          "market_segment_Groups",
          "assigned_room_type"
         ],
         "y": [
          0.18327263818745557,
          0.13566226702580167,
          0.10781882281832501,
          0.07745888446312509,
          0.04758146447034863,
          0.044751020341008724,
          0.03921000675687091,
          0.03459460648419376,
          0.03356140530146017,
          0.03258969817691497
         ]
        }
       ],
       "layout": {
        "barmode": "group",
        "font": {
         "family": "Arial"
        },
        "paper_bgcolor": "#efefef",
        "plot_bgcolor": "#efefef",
        "showlegend": true,
        "template": {
         "data": {
          "bar": [
           {
            "error_x": {
             "color": "#2a3f5f"
            },
            "error_y": {
             "color": "#2a3f5f"
            },
            "marker": {
             "line": {
              "color": "#E5ECF6",
              "width": 0.5
             },
             "pattern": {
              "fillmode": "overlay",
              "size": 10,
              "solidity": 0.2
             }
            },
            "type": "bar"
           }
          ],
          "barpolar": [
           {
            "marker": {
             "line": {
              "color": "#E5ECF6",
              "width": 0.5
             },
             "pattern": {
              "fillmode": "overlay",
              "size": 10,
              "solidity": 0.2
             }
            },
            "type": "barpolar"
           }
          ],
          "carpet": [
           {
            "aaxis": {
             "endlinecolor": "#2a3f5f",
             "gridcolor": "white",
             "linecolor": "white",
             "minorgridcolor": "white",
             "startlinecolor": "#2a3f5f"
            },
            "baxis": {
             "endlinecolor": "#2a3f5f",
             "gridcolor": "white",
             "linecolor": "white",
             "minorgridcolor": "white",
             "startlinecolor": "#2a3f5f"
            },
            "type": "carpet"
           }
          ],
          "choropleth": [
           {
            "colorbar": {
             "outlinewidth": 0,
             "ticks": ""
            },
            "type": "choropleth"
           }
          ],
          "contour": [
           {
            "colorbar": {
             "outlinewidth": 0,
             "ticks": ""
            },
            "colorscale": [
             [
              0,
              "#0d0887"
             ],
             [
              0.1111111111111111,
              "#46039f"
             ],
             [
              0.2222222222222222,
              "#7201a8"
             ],
             [
              0.3333333333333333,
              "#9c179e"
             ],
             [
              0.4444444444444444,
              "#bd3786"
             ],
             [
              0.5555555555555556,
              "#d8576b"
             ],
             [
              0.6666666666666666,
              "#ed7953"
             ],
             [
              0.7777777777777778,
              "#fb9f3a"
             ],
             [
              0.8888888888888888,
              "#fdca26"
             ],
             [
              1,
              "#f0f921"
             ]
            ],
            "type": "contour"
           }
          ],
          "contourcarpet": [
           {
            "colorbar": {
             "outlinewidth": 0,
             "ticks": ""
            },
            "type": "contourcarpet"
           }
          ],
          "heatmap": [
           {
            "colorbar": {
             "outlinewidth": 0,
             "ticks": ""
            },
            "colorscale": [
             [
              0,
              "#0d0887"
             ],
             [
              0.1111111111111111,
              "#46039f"
             ],
             [
              0.2222222222222222,
              "#7201a8"
             ],
             [
              0.3333333333333333,
              "#9c179e"
             ],
             [
              0.4444444444444444,
              "#bd3786"
             ],
             [
              0.5555555555555556,
              "#d8576b"
             ],
             [
              0.6666666666666666,
              "#ed7953"
             ],
             [
              0.7777777777777778,
              "#fb9f3a"
             ],
             [
              0.8888888888888888,
              "#fdca26"
             ],
             [
              1,
              "#f0f921"
             ]
            ],
            "type": "heatmap"
           }
          ],
          "heatmapgl": [
           {
            "colorbar": {
             "outlinewidth": 0,
             "ticks": ""
            },
            "colorscale": [
             [
              0,
              "#0d0887"
             ],
             [
              0.1111111111111111,
              "#46039f"
             ],
             [
              0.2222222222222222,
              "#7201a8"
             ],
             [
              0.3333333333333333,
              "#9c179e"
             ],
             [
              0.4444444444444444,
              "#bd3786"
             ],
             [
              0.5555555555555556,
              "#d8576b"
             ],
             [
              0.6666666666666666,
              "#ed7953"
             ],
             [
              0.7777777777777778,
              "#fb9f3a"
             ],
             [
              0.8888888888888888,
              "#fdca26"
             ],
             [
              1,
              "#f0f921"
             ]
            ],
            "type": "heatmapgl"
           }
          ],
          "histogram": [
           {
            "marker": {
             "pattern": {
              "fillmode": "overlay",
              "size": 10,
              "solidity": 0.2
             }
            },
            "type": "histogram"
           }
          ],
          "histogram2d": [
           {
            "colorbar": {
             "outlinewidth": 0,
             "ticks": ""
            },
            "colorscale": [
             [
              0,
              "#0d0887"
             ],
             [
              0.1111111111111111,
              "#46039f"
             ],
             [
              0.2222222222222222,
              "#7201a8"
             ],
             [
              0.3333333333333333,
              "#9c179e"
             ],
             [
              0.4444444444444444,
              "#bd3786"
             ],
             [
              0.5555555555555556,
              "#d8576b"
             ],
             [
              0.6666666666666666,
              "#ed7953"
             ],
             [
              0.7777777777777778,
              "#fb9f3a"
             ],
             [
              0.8888888888888888,
              "#fdca26"
             ],
             [
              1,
              "#f0f921"
             ]
            ],
            "type": "histogram2d"
           }
          ],
          "histogram2dcontour": [
           {
            "colorbar": {
             "outlinewidth": 0,
             "ticks": ""
            },
            "colorscale": [
             [
              0,
              "#0d0887"
             ],
             [
              0.1111111111111111,
              "#46039f"
             ],
             [
              0.2222222222222222,
              "#7201a8"
             ],
             [
              0.3333333333333333,
              "#9c179e"
             ],
             [
              0.4444444444444444,
              "#bd3786"
             ],
             [
              0.5555555555555556,
              "#d8576b"
             ],
             [
              0.6666666666666666,
              "#ed7953"
             ],
             [
              0.7777777777777778,
              "#fb9f3a"
             ],
             [
              0.8888888888888888,
              "#fdca26"
             ],
             [
              1,
              "#f0f921"
             ]
            ],
            "type": "histogram2dcontour"
           }
          ],
          "mesh3d": [
           {
            "colorbar": {
             "outlinewidth": 0,
             "ticks": ""
            },
            "type": "mesh3d"
           }
          ],
          "parcoords": [
           {
            "line": {
             "colorbar": {
              "outlinewidth": 0,
              "ticks": ""
             }
            },
            "type": "parcoords"
           }
          ],
          "pie": [
           {
            "automargin": true,
            "type": "pie"
           }
          ],
          "scatter": [
           {
            "fillpattern": {
             "fillmode": "overlay",
             "size": 10,
             "solidity": 0.2
            },
            "type": "scatter"
           }
          ],
          "scatter3d": [
           {
            "line": {
             "colorbar": {
              "outlinewidth": 0,
              "ticks": ""
             }
            },
            "marker": {
             "colorbar": {
              "outlinewidth": 0,
              "ticks": ""
             }
            },
            "type": "scatter3d"
           }
          ],
          "scattercarpet": [
           {
            "marker": {
             "colorbar": {
              "outlinewidth": 0,
              "ticks": ""
             }
            },
            "type": "scattercarpet"
           }
          ],
          "scattergeo": [
           {
            "marker": {
             "colorbar": {
              "outlinewidth": 0,
              "ticks": ""
             }
            },
            "type": "scattergeo"
           }
          ],
          "scattergl": [
           {
            "marker": {
             "colorbar": {
              "outlinewidth": 0,
              "ticks": ""
             }
            },
            "type": "scattergl"
           }
          ],
          "scattermapbox": [
           {
            "marker": {
             "colorbar": {
              "outlinewidth": 0,
              "ticks": ""
             }
            },
            "type": "scattermapbox"
           }
          ],
          "scatterpolar": [
           {
            "marker": {
             "colorbar": {
              "outlinewidth": 0,
              "ticks": ""
             }
            },
            "type": "scatterpolar"
           }
          ],
          "scatterpolargl": [
           {
            "marker": {
             "colorbar": {
              "outlinewidth": 0,
              "ticks": ""
             }
            },
            "type": "scatterpolargl"
           }
          ],
          "scatterternary": [
           {
            "marker": {
             "colorbar": {
              "outlinewidth": 0,
              "ticks": ""
             }
            },
            "type": "scatterternary"
           }
          ],
          "surface": [
           {
            "colorbar": {
             "outlinewidth": 0,
             "ticks": ""
            },
            "colorscale": [
             [
              0,
              "#0d0887"
             ],
             [
              0.1111111111111111,
              "#46039f"
             ],
             [
              0.2222222222222222,
              "#7201a8"
             ],
             [
              0.3333333333333333,
              "#9c179e"
             ],
             [
              0.4444444444444444,
              "#bd3786"
             ],
             [
              0.5555555555555556,
              "#d8576b"
             ],
             [
              0.6666666666666666,
              "#ed7953"
             ],
             [
              0.7777777777777778,
              "#fb9f3a"
             ],
             [
              0.8888888888888888,
              "#fdca26"
             ],
             [
              1,
              "#f0f921"
             ]
            ],
            "type": "surface"
           }
          ],
          "table": [
           {
            "cells": {
             "fill": {
              "color": "#EBF0F8"
             },
             "line": {
              "color": "white"
             }
            },
            "header": {
             "fill": {
              "color": "#C8D4E3"
             },
             "line": {
              "color": "white"
             }
            },
            "type": "table"
           }
          ]
         },
         "layout": {
          "annotationdefaults": {
           "arrowcolor": "#2a3f5f",
           "arrowhead": 0,
           "arrowwidth": 1
          },
          "autotypenumbers": "strict",
          "coloraxis": {
           "colorbar": {
            "outlinewidth": 0,
            "ticks": ""
           }
          },
          "colorscale": {
           "diverging": [
            [
             0,
             "#8e0152"
            ],
            [
             0.1,
             "#c51b7d"
            ],
            [
             0.2,
             "#de77ae"
            ],
            [
             0.3,
             "#f1b6da"
            ],
            [
             0.4,
             "#fde0ef"
            ],
            [
             0.5,
             "#f7f7f7"
            ],
            [
             0.6,
             "#e6f5d0"
            ],
            [
             0.7,
             "#b8e186"
            ],
            [
             0.8,
             "#7fbc41"
            ],
            [
             0.9,
             "#4d9221"
            ],
            [
             1,
             "#276419"
            ]
           ],
           "sequential": [
            [
             0,
             "#0d0887"
            ],
            [
             0.1111111111111111,
             "#46039f"
            ],
            [
             0.2222222222222222,
             "#7201a8"
            ],
            [
             0.3333333333333333,
             "#9c179e"
            ],
            [
             0.4444444444444444,
             "#bd3786"
            ],
            [
             0.5555555555555556,
             "#d8576b"
            ],
            [
             0.6666666666666666,
             "#ed7953"
            ],
            [
             0.7777777777777778,
             "#fb9f3a"
            ],
            [
             0.8888888888888888,
             "#fdca26"
            ],
            [
             1,
             "#f0f921"
            ]
           ],
           "sequentialminus": [
            [
             0,
             "#0d0887"
            ],
            [
             0.1111111111111111,
             "#46039f"
            ],
            [
             0.2222222222222222,
             "#7201a8"
            ],
            [
             0.3333333333333333,
             "#9c179e"
            ],
            [
             0.4444444444444444,
             "#bd3786"
            ],
            [
             0.5555555555555556,
             "#d8576b"
            ],
            [
             0.6666666666666666,
             "#ed7953"
            ],
            [
             0.7777777777777778,
             "#fb9f3a"
            ],
            [
             0.8888888888888888,
             "#fdca26"
            ],
            [
             1,
             "#f0f921"
            ]
           ]
          },
          "colorway": [
           "#636efa",
           "#EF553B",
           "#00cc96",
           "#ab63fa",
           "#FFA15A",
           "#19d3f3",
           "#FF6692",
           "#B6E880",
           "#FF97FF",
           "#FECB52"
          ],
          "font": {
           "color": "#2a3f5f"
          },
          "geo": {
           "bgcolor": "white",
           "lakecolor": "white",
           "landcolor": "#E5ECF6",
           "showlakes": true,
           "showland": true,
           "subunitcolor": "white"
          },
          "hoverlabel": {
           "align": "left"
          },
          "hovermode": "closest",
          "mapbox": {
           "style": "light"
          },
          "paper_bgcolor": "white",
          "plot_bgcolor": "#E5ECF6",
          "polar": {
           "angularaxis": {
            "gridcolor": "white",
            "linecolor": "white",
            "ticks": ""
           },
           "bgcolor": "#E5ECF6",
           "radialaxis": {
            "gridcolor": "white",
            "linecolor": "white",
            "ticks": ""
           }
          },
          "scene": {
           "xaxis": {
            "backgroundcolor": "#E5ECF6",
            "gridcolor": "white",
            "gridwidth": 2,
            "linecolor": "white",
            "showbackground": true,
            "ticks": "",
            "zerolinecolor": "white"
           },
           "yaxis": {
            "backgroundcolor": "#E5ECF6",
            "gridcolor": "white",
            "gridwidth": 2,
            "linecolor": "white",
            "showbackground": true,
            "ticks": "",
            "zerolinecolor": "white"
           },
           "zaxis": {
            "backgroundcolor": "#E5ECF6",
            "gridcolor": "white",
            "gridwidth": 2,
            "linecolor": "white",
            "showbackground": true,
            "ticks": "",
            "zerolinecolor": "white"
           }
          },
          "shapedefaults": {
           "line": {
            "color": "#2a3f5f"
           }
          },
          "ternary": {
           "aaxis": {
            "gridcolor": "white",
            "linecolor": "white",
            "ticks": ""
           },
           "baxis": {
            "gridcolor": "white",
            "linecolor": "white",
            "ticks": ""
           },
           "bgcolor": "#E5ECF6",
           "caxis": {
            "gridcolor": "white",
            "linecolor": "white",
            "ticks": ""
           }
          },
          "title": {
           "x": 0.05
          },
          "xaxis": {
           "automargin": true,
           "gridcolor": "white",
           "linecolor": "white",
           "ticks": "",
           "title": {
            "standoff": 15
           },
           "zerolinecolor": "white",
           "zerolinewidth": 2
          },
          "yaxis": {
           "automargin": true,
           "gridcolor": "white",
           "linecolor": "white",
           "ticks": "",
           "title": {
            "standoff": 15
           },
           "zerolinecolor": "white",
           "zerolinewidth": 2
          }
         }
        },
        "title": {
         "font": {
          "family": "Arial"
         }
        },
        "uniformtext": {
         "minsize": 12,
         "mode": "hide"
        },
        "yaxis": {
         "visible": true
        }
       }
      }
     },
     "metadata": {},
     "output_type": "display_data"
    }
   ],
   "source": [
    "# GRÁFICO FEATURE IMPORTANCE\n",
    "\n",
    "fig = go.Figure()\n",
    "\n",
    "fig.add_trace(go.Bar(name='Feature Importance Gradient Boosting Classifier', y=feat_importance_gbc_df['Importances'][:10], \n",
    "                    x=feat_importance_gbc_df.index[:10], marker_color = '#4A3B8F'))   \n",
    "\n",
    "fig.add_trace(go.Bar(name='Feature Importance XGBoost', y=feat_importance_xgbc_df['Importances'][:10], \n",
    "                    x=feat_importance_xgbc_df.index[:10], marker_color = '#4620ff'))                    \n",
    "\n",
    "fig.add_trace(go.Bar(name='Feature Importance Random Forest', y=feat_importance_rand_f_df['Importances'][:10], \n",
    "                    x=feat_importance_rand_f_df.index[:10], marker_color = '#D7DCFF'))\n",
    "                 \n",
    "\n",
    "fig.update_layout(barmode='group', uniformtext_minsize=12, uniformtext_mode='hide', font_family = 'Arial', title_font_family='Arial', \n",
    "                        plot_bgcolor='#efefef', paper_bgcolor='#efefef',showlegend=True)\n",
    "\n",
    "fig.update_yaxes(visible = True)\n",
    "\n",
    "fig.show()"
   ]
  },
  {
   "cell_type": "markdown",
   "metadata": {},
   "source": [
    "---"
   ]
  }
 ],
 "metadata": {
  "kernelspec": {
   "display_name": "Python 3.7.4 64-bit",
   "language": "python",
   "name": "python3"
  },
  "language_info": {
   "codemirror_mode": {
    "name": "ipython",
    "version": 3
   },
   "file_extension": ".py",
   "mimetype": "text/x-python",
   "name": "python",
   "nbconvert_exporter": "python",
   "pygments_lexer": "ipython3",
   "version": "3.7.4"
  },
  "orig_nbformat": 4,
  "vscode": {
   "interpreter": {
    "hash": "aee8b7b246df8f9039afb4144a1f6fd8d2ca17a180786b69acc140d282b71a49"
   }
  }
 },
 "nbformat": 4,
 "nbformat_minor": 2
}
