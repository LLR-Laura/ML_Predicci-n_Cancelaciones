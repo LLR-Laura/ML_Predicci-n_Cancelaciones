{
 "cells": [
  {
   "cell_type": "markdown",
   "metadata": {},
   "source": [
    "# 3. Limpieza y Transformación"
   ]
  },
  {
   "cell_type": "markdown",
   "metadata": {},
   "source": [
    "-----"
   ]
  },
  {
   "cell_type": "code",
   "execution_count": 1,
   "metadata": {},
   "outputs": [],
   "source": [
    "import numpy as np\n",
    "import pandas as pd\n",
    "pd.options.display.max_columns = 36\n",
    "\n",
    "from sklearn.model_selection import train_test_split\n",
    "from sklearn.feature_selection import SelectKBest\n",
    "from category_encoders import WOEEncoder      \n",
    "import plotly.graph_objects as go                  "
   ]
  },
  {
   "cell_type": "code",
   "execution_count": 2,
   "metadata": {},
   "outputs": [
    {
     "name": "stdout",
     "output_type": "stream",
     "text": [
      "Nº de reservas: 79330 \n",
      "Features: 31\n"
     ]
    },
    {
     "data": {
      "text/html": [
       "<div>\n",
       "<style scoped>\n",
       "    .dataframe tbody tr th:only-of-type {\n",
       "        vertical-align: middle;\n",
       "    }\n",
       "\n",
       "    .dataframe tbody tr th {\n",
       "        vertical-align: top;\n",
       "    }\n",
       "\n",
       "    .dataframe thead th {\n",
       "        text-align: right;\n",
       "    }\n",
       "</style>\n",
       "<table border=\"1\" class=\"dataframe\">\n",
       "  <thead>\n",
       "    <tr style=\"text-align: right;\">\n",
       "      <th></th>\n",
       "      <th>is_canceled</th>\n",
       "      <th>lead_time</th>\n",
       "      <th>arrival_date_year</th>\n",
       "      <th>arrival_date_month</th>\n",
       "      <th>arrival_date_week_number</th>\n",
       "      <th>arrival_date_day_of_month</th>\n",
       "      <th>stays_in_weekend_nights</th>\n",
       "      <th>stays_in_week_nights</th>\n",
       "      <th>adults</th>\n",
       "      <th>children</th>\n",
       "      <th>babies</th>\n",
       "      <th>meal</th>\n",
       "      <th>country</th>\n",
       "      <th>market_segment</th>\n",
       "      <th>distribution_channel</th>\n",
       "      <th>is_repeated_guest</th>\n",
       "      <th>previous_cancellations</th>\n",
       "      <th>previous_bookings_not_canceled</th>\n",
       "      <th>reserved_room_type</th>\n",
       "      <th>assigned_room_type</th>\n",
       "      <th>booking_changes</th>\n",
       "      <th>deposit_type</th>\n",
       "      <th>agent</th>\n",
       "      <th>company</th>\n",
       "      <th>days_in_waiting_list</th>\n",
       "      <th>customer_type</th>\n",
       "      <th>adr</th>\n",
       "      <th>required_car_parking_spaces</th>\n",
       "      <th>total_of_special_requests</th>\n",
       "      <th>reservation_status</th>\n",
       "      <th>reservation_status_date</th>\n",
       "    </tr>\n",
       "  </thead>\n",
       "  <tbody>\n",
       "    <tr>\n",
       "      <th>0</th>\n",
       "      <td>0</td>\n",
       "      <td>6</td>\n",
       "      <td>2015</td>\n",
       "      <td>July</td>\n",
       "      <td>27</td>\n",
       "      <td>1</td>\n",
       "      <td>0</td>\n",
       "      <td>2</td>\n",
       "      <td>1</td>\n",
       "      <td>0.0</td>\n",
       "      <td>0</td>\n",
       "      <td>HB</td>\n",
       "      <td>PRT</td>\n",
       "      <td>Offline TA/TO</td>\n",
       "      <td>TA/TO</td>\n",
       "      <td>0</td>\n",
       "      <td>0</td>\n",
       "      <td>0</td>\n",
       "      <td>A</td>\n",
       "      <td>A</td>\n",
       "      <td>0</td>\n",
       "      <td>No Deposit</td>\n",
       "      <td>6.0</td>\n",
       "      <td>NaN</td>\n",
       "      <td>0</td>\n",
       "      <td>Transient</td>\n",
       "      <td>0.0</td>\n",
       "      <td>0</td>\n",
       "      <td>0</td>\n",
       "      <td>Check-Out</td>\n",
       "      <td>2015-07-03</td>\n",
       "    </tr>\n",
       "    <tr>\n",
       "      <th>1</th>\n",
       "      <td>1</td>\n",
       "      <td>88</td>\n",
       "      <td>2015</td>\n",
       "      <td>July</td>\n",
       "      <td>27</td>\n",
       "      <td>1</td>\n",
       "      <td>0</td>\n",
       "      <td>4</td>\n",
       "      <td>2</td>\n",
       "      <td>0.0</td>\n",
       "      <td>0</td>\n",
       "      <td>BB</td>\n",
       "      <td>PRT</td>\n",
       "      <td>Online TA</td>\n",
       "      <td>TA/TO</td>\n",
       "      <td>0</td>\n",
       "      <td>0</td>\n",
       "      <td>0</td>\n",
       "      <td>A</td>\n",
       "      <td>A</td>\n",
       "      <td>0</td>\n",
       "      <td>No Deposit</td>\n",
       "      <td>9.0</td>\n",
       "      <td>NaN</td>\n",
       "      <td>0</td>\n",
       "      <td>Transient</td>\n",
       "      <td>76.5</td>\n",
       "      <td>0</td>\n",
       "      <td>1</td>\n",
       "      <td>Canceled</td>\n",
       "      <td>2015-07-01</td>\n",
       "    </tr>\n",
       "    <tr>\n",
       "      <th>2</th>\n",
       "      <td>1</td>\n",
       "      <td>65</td>\n",
       "      <td>2015</td>\n",
       "      <td>July</td>\n",
       "      <td>27</td>\n",
       "      <td>1</td>\n",
       "      <td>0</td>\n",
       "      <td>4</td>\n",
       "      <td>1</td>\n",
       "      <td>0.0</td>\n",
       "      <td>0</td>\n",
       "      <td>BB</td>\n",
       "      <td>PRT</td>\n",
       "      <td>Online TA</td>\n",
       "      <td>TA/TO</td>\n",
       "      <td>0</td>\n",
       "      <td>0</td>\n",
       "      <td>0</td>\n",
       "      <td>A</td>\n",
       "      <td>A</td>\n",
       "      <td>0</td>\n",
       "      <td>No Deposit</td>\n",
       "      <td>9.0</td>\n",
       "      <td>NaN</td>\n",
       "      <td>0</td>\n",
       "      <td>Transient</td>\n",
       "      <td>68.0</td>\n",
       "      <td>0</td>\n",
       "      <td>1</td>\n",
       "      <td>Canceled</td>\n",
       "      <td>2015-04-30</td>\n",
       "    </tr>\n",
       "    <tr>\n",
       "      <th>3</th>\n",
       "      <td>1</td>\n",
       "      <td>92</td>\n",
       "      <td>2015</td>\n",
       "      <td>July</td>\n",
       "      <td>27</td>\n",
       "      <td>1</td>\n",
       "      <td>2</td>\n",
       "      <td>4</td>\n",
       "      <td>2</td>\n",
       "      <td>0.0</td>\n",
       "      <td>0</td>\n",
       "      <td>BB</td>\n",
       "      <td>PRT</td>\n",
       "      <td>Online TA</td>\n",
       "      <td>TA/TO</td>\n",
       "      <td>0</td>\n",
       "      <td>0</td>\n",
       "      <td>0</td>\n",
       "      <td>A</td>\n",
       "      <td>A</td>\n",
       "      <td>0</td>\n",
       "      <td>No Deposit</td>\n",
       "      <td>9.0</td>\n",
       "      <td>NaN</td>\n",
       "      <td>0</td>\n",
       "      <td>Transient</td>\n",
       "      <td>76.5</td>\n",
       "      <td>0</td>\n",
       "      <td>2</td>\n",
       "      <td>Canceled</td>\n",
       "      <td>2015-06-23</td>\n",
       "    </tr>\n",
       "    <tr>\n",
       "      <th>4</th>\n",
       "      <td>1</td>\n",
       "      <td>100</td>\n",
       "      <td>2015</td>\n",
       "      <td>July</td>\n",
       "      <td>27</td>\n",
       "      <td>2</td>\n",
       "      <td>0</td>\n",
       "      <td>2</td>\n",
       "      <td>2</td>\n",
       "      <td>0.0</td>\n",
       "      <td>0</td>\n",
       "      <td>BB</td>\n",
       "      <td>PRT</td>\n",
       "      <td>Online TA</td>\n",
       "      <td>TA/TO</td>\n",
       "      <td>0</td>\n",
       "      <td>0</td>\n",
       "      <td>0</td>\n",
       "      <td>A</td>\n",
       "      <td>A</td>\n",
       "      <td>0</td>\n",
       "      <td>No Deposit</td>\n",
       "      <td>9.0</td>\n",
       "      <td>NaN</td>\n",
       "      <td>0</td>\n",
       "      <td>Transient</td>\n",
       "      <td>76.5</td>\n",
       "      <td>0</td>\n",
       "      <td>1</td>\n",
       "      <td>Canceled</td>\n",
       "      <td>2015-04-02</td>\n",
       "    </tr>\n",
       "  </tbody>\n",
       "</table>\n",
       "</div>"
      ],
      "text/plain": [
       "   is_canceled  lead_time  arrival_date_year arrival_date_month  \\\n",
       "0            0          6               2015               July   \n",
       "1            1         88               2015               July   \n",
       "2            1         65               2015               July   \n",
       "3            1         92               2015               July   \n",
       "4            1        100               2015               July   \n",
       "\n",
       "   arrival_date_week_number  arrival_date_day_of_month  \\\n",
       "0                        27                          1   \n",
       "1                        27                          1   \n",
       "2                        27                          1   \n",
       "3                        27                          1   \n",
       "4                        27                          2   \n",
       "\n",
       "   stays_in_weekend_nights  stays_in_week_nights  adults  children  babies  \\\n",
       "0                        0                     2       1       0.0       0   \n",
       "1                        0                     4       2       0.0       0   \n",
       "2                        0                     4       1       0.0       0   \n",
       "3                        2                     4       2       0.0       0   \n",
       "4                        0                     2       2       0.0       0   \n",
       "\n",
       "  meal country market_segment distribution_channel  is_repeated_guest  \\\n",
       "0   HB     PRT  Offline TA/TO                TA/TO                  0   \n",
       "1   BB     PRT      Online TA                TA/TO                  0   \n",
       "2   BB     PRT      Online TA                TA/TO                  0   \n",
       "3   BB     PRT      Online TA                TA/TO                  0   \n",
       "4   BB     PRT      Online TA                TA/TO                  0   \n",
       "\n",
       "   previous_cancellations  previous_bookings_not_canceled reserved_room_type  \\\n",
       "0                       0                               0                  A   \n",
       "1                       0                               0                  A   \n",
       "2                       0                               0                  A   \n",
       "3                       0                               0                  A   \n",
       "4                       0                               0                  A   \n",
       "\n",
       "  assigned_room_type  booking_changes deposit_type  agent  company  \\\n",
       "0                  A                0   No Deposit    6.0      NaN   \n",
       "1                  A                0   No Deposit    9.0      NaN   \n",
       "2                  A                0   No Deposit    9.0      NaN   \n",
       "3                  A                0   No Deposit    9.0      NaN   \n",
       "4                  A                0   No Deposit    9.0      NaN   \n",
       "\n",
       "   days_in_waiting_list customer_type   adr  required_car_parking_spaces  \\\n",
       "0                     0     Transient   0.0                            0   \n",
       "1                     0     Transient  76.5                            0   \n",
       "2                     0     Transient  68.0                            0   \n",
       "3                     0     Transient  76.5                            0   \n",
       "4                     0     Transient  76.5                            0   \n",
       "\n",
       "   total_of_special_requests reservation_status reservation_status_date  \n",
       "0                          0          Check-Out              2015-07-03  \n",
       "1                          1           Canceled              2015-07-01  \n",
       "2                          1           Canceled              2015-04-30  \n",
       "3                          2           Canceled              2015-06-23  \n",
       "4                          1           Canceled              2015-04-02  "
      ]
     },
     "execution_count": 2,
     "metadata": {},
     "output_type": "execute_result"
    }
   ],
   "source": [
    "# Importamos dataset:\n",
    "\n",
    "hotel = pd.read_csv('../src:data/src:data:raw/city_hotel.csv', index_col=0 )\n",
    "print(\"Nº de reservas:\", hotel.shape[0], \"\\nFeatures:\", hotel.shape[1])\n",
    "\n",
    "hotel.head()"
   ]
  },
  {
   "cell_type": "markdown",
   "metadata": {},
   "source": [
    "------"
   ]
  },
  {
   "cell_type": "markdown",
   "metadata": {},
   "source": [
    "| **Resumen Variables Numéricas**|\n",
    "| :---: |\n",
    "\n",
    "!! No tenemos correlación lineal con el target"
   ]
  },
  {
   "cell_type": "markdown",
   "metadata": {},
   "source": [
    "| **Variable** | **Card (%)** |**Media** | **Mediana** | **Outliers (%)** | **Distr. Normal**  | **Shapiro** | **Pearson**| **Phik** |\n",
    "| :--- | :--- | :--- | :--- | :--- | :--- | :--- | :--- | :--- |\n",
    "| dias_modificacion_llegada | 0.48 | 38.94 | 4 | 14.9 | No | 0 | 0.57 | 0.78 | \n",
    "| lead_time | 0.57 | 109.7 | 74 | 3.25 |  No | 0 | 0.31 | 0.39 |\n",
    "| total_of_special_requests | 0.01 | 0.54 | 0 | 2.28 | No |0 | -0.29 | 0.46 | \n",
    "| stays_in_week_nights | 0.04 | 2.18 | 2 | 0.91 | No | 0 | 0.049 | 0.051 |\n",
    "| required_car_parking_spaces | 0.01 | 0.024 | 0 | 2.43 | No | 0 | -0.13 | 0.2 |\n",
    "| days_in_waiting_list | 0.14 | 3.22 | 0 | 4.34 | No | 0 | 0.061 | 0.076 | \n",
    "| booking_changes | 0.03 | 0.18 | 0 | 12.94 | No | 0  | -0.15 | 0.059 |\n",
    "| previous_cancellations | 0.01 | 0.079 | 0 | 6.79 | No | 0 | 0.17 | 0.032 |\n",
    "| previous_bookings_not_canceled | 0.09 | 0.13 | 0 | 2 | No | 0 | -0.053 | 0.062 | \n",
    "| total_n_noches | 0.05 | 2.98 | 3 | 1.57 | No | 0 | 0.035 | 0.039 |\n",
    "| stays_in_weekend_nights | 0.02 | 0.79 | 1 | 0.1 | No | 0 | -0.0073 | 0.038 |\n",
    "| babies | 0.01 | 0.0049 | 0 | 0.47 | No | 0 | -0.03 | 0.027 |\n",
    "| children | 0.01 | 0.09 | 0 | 6.44 | No | 0 | -0.027 | 0.054 | \n",
    "| adults | 0.01 | 1.85 | 2 | 0.01 | No | 0 | 0.053 | 0.07 |\n",
    "| adr | 6.81 | 105.3 | 99.9 | 4.27 | No | 0 | -0.012 | 0 |"
   ]
  },
  {
   "cell_type": "markdown",
   "metadata": {},
   "source": [
    "| **Pasos Limpieza**|\n",
    "| :---: |\n",
    "\n",
    "**Missings**:\n",
    "\n",
    "- Eliminamos **company** porque tiene un 95.5% de nulos\n",
    "\n",
    "**Outliers**:\n",
    "\n",
    "- **dias_modificacion_llegada**: todos los outliers son reservas canceladas, interpretamos que a mayor antelación, mayor posibilidad de cancelación, por lo que no eliminamos la variable.\n",
    "- **lead_time**: el 70% de los outliers son reservas que se cancelan. Entendemos que a mayor antelación en la reserva, mayor posibilidad de cancelación por lo que no los eliminamos.\n",
    "- **days_in_waiting_list**: solo el 4.36% de las reservas entran en lista de espera y el 41.73% de las reservas que entran en lista de espera cancelan. Cualquier valor diferente a 0 es un outlier en esta columna, por lo que eliminarnos sería como quitar la columna. \n",
    "- **previous_cancellations**: la mayoría de outliers están entre 1 y  2 cancelaciones previas, tienen sentido y quitar estos datos sería como eliminar la columna. De 111 reservas con más de 3 cancelaciones previas, 98 también tienen reservas previas no canceladas (huéspedes que no repiten) --> esto nos indica huéspedes muy habituales, por lo que no los eliminamos.\n",
    "- **previous_bookings_not_cancelled**: interpretamos como huéspedes habituales.\n",
    "- **total_n_noches**: El 54% cancelan. Las mantenemos porque aunque no es lo más común, sí tienen sentido reservas largas de hotel.\n",
    "- **stay_in_week_nights**: El 58.6% de las estancias largas, cancelan. Mismo razonamiento que total_n_noches.\n",
    "- **stay_in_weekend_nights**: Mismo razonamiento que total_n_noches.\n",
    "- ***adr**: mantenemos outliers ya que esta columna se define por su variabilidad en los precios según día. Eliminaremos 1 reserva con precio de 5400€ ya que el precio más alto antes de éste es de 510€ y probablemente 5400€ sea una errata.\n",
    "- **booking_changes**: no eliminamos outliers ya que esta columna todos los valores distintos de 0 son outliers.\n",
    "- **total_of_special_requests**: lo mismo que booking_changes.\n",
    "- **required_car_parking_spaces**: lo mismo que booking_changes.\n",
    "- **adults**: el valor máximo de número de adultos es 4 (30 reservas con este número). Aunque no es lo más común, tampoco podría clasificarse de atípico reservas con 3 o 4 adultos. Los mantenemos.\n",
    "- **niños**: aunque hay un 6.44% de outliers porque lo más común en el hotel son 0 niños, no los quitamos ya que tiene sentido de 0 - 3 niños.\n",
    "- **bebés**: eliminaremos las reservas con + 2 bebés. Estas reservas tienen 9 y 10 bebés y es muy atípico (son solo 2 filas).\n",
    "\n",
    "**Variables que eliminamos**:\n",
    "\n",
    "- **dias_modificacion_llegada**: la creamos para el análisis, pero tiene una correlación linea de 1 con nuestro target -no la eliminamos, simplemente no la crearemos.\n",
    "- **total_n_noches**: la creamos para el análisis pero no la crearemos para el modelo (muy relacionada con stay_week_nights) y nos da la misma información que incluir las variables: stay_week_nights y stay_weekend_nights.\n"
   ]
  },
  {
   "cell_type": "markdown",
   "metadata": {},
   "source": [
    "----"
   ]
  },
  {
   "cell_type": "markdown",
   "metadata": {},
   "source": [
    "| **Resumen Variables Categóricas**|\n",
    "| :---: |\n",
    "\n",
    "!! Pocas features con variabilidad en el peso de las categorías"
   ]
  },
  {
   "cell_type": "markdown",
   "metadata": {},
   "source": [
    "| **Variable** | **Descripción** | **CARD (%)** | **N Categorías** |  **Moda** | **Peso Moda** |**Phik**| \n",
    "| :--- | :--- | :--- | :--- | :--- | :--- | :--- | \n",
    "| agent | ID del agente o agencia | 0.28 | 333 | 9 | 26.77 | 0.091 |\n",
    "| company | ID compañía o entidad| 0.29 | 352 |40 | 0.78 | - | \n",
    "| country | País procedencia huésped | 0.15 | 177 | PRT | 40.7 |  0.5 | \n",
    "| market_segment | Modo de reserva | 0.01 | 8 | Online TA | 47.4 | 0.39 | \n",
    "| assigned_room_type | Tipo de Hab Asignada | 0.01 | 12 | A | 62.03 |  0.18 |\n",
    "| reserved_room_type | Tipo de Hab Reservada | 0.01 | 10 | A | 72.03 |  0.1 | \n",
    "| reservation_status | Último estado de la Reserva | 0 | 3 | Check-Out | 62.96 |  1 | \n",
    "| customer_type | Tipo de Huésped | 0 | 4 |Transient | 75.06 | 0.23 | \n",
    "| meal | Paquete de Comidas Reservado | 0 | 5 | BB | 77.32 | 0.069 | \n",
    "| distribution_channel | Canal de Distribución | 0 | 5 | TA/TO | 81.98 |  0.14 | \n",
    "| deposit_type | Indica Tipo de Depósito | 0 | 3 | No Deposit | 87.65 | 0.32 | \n",
    "\n",
    "(Ordenadas por % de cardinalidad)"
   ]
  },
  {
   "cell_type": "markdown",
   "metadata": {},
   "source": [
    "| **Pasos Limpieza**|\n",
    "| :---: |\n",
    "\n",
    "**Missings**:\n",
    "\n",
    "- **children** (0.01%): sustituímos por 0 porque entendemos que en las 4 reservas con missings no había niños.\n",
    "- **country** (0.03%): sustituímos por la moda (PRT).\n",
    "- **agent** (10.25%): sustituímos por 0 para representar que ningún agente o agencia realizó la reserva.\n",
    "\n",
    "**Variables que eliminamos**:\n",
    "\n",
    "- **company**: 95.35% de missings.\n",
    "- **reservation_status**: variable equivalente al target.\n",
    "- **reserved_room_type**: muy correlacionada con assigned_room_type, elegimos assigned_room_type porque nos da un valor -en la matriz phik- un poco más alto de correlación lineal que reserved_room_type (0.18 - 0.1).\n",
    "- **agent**: tras realizar un primer análisis, nos dimos cuenta que el 96.5% de todas las cancelaciones del dataset están agrupadas dentro de la categoría 9 --> no sabemos por qué, por lo que para no contaminar el análisis eliminamos esta columna.\n",
    "- **deposit_type**: al realizar un primer análisis vimos que todas las reservas que estaban en la categoría Non Refund, eran reservas canceladas. No sabemos por qué y, como no tiene sentido, eliminamos esta columna para evitar contaminar el análisis.\n",
    "\n",
    "**Otros**:\n",
    "\n",
    "- **market_segment**: eliminamos las filas con categoría 'Undefined' (2).\n",
    "- **distribution_channel**: eliminamos las filas con categoría 'Undefined (4)."
   ]
  },
  {
   "cell_type": "markdown",
   "metadata": {},
   "source": [
    "---"
   ]
  },
  {
   "cell_type": "markdown",
   "metadata": {},
   "source": [
    "| **Resumen Variables Numéricas - Categóricas**|\n",
    "| :---: |"
   ]
  },
  {
   "cell_type": "markdown",
   "metadata": {},
   "source": [
    "| **Variable** | **CARD (%)** | **N Categorías** |  **Moda** | **Peso Moda** |**Phik**| \n",
    "| :--- |  :--- | :--- | :--- | :--- |:--- | \n",
    "| is_repeated_guest | 0 | 2 | 0: Huésped Nuevo | 96.8 | 0.1 |"
   ]
  },
  {
   "cell_type": "markdown",
   "metadata": {},
   "source": [
    "| **Pasos Limpieza**|\n",
    "| :---: |\n",
    "\n",
    "**Missings**:\n",
    "\n",
    "- No hay\n",
    "\n",
    "**Variables que eliminamos**:\n",
    "\n",
    "- Ninguna"
   ]
  },
  {
   "cell_type": "markdown",
   "metadata": {},
   "source": [
    "---"
   ]
  },
  {
   "cell_type": "markdown",
   "metadata": {},
   "source": [
    "| **Resumen Variables Fechas**|\n",
    "| :---: |"
   ]
  },
  {
   "cell_type": "markdown",
   "metadata": {},
   "source": [
    "| **Variable** |  **Valores** |**Comentarios** | **Phik**|\n",
    "| :--- |  :--- | :--- | :--- | \n",
    "| reservation_status_date |  - | Mediana días antelación cancelación: 54 | 0.66| \n",
    "| arrival_date | - | - | 0.4 |\n",
    "| arrival_date_month | Ene - Dic | - | 0.669 | \n",
    "| arrival_date_week_number |  1 - 53 | - | 0.065 |\n",
    "| arrival_date_year | 2015-2016-2017 | 1/07/15 al 31/08/17 --> año completo: 2016 | 0.045 | \n",
    "| arrival_date_day_of_month | 1 - 31 | - | 0.051 | "
   ]
  },
  {
   "cell_type": "markdown",
   "metadata": {},
   "source": [
    "| **Pasos Limpieza**|\n",
    "| :---: |\n",
    "\n",
    "**Missings**:\n",
    "\n",
    "- Ninguno\n",
    "\n",
    "**Variables que eliminamos**:\n",
    "\n",
    "- **arrival_date**: variable creada para el análisis, sacada sumando las variables: arrival_date_day_of_month, arrival_date_month y arrival_date_year. No la incluiremos porque utilizaremos las ya dadas (arrival_date_day_of_month, arrival_date_month - al no tener formato fecha es más fácil para incluir en el modelo).\n",
    "- **arrival_date_year**: no tenemos los 3 años completos, por lo que esta variable no ayuda mucho a marcar diferencias.\n",
    "- **arrival_date_week_number**: 0.98 de correlación lineal con arrival_date_month.\n",
    "- **reservation_status_date**: 0.96 de correlación lineal con arrival_date_month y 0.84 con dias_modificacion_llegada y lead_time. \n",
    "\n",
    "**Otros**:\n",
    "\n",
    "- **market_segment**: eliminamos las filas con categoría 'Undefined' (2).\n",
    "- **distribution_channel**: eliminamos las filas con categoría 'Undefined (4)."
   ]
  },
  {
   "cell_type": "markdown",
   "metadata": {},
   "source": [
    "---"
   ]
  },
  {
   "cell_type": "markdown",
   "metadata": {},
   "source": [
    "| **Target**| **Tipo**| **Valores**|\n",
    "| :--- | :--- | :--- |\n",
    "| 'is_canceled' | Binario | 1: Reserva Cancelada; 0: Reserva No Cancelada"
   ]
  },
  {
   "cell_type": "markdown",
   "metadata": {},
   "source": [
    "---"
   ]
  },
  {
   "cell_type": "markdown",
   "metadata": {},
   "source": [
    "| **Errores a eliminar**| \n",
    "| :---: |\n",
    "\n",
    "- 4963 reservas que no tienen ni noches entre semana ni en fin de semana (solo 1480 fueron canceladas)\n",
    "\n",
    "- 97 reservas sin adulto, bebés o niños (solo 23 canceladas)\n",
    "\n",
    "- 3 reservas con bebés pero sin adultos\n",
    "\n",
    "- 2 reservas con más de 8 bebés\n",
    "\n",
    "- 313 reservas que tienen misma fecha de última modificación y fecha de llegada, pero como estado está Check-Out --> la mayoría se eliminan en los 4 puntos anteriores, quedarían 5.\n"
   ]
  },
  {
   "cell_type": "markdown",
   "metadata": {},
   "source": [
    "---"
   ]
  },
  {
   "cell_type": "code",
   "execution_count": 3,
   "metadata": {},
   "outputs": [],
   "source": [
    "# 1 - Eliminaciones previas a dividir en train y test\n",
    "\n",
    "# 1.1.  Errores en el dataset\n",
    "\n",
    "#       Reservas con 0 noches\n",
    "hotel.drop(hotel[(hotel['stays_in_week_nights'] == 0) & (hotel['stays_in_week_nights'] == 0)].index, inplace=True)\n",
    "\n",
    "#       Reservas sin adultos, bebés o niños\n",
    "hotel.drop(hotel[(hotel['adults'] == 0) & (hotel['children'] == 0) & (hotel['babies'] == 0)].index, inplace = True)\n",
    "\n",
    "#       Reservas con bebés pero sin adultos\n",
    "hotel.drop(hotel[(hotel['adults'] == 0) & (hotel['babies'] > 0)].index, inplace = True)\n",
    "\n",
    "#       Reservas con + de 8 bebés\n",
    "hotel.drop(hotel[hotel['babies'] > 8].index, inplace=True)\n",
    "\n",
    "#       Misma fecha de última modificación y fecha de llegada, pero como estado está Check-Out \n",
    "hotel.drop(hotel[(pd.to_datetime(hotel['reservation_status_date']) == \\\n",
    "        (pd.to_datetime(hotel['arrival_date_year'].map(str) +  \"-\" + hotel['arrival_date_month'].map(str) + \"-\" + hotel['arrival_date_day_of_month'].map(str))))\\\n",
    "             & (hotel['reservation_status'] == 'Check-Out')].index, inplace=True)\n",
    "\n",
    "# 1.2.  Outliers\n",
    "\n",
    "#       Outlier columna 'adr'\n",
    "hotel.drop(hotel[hotel['adr'] > 5000].index, inplace = True)\n",
    "\n",
    "#       market segment undefined \n",
    "hotel.drop(hotel[hotel['market_segment'] == 'Undefined'].index, inplace=True)\n",
    "\n",
    "#       distribution channel undefined \n",
    "hotel.drop(hotel[hotel['distribution_channel'] == 'Undefined'].index, inplace=True)\n"
   ]
  },
  {
   "cell_type": "code",
   "execution_count": 4,
   "metadata": {},
   "outputs": [
    {
     "name": "stdout",
     "output_type": "stream",
     "text": [
      "(59404, 30) (59404,)\n",
      "(14852, 30) (14852,)\n",
      "Balanceado y_train: (0.57, 0.42652009965658877)\n",
      "Balanceado y_test: (0.58, 0.4220307029356316)\n"
     ]
    }
   ],
   "source": [
    "# 2 - Dividimos en train y test:\n",
    "\n",
    "X = hotel.drop(['is_canceled'], axis = 1)\n",
    "y = hotel['is_canceled']\n",
    "\n",
    "X_train, X_test, y_train, y_test = train_test_split(X,y,\n",
    "                                                    test_size = 0.2,\n",
    "                                                    random_state = 42)\n",
    "print(X_train.shape, y_train.shape)\n",
    "print(X_test.shape, y_test.shape)  \n",
    "\n",
    "# 2.1 - Vemos balanceados de nuestro target --> 0.57 No Cancelan, 0.42 Cancelan \n",
    "#                                               Balanceo dataset hotel (sin quitar errores) --> si: 0.42, no: 0.58 (ver_ 2_EDA).\n",
    "\n",
    "# Función para ver balanceado:\n",
    "\n",
    "def balanceado_target(series):\n",
    "    balanceado = series.value_counts()\n",
    "    return round(balanceado[0] / series.shape[0], 2), 1 - balanceado[0] / series.shape[0]\n",
    "\n",
    "print(\"Balanceado y_train:\", balanceado_target(y_train))\n",
    "print(\"Balanceado y_test:\", balanceado_target(y_test)) "
   ]
  },
  {
   "cell_type": "code",
   "execution_count": 5,
   "metadata": {},
   "outputs": [
    {
     "data": {
      "text/plain": [
       "((59404, 22), (14852, 22))"
      ]
     },
     "execution_count": 5,
     "metadata": {},
     "output_type": "execute_result"
    }
   ],
   "source": [
    "# 3 - Limpieza X_train, X_test\n",
    "\n",
    "# 3.1. Eliminamos columnas que no usaremos: 6\n",
    "\n",
    "var_eliminar = ['company', 'reservation_status', 'reserved_room_type', 'reservation_status_date',\n",
    "                'arrival_date_year', 'arrival_date_week_number', 'agent', 'deposit_type']\n",
    "\n",
    "for column in X_train[var_eliminar]:\n",
    "    del X_train[column]\n",
    "\n",
    "for column in X_test[var_eliminar]:\n",
    "    del X_test[column]    \n",
    "\n",
    "X_train.shape, X_test.shape      "
   ]
  },
  {
   "cell_type": "code",
   "execution_count": 6,
   "metadata": {},
   "outputs": [
    {
     "name": "stdout",
     "output_type": "stream",
     "text": [
      "Moda X_train['country']: PRT\n"
     ]
    }
   ],
   "source": [
    "# 3.2. Tratamos Missings:\n",
    "\n",
    "#     country --> sustituimos por la moda de la categoría\n",
    "print(\"Moda X_train['country']:\", X_test['country'].value_counts().index[0])\n",
    "X_train['country'].fillna('PRT', inplace = True) \n",
    "X_test['country'].fillna('PRT', inplace = True) \n",
    "\n",
    "#     children --> 0 # poner la mediana\n",
    "X_train['children'].fillna(0, inplace = True)\n",
    "X_test['children'].fillna(0, inplace = True)"
   ]
  },
  {
   "cell_type": "code",
   "execution_count": 7,
   "metadata": {},
   "outputs": [],
   "source": [
    "# Nos aseguramos que no hay nulos y vemos tipos\n",
    "#X_train.info()\n",
    "#X_test.info()"
   ]
  },
  {
   "cell_type": "code",
   "execution_count": 7,
   "metadata": {},
   "outputs": [],
   "source": [
    "# 2.3. Tipos: Nos aseguramos del tipo de todas las variables\n",
    "\n",
    "#     Pasamos 'arrival_date_month' a datetime, y después a int, para pasar los meses de nombre ('enero') a número(1)\n",
    "X_train['arrival_date_month'] = pd.to_datetime(X_train['arrival_date_month'], format='%B').dt.month.astype(int)\n",
    "X_test['arrival_date_month'] = pd.to_datetime(X_test['arrival_date_month'], format='%B').dt.month.astype(int)"
   ]
  },
  {
   "cell_type": "code",
   "execution_count": 8,
   "metadata": {},
   "outputs": [],
   "source": [
    "#       'arrival_date_month', 'arrival_date_day_of_month' y 'is_repeated_guest están en int, pero son categóricas\n",
    "#       Código de nb ML Guide\n",
    "\n",
    "tipos_vars = {str: ['meal', 'country', 'market_segment', 'distribution_channel', 'assigned_room_type', 'customer_type'], \n",
    "            int: ['lead_time', 'stays_in_weekend_nights', 'stays_in_week_nights', 'adults', 'is_repeated_guest',\n",
    "                    'previous_cancellations', 'previous_bookings_not_canceled', 'booking_changes', 'required_car_parking_spaces', 'total_of_special_requests',\n",
    "                    'days_in_waiting_list', 'arrival_date_day_of_month', 'children', 'babies'],\n",
    "                float: ['adr']    \n",
    "}\n",
    "\n",
    "for key, value in tipos_vars.items():\n",
    "      for i in value:\n",
    "            X_train[i] = X_train[i].astype(key, errors = 'ignore')\n",
    "            X_test[i] = X_test[i].astype(key, errors = 'ignore')\n",
    "\n",
    "# X_train.info()\n",
    "# X_test.info()            "
   ]
  },
  {
   "cell_type": "code",
   "execution_count": 9,
   "metadata": {},
   "outputs": [
    {
     "data": {
      "text/html": [
       "<div>\n",
       "<style scoped>\n",
       "    .dataframe tbody tr th:only-of-type {\n",
       "        vertical-align: middle;\n",
       "    }\n",
       "\n",
       "    .dataframe tbody tr th {\n",
       "        vertical-align: top;\n",
       "    }\n",
       "\n",
       "    .dataframe thead th {\n",
       "        text-align: right;\n",
       "    }\n",
       "</style>\n",
       "<table border=\"1\" class=\"dataframe\">\n",
       "  <thead>\n",
       "    <tr style=\"text-align: right;\">\n",
       "      <th></th>\n",
       "      <th>lead_time</th>\n",
       "      <th>arrival_date_month</th>\n",
       "      <th>arrival_date_day_of_month</th>\n",
       "      <th>stays_in_weekend_nights</th>\n",
       "      <th>stays_in_week_nights</th>\n",
       "      <th>adults</th>\n",
       "      <th>children</th>\n",
       "      <th>babies</th>\n",
       "      <th>country</th>\n",
       "      <th>is_repeated_guest</th>\n",
       "      <th>previous_cancellations</th>\n",
       "      <th>previous_bookings_not_canceled</th>\n",
       "      <th>assigned_room_type</th>\n",
       "      <th>booking_changes</th>\n",
       "      <th>days_in_waiting_list</th>\n",
       "      <th>adr</th>\n",
       "      <th>required_car_parking_spaces</th>\n",
       "      <th>total_of_special_requests</th>\n",
       "      <th>meal_FB</th>\n",
       "      <th>meal_HB</th>\n",
       "      <th>meal_SC</th>\n",
       "      <th>customer_Group</th>\n",
       "      <th>customer_Transient</th>\n",
       "      <th>customer_Transient-Party</th>\n",
       "      <th>market_segment_Complementary</th>\n",
       "      <th>market_segment_Corporate</th>\n",
       "      <th>market_segment_Direct</th>\n",
       "      <th>market_segment_Groups</th>\n",
       "      <th>market_segment_Offline TA/TO</th>\n",
       "      <th>market_segment_Online TA</th>\n",
       "      <th>distribution_channel_Direct</th>\n",
       "      <th>distribution_channel_GDS</th>\n",
       "      <th>distribution_channel_TA/TO</th>\n",
       "    </tr>\n",
       "  </thead>\n",
       "  <tbody>\n",
       "    <tr>\n",
       "      <th>32205</th>\n",
       "      <td>464</td>\n",
       "      <td>7</td>\n",
       "      <td>25</td>\n",
       "      <td>0</td>\n",
       "      <td>1</td>\n",
       "      <td>2</td>\n",
       "      <td>0</td>\n",
       "      <td>0</td>\n",
       "      <td>PRT</td>\n",
       "      <td>0</td>\n",
       "      <td>0</td>\n",
       "      <td>0</td>\n",
       "      <td>A</td>\n",
       "      <td>0</td>\n",
       "      <td>0</td>\n",
       "      <td>90.0</td>\n",
       "      <td>0</td>\n",
       "      <td>0</td>\n",
       "      <td>0</td>\n",
       "      <td>0</td>\n",
       "      <td>0</td>\n",
       "      <td>0</td>\n",
       "      <td>1</td>\n",
       "      <td>0</td>\n",
       "      <td>0</td>\n",
       "      <td>0</td>\n",
       "      <td>0</td>\n",
       "      <td>0</td>\n",
       "      <td>1</td>\n",
       "      <td>0</td>\n",
       "      <td>0</td>\n",
       "      <td>0</td>\n",
       "      <td>1</td>\n",
       "    </tr>\n",
       "    <tr>\n",
       "      <th>18699</th>\n",
       "      <td>34</td>\n",
       "      <td>10</td>\n",
       "      <td>15</td>\n",
       "      <td>2</td>\n",
       "      <td>3</td>\n",
       "      <td>2</td>\n",
       "      <td>0</td>\n",
       "      <td>0</td>\n",
       "      <td>FRA</td>\n",
       "      <td>0</td>\n",
       "      <td>0</td>\n",
       "      <td>0</td>\n",
       "      <td>D</td>\n",
       "      <td>0</td>\n",
       "      <td>0</td>\n",
       "      <td>166.8</td>\n",
       "      <td>0</td>\n",
       "      <td>2</td>\n",
       "      <td>0</td>\n",
       "      <td>0</td>\n",
       "      <td>0</td>\n",
       "      <td>0</td>\n",
       "      <td>1</td>\n",
       "      <td>0</td>\n",
       "      <td>0</td>\n",
       "      <td>0</td>\n",
       "      <td>0</td>\n",
       "      <td>0</td>\n",
       "      <td>0</td>\n",
       "      <td>1</td>\n",
       "      <td>0</td>\n",
       "      <td>0</td>\n",
       "      <td>1</td>\n",
       "    </tr>\n",
       "    <tr>\n",
       "      <th>53232</th>\n",
       "      <td>130</td>\n",
       "      <td>7</td>\n",
       "      <td>17</td>\n",
       "      <td>2</td>\n",
       "      <td>1</td>\n",
       "      <td>2</td>\n",
       "      <td>0</td>\n",
       "      <td>0</td>\n",
       "      <td>IRL</td>\n",
       "      <td>0</td>\n",
       "      <td>0</td>\n",
       "      <td>0</td>\n",
       "      <td>A</td>\n",
       "      <td>0</td>\n",
       "      <td>0</td>\n",
       "      <td>105.3</td>\n",
       "      <td>0</td>\n",
       "      <td>0</td>\n",
       "      <td>0</td>\n",
       "      <td>0</td>\n",
       "      <td>0</td>\n",
       "      <td>0</td>\n",
       "      <td>1</td>\n",
       "      <td>0</td>\n",
       "      <td>0</td>\n",
       "      <td>0</td>\n",
       "      <td>0</td>\n",
       "      <td>0</td>\n",
       "      <td>0</td>\n",
       "      <td>1</td>\n",
       "      <td>0</td>\n",
       "      <td>0</td>\n",
       "      <td>1</td>\n",
       "    </tr>\n",
       "    <tr>\n",
       "      <th>77553</th>\n",
       "      <td>242</td>\n",
       "      <td>8</td>\n",
       "      <td>5</td>\n",
       "      <td>1</td>\n",
       "      <td>1</td>\n",
       "      <td>2</td>\n",
       "      <td>2</td>\n",
       "      <td>0</td>\n",
       "      <td>GBR</td>\n",
       "      <td>0</td>\n",
       "      <td>0</td>\n",
       "      <td>0</td>\n",
       "      <td>F</td>\n",
       "      <td>0</td>\n",
       "      <td>0</td>\n",
       "      <td>202.5</td>\n",
       "      <td>0</td>\n",
       "      <td>0</td>\n",
       "      <td>0</td>\n",
       "      <td>0</td>\n",
       "      <td>0</td>\n",
       "      <td>0</td>\n",
       "      <td>1</td>\n",
       "      <td>0</td>\n",
       "      <td>0</td>\n",
       "      <td>0</td>\n",
       "      <td>0</td>\n",
       "      <td>0</td>\n",
       "      <td>0</td>\n",
       "      <td>1</td>\n",
       "      <td>0</td>\n",
       "      <td>0</td>\n",
       "      <td>1</td>\n",
       "    </tr>\n",
       "    <tr>\n",
       "      <th>28820</th>\n",
       "      <td>30</td>\n",
       "      <td>5</td>\n",
       "      <td>22</td>\n",
       "      <td>1</td>\n",
       "      <td>1</td>\n",
       "      <td>1</td>\n",
       "      <td>0</td>\n",
       "      <td>0</td>\n",
       "      <td>PRT</td>\n",
       "      <td>0</td>\n",
       "      <td>0</td>\n",
       "      <td>0</td>\n",
       "      <td>A</td>\n",
       "      <td>0</td>\n",
       "      <td>0</td>\n",
       "      <td>144.0</td>\n",
       "      <td>0</td>\n",
       "      <td>0</td>\n",
       "      <td>0</td>\n",
       "      <td>0</td>\n",
       "      <td>0</td>\n",
       "      <td>0</td>\n",
       "      <td>0</td>\n",
       "      <td>1</td>\n",
       "      <td>0</td>\n",
       "      <td>0</td>\n",
       "      <td>1</td>\n",
       "      <td>0</td>\n",
       "      <td>0</td>\n",
       "      <td>0</td>\n",
       "      <td>1</td>\n",
       "      <td>0</td>\n",
       "      <td>0</td>\n",
       "    </tr>\n",
       "  </tbody>\n",
       "</table>\n",
       "</div>"
      ],
      "text/plain": [
       "       lead_time  arrival_date_month  arrival_date_day_of_month  \\\n",
       "32205        464                   7                         25   \n",
       "18699         34                  10                         15   \n",
       "53232        130                   7                         17   \n",
       "77553        242                   8                          5   \n",
       "28820         30                   5                         22   \n",
       "\n",
       "       stays_in_weekend_nights  stays_in_week_nights  adults  children  \\\n",
       "32205                        0                     1       2         0   \n",
       "18699                        2                     3       2         0   \n",
       "53232                        2                     1       2         0   \n",
       "77553                        1                     1       2         2   \n",
       "28820                        1                     1       1         0   \n",
       "\n",
       "       babies country  is_repeated_guest  previous_cancellations  \\\n",
       "32205       0     PRT                  0                       0   \n",
       "18699       0     FRA                  0                       0   \n",
       "53232       0     IRL                  0                       0   \n",
       "77553       0     GBR                  0                       0   \n",
       "28820       0     PRT                  0                       0   \n",
       "\n",
       "       previous_bookings_not_canceled assigned_room_type  booking_changes  \\\n",
       "32205                               0                  A                0   \n",
       "18699                               0                  D                0   \n",
       "53232                               0                  A                0   \n",
       "77553                               0                  F                0   \n",
       "28820                               0                  A                0   \n",
       "\n",
       "       days_in_waiting_list    adr  required_car_parking_spaces  \\\n",
       "32205                     0   90.0                            0   \n",
       "18699                     0  166.8                            0   \n",
       "53232                     0  105.3                            0   \n",
       "77553                     0  202.5                            0   \n",
       "28820                     0  144.0                            0   \n",
       "\n",
       "       total_of_special_requests  meal_FB  meal_HB  meal_SC  customer_Group  \\\n",
       "32205                          0        0        0        0               0   \n",
       "18699                          2        0        0        0               0   \n",
       "53232                          0        0        0        0               0   \n",
       "77553                          0        0        0        0               0   \n",
       "28820                          0        0        0        0               0   \n",
       "\n",
       "       customer_Transient  customer_Transient-Party  \\\n",
       "32205                   1                         0   \n",
       "18699                   1                         0   \n",
       "53232                   1                         0   \n",
       "77553                   1                         0   \n",
       "28820                   0                         1   \n",
       "\n",
       "       market_segment_Complementary  market_segment_Corporate  \\\n",
       "32205                             0                         0   \n",
       "18699                             0                         0   \n",
       "53232                             0                         0   \n",
       "77553                             0                         0   \n",
       "28820                             0                         0   \n",
       "\n",
       "       market_segment_Direct  market_segment_Groups  \\\n",
       "32205                      0                      0   \n",
       "18699                      0                      0   \n",
       "53232                      0                      0   \n",
       "77553                      0                      0   \n",
       "28820                      1                      0   \n",
       "\n",
       "       market_segment_Offline TA/TO  market_segment_Online TA  \\\n",
       "32205                             1                         0   \n",
       "18699                             0                         1   \n",
       "53232                             0                         1   \n",
       "77553                             0                         1   \n",
       "28820                             0                         0   \n",
       "\n",
       "       distribution_channel_Direct  distribution_channel_GDS  \\\n",
       "32205                            0                         0   \n",
       "18699                            0                         0   \n",
       "53232                            0                         0   \n",
       "77553                            0                         0   \n",
       "28820                            1                         0   \n",
       "\n",
       "       distribution_channel_TA/TO  \n",
       "32205                           1  \n",
       "18699                           1  \n",
       "53232                           1  \n",
       "77553                           1  \n",
       "28820                           0  "
      ]
     },
     "execution_count": 9,
     "metadata": {},
     "output_type": "execute_result"
    }
   ],
   "source": [
    "# 2.5. Encoding Variables Categóricas: Entendemos todas las variables como nominales \n",
    "#       las variables de mes y dias las dejamos como están\n",
    "\n",
    "# 2.5.1. Dummies --> lo aplicamos a variables con 4 o menos categorias\n",
    "#                    todas las variables contienen categorías predefinidas -opciones cerradas-, \n",
    "#                    por lo que train contiene todas las categorías posibles de test                   \n",
    "\n",
    "#      meal: 4\n",
    "#      deposit_type: 3\n",
    "#      customer_type: 4\n",
    "#      distribution_channel: 4\n",
    "#      No aplicamos dummy a 'is repeated guest' porque ya está clasificada con 0: No repite, 1: repite.\n",
    "\n",
    "X_train = pd.get_dummies(X_train, columns=['meal', 'customer_type', 'market_segment', 'distribution_channel' ], \n",
    "                            prefix = ['meal', 'customer', 'market_segment', 'distribution_channel'], drop_first = True)\n",
    "X_train.head()"
   ]
  },
  {
   "cell_type": "code",
   "execution_count": 10,
   "metadata": {},
   "outputs": [
    {
     "data": {
      "text/html": [
       "<div>\n",
       "<style scoped>\n",
       "    .dataframe tbody tr th:only-of-type {\n",
       "        vertical-align: middle;\n",
       "    }\n",
       "\n",
       "    .dataframe tbody tr th {\n",
       "        vertical-align: top;\n",
       "    }\n",
       "\n",
       "    .dataframe thead th {\n",
       "        text-align: right;\n",
       "    }\n",
       "</style>\n",
       "<table border=\"1\" class=\"dataframe\">\n",
       "  <thead>\n",
       "    <tr style=\"text-align: right;\">\n",
       "      <th></th>\n",
       "      <th>lead_time</th>\n",
       "      <th>arrival_date_month</th>\n",
       "      <th>arrival_date_day_of_month</th>\n",
       "      <th>stays_in_weekend_nights</th>\n",
       "      <th>stays_in_week_nights</th>\n",
       "      <th>adults</th>\n",
       "      <th>children</th>\n",
       "      <th>babies</th>\n",
       "      <th>country</th>\n",
       "      <th>is_repeated_guest</th>\n",
       "      <th>previous_cancellations</th>\n",
       "      <th>previous_bookings_not_canceled</th>\n",
       "      <th>assigned_room_type</th>\n",
       "      <th>booking_changes</th>\n",
       "      <th>days_in_waiting_list</th>\n",
       "      <th>adr</th>\n",
       "      <th>required_car_parking_spaces</th>\n",
       "      <th>total_of_special_requests</th>\n",
       "      <th>meal_FB</th>\n",
       "      <th>meal_HB</th>\n",
       "      <th>meal_SC</th>\n",
       "      <th>customer_Group</th>\n",
       "      <th>customer_Transient</th>\n",
       "      <th>customer_Transient-Party</th>\n",
       "      <th>market_segment_Complementary</th>\n",
       "      <th>market_segment_Corporate</th>\n",
       "      <th>market_segment_Direct</th>\n",
       "      <th>market_segment_Groups</th>\n",
       "      <th>market_segment_Offline TA/TO</th>\n",
       "      <th>market_segment_Online TA</th>\n",
       "      <th>distribution_channel_Direct</th>\n",
       "      <th>distribution_channel_GDS</th>\n",
       "      <th>distribution_channel_TA/TO</th>\n",
       "    </tr>\n",
       "  </thead>\n",
       "  <tbody>\n",
       "    <tr>\n",
       "      <th>36434</th>\n",
       "      <td>414</td>\n",
       "      <td>12</td>\n",
       "      <td>5</td>\n",
       "      <td>2</td>\n",
       "      <td>1</td>\n",
       "      <td>2</td>\n",
       "      <td>0</td>\n",
       "      <td>0</td>\n",
       "      <td>PRT</td>\n",
       "      <td>0</td>\n",
       "      <td>1</td>\n",
       "      <td>0</td>\n",
       "      <td>A</td>\n",
       "      <td>0</td>\n",
       "      <td>0</td>\n",
       "      <td>62.00</td>\n",
       "      <td>0</td>\n",
       "      <td>0</td>\n",
       "      <td>0</td>\n",
       "      <td>0</td>\n",
       "      <td>0</td>\n",
       "      <td>0</td>\n",
       "      <td>1</td>\n",
       "      <td>0</td>\n",
       "      <td>0</td>\n",
       "      <td>0</td>\n",
       "      <td>0</td>\n",
       "      <td>1</td>\n",
       "      <td>0</td>\n",
       "      <td>0</td>\n",
       "      <td>0</td>\n",
       "      <td>0</td>\n",
       "      <td>1</td>\n",
       "    </tr>\n",
       "    <tr>\n",
       "      <th>58903</th>\n",
       "      <td>0</td>\n",
       "      <td>10</td>\n",
       "      <td>6</td>\n",
       "      <td>0</td>\n",
       "      <td>1</td>\n",
       "      <td>2</td>\n",
       "      <td>2</td>\n",
       "      <td>0</td>\n",
       "      <td>ISR</td>\n",
       "      <td>0</td>\n",
       "      <td>0</td>\n",
       "      <td>0</td>\n",
       "      <td>F</td>\n",
       "      <td>0</td>\n",
       "      <td>0</td>\n",
       "      <td>216.00</td>\n",
       "      <td>0</td>\n",
       "      <td>0</td>\n",
       "      <td>0</td>\n",
       "      <td>0</td>\n",
       "      <td>0</td>\n",
       "      <td>0</td>\n",
       "      <td>1</td>\n",
       "      <td>0</td>\n",
       "      <td>0</td>\n",
       "      <td>0</td>\n",
       "      <td>0</td>\n",
       "      <td>0</td>\n",
       "      <td>0</td>\n",
       "      <td>1</td>\n",
       "      <td>0</td>\n",
       "      <td>0</td>\n",
       "      <td>1</td>\n",
       "    </tr>\n",
       "    <tr>\n",
       "      <th>49997</th>\n",
       "      <td>106</td>\n",
       "      <td>5</td>\n",
       "      <td>29</td>\n",
       "      <td>2</td>\n",
       "      <td>1</td>\n",
       "      <td>2</td>\n",
       "      <td>0</td>\n",
       "      <td>0</td>\n",
       "      <td>DEU</td>\n",
       "      <td>0</td>\n",
       "      <td>0</td>\n",
       "      <td>0</td>\n",
       "      <td>A</td>\n",
       "      <td>0</td>\n",
       "      <td>0</td>\n",
       "      <td>80.75</td>\n",
       "      <td>0</td>\n",
       "      <td>1</td>\n",
       "      <td>0</td>\n",
       "      <td>0</td>\n",
       "      <td>0</td>\n",
       "      <td>0</td>\n",
       "      <td>0</td>\n",
       "      <td>1</td>\n",
       "      <td>0</td>\n",
       "      <td>0</td>\n",
       "      <td>0</td>\n",
       "      <td>0</td>\n",
       "      <td>1</td>\n",
       "      <td>0</td>\n",
       "      <td>0</td>\n",
       "      <td>0</td>\n",
       "      <td>1</td>\n",
       "    </tr>\n",
       "    <tr>\n",
       "      <th>51498</th>\n",
       "      <td>35</td>\n",
       "      <td>6</td>\n",
       "      <td>21</td>\n",
       "      <td>0</td>\n",
       "      <td>2</td>\n",
       "      <td>1</td>\n",
       "      <td>0</td>\n",
       "      <td>0</td>\n",
       "      <td>PRT</td>\n",
       "      <td>0</td>\n",
       "      <td>0</td>\n",
       "      <td>0</td>\n",
       "      <td>B</td>\n",
       "      <td>1</td>\n",
       "      <td>0</td>\n",
       "      <td>107.10</td>\n",
       "      <td>0</td>\n",
       "      <td>1</td>\n",
       "      <td>0</td>\n",
       "      <td>0</td>\n",
       "      <td>0</td>\n",
       "      <td>0</td>\n",
       "      <td>1</td>\n",
       "      <td>0</td>\n",
       "      <td>0</td>\n",
       "      <td>0</td>\n",
       "      <td>0</td>\n",
       "      <td>0</td>\n",
       "      <td>0</td>\n",
       "      <td>1</td>\n",
       "      <td>0</td>\n",
       "      <td>0</td>\n",
       "      <td>1</td>\n",
       "    </tr>\n",
       "    <tr>\n",
       "      <th>37112</th>\n",
       "      <td>344</td>\n",
       "      <td>9</td>\n",
       "      <td>26</td>\n",
       "      <td>0</td>\n",
       "      <td>1</td>\n",
       "      <td>1</td>\n",
       "      <td>0</td>\n",
       "      <td>0</td>\n",
       "      <td>PRT</td>\n",
       "      <td>0</td>\n",
       "      <td>1</td>\n",
       "      <td>0</td>\n",
       "      <td>A</td>\n",
       "      <td>1</td>\n",
       "      <td>0</td>\n",
       "      <td>170.00</td>\n",
       "      <td>0</td>\n",
       "      <td>0</td>\n",
       "      <td>0</td>\n",
       "      <td>0</td>\n",
       "      <td>0</td>\n",
       "      <td>0</td>\n",
       "      <td>1</td>\n",
       "      <td>0</td>\n",
       "      <td>0</td>\n",
       "      <td>0</td>\n",
       "      <td>0</td>\n",
       "      <td>1</td>\n",
       "      <td>0</td>\n",
       "      <td>0</td>\n",
       "      <td>0</td>\n",
       "      <td>0</td>\n",
       "      <td>1</td>\n",
       "    </tr>\n",
       "  </tbody>\n",
       "</table>\n",
       "</div>"
      ],
      "text/plain": [
       "       lead_time  arrival_date_month  arrival_date_day_of_month  \\\n",
       "36434        414                  12                          5   \n",
       "58903          0                  10                          6   \n",
       "49997        106                   5                         29   \n",
       "51498         35                   6                         21   \n",
       "37112        344                   9                         26   \n",
       "\n",
       "       stays_in_weekend_nights  stays_in_week_nights  adults  children  \\\n",
       "36434                        2                     1       2         0   \n",
       "58903                        0                     1       2         2   \n",
       "49997                        2                     1       2         0   \n",
       "51498                        0                     2       1         0   \n",
       "37112                        0                     1       1         0   \n",
       "\n",
       "       babies country  is_repeated_guest  previous_cancellations  \\\n",
       "36434       0     PRT                  0                       1   \n",
       "58903       0     ISR                  0                       0   \n",
       "49997       0     DEU                  0                       0   \n",
       "51498       0     PRT                  0                       0   \n",
       "37112       0     PRT                  0                       1   \n",
       "\n",
       "       previous_bookings_not_canceled assigned_room_type  booking_changes  \\\n",
       "36434                               0                  A                0   \n",
       "58903                               0                  F                0   \n",
       "49997                               0                  A                0   \n",
       "51498                               0                  B                1   \n",
       "37112                               0                  A                1   \n",
       "\n",
       "       days_in_waiting_list     adr  required_car_parking_spaces  \\\n",
       "36434                     0   62.00                            0   \n",
       "58903                     0  216.00                            0   \n",
       "49997                     0   80.75                            0   \n",
       "51498                     0  107.10                            0   \n",
       "37112                     0  170.00                            0   \n",
       "\n",
       "       total_of_special_requests  meal_FB  meal_HB  meal_SC  customer_Group  \\\n",
       "36434                          0        0        0        0               0   \n",
       "58903                          0        0        0        0               0   \n",
       "49997                          1        0        0        0               0   \n",
       "51498                          1        0        0        0               0   \n",
       "37112                          0        0        0        0               0   \n",
       "\n",
       "       customer_Transient  customer_Transient-Party  \\\n",
       "36434                   1                         0   \n",
       "58903                   1                         0   \n",
       "49997                   0                         1   \n",
       "51498                   1                         0   \n",
       "37112                   1                         0   \n",
       "\n",
       "       market_segment_Complementary  market_segment_Corporate  \\\n",
       "36434                             0                         0   \n",
       "58903                             0                         0   \n",
       "49997                             0                         0   \n",
       "51498                             0                         0   \n",
       "37112                             0                         0   \n",
       "\n",
       "       market_segment_Direct  market_segment_Groups  \\\n",
       "36434                      0                      1   \n",
       "58903                      0                      0   \n",
       "49997                      0                      0   \n",
       "51498                      0                      0   \n",
       "37112                      0                      1   \n",
       "\n",
       "       market_segment_Offline TA/TO  market_segment_Online TA  \\\n",
       "36434                             0                         0   \n",
       "58903                             0                         1   \n",
       "49997                             1                         0   \n",
       "51498                             0                         1   \n",
       "37112                             0                         0   \n",
       "\n",
       "       distribution_channel_Direct  distribution_channel_GDS  \\\n",
       "36434                            0                         0   \n",
       "58903                            0                         0   \n",
       "49997                            0                         0   \n",
       "51498                            0                         0   \n",
       "37112                            0                         0   \n",
       "\n",
       "       distribution_channel_TA/TO  \n",
       "36434                           1  \n",
       "58903                           1  \n",
       "49997                           1  \n",
       "51498                           1  \n",
       "37112                           1  "
      ]
     },
     "execution_count": 10,
     "metadata": {},
     "output_type": "execute_result"
    }
   ],
   "source": [
    "X_test = pd.get_dummies(X_test, columns=['meal', 'customer_type', 'market_segment', 'distribution_channel' ], \n",
    "                            prefix = ['meal','customer', 'market_segment', 'distribution_channel'], drop_first = True)\n",
    "X_test.head()"
   ]
  },
  {
   "cell_type": "code",
   "execution_count": 12,
   "metadata": {},
   "outputs": [],
   "source": [
    "# WOE --> mide la 'fuerza'? de una técnica de agrupamiento para separar bueno y malo\n",
    "#           En qué medida la evidencia apoya o socava una hipótesis\n",
    "#           Ej. loan -->\n",
    "# WOE es 0 si P(Bueno) / P(Malo) = 1, es decir, el outcome es aleatorio para ese grupo\n",
    "# Si mayor % de malo que de bueno, las probabilidades serán < 1, entonces WOE será < 0\n",
    "# al revés, P(Buenos) > Malors, Woe es mayor que 0\n",
    "\n",
    "# parámetro 'handle_unknown': default 0 \n",
    "# parámetro 'regularization': si = 1 se evita división entre 0 \n",
    "\n",
    "# WOE(x) es positivo o negativo en función de si x es más representativa de positivos o negativos"
   ]
  },
  {
   "cell_type": "code",
   "execution_count": 11,
   "metadata": {},
   "outputs": [],
   "source": [
    "# 2.5.2. Aplicamos el WOE a las variables 'country', 'agent' y 'assigned_room_type'\n",
    "\n",
    "woe = WOEEncoder(cols=['country', 'assigned_room_type'], random_state=42, regularization=1) # regularization = 1 para evitar divisiones entre \n",
    "\n",
    "#       Entrenamos y transformamos X_train\n",
    "X_train_woe = X_train[['country', 'assigned_room_type']] # las columnas que quiero transformar\n",
    "y_train_woe = y_train # nuestro target\n",
    "X_train[['country', 'assigned_room_type']] = woe.fit_transform(X_train_woe, y_train_woe)\n",
    "\n",
    "#       Transformamos X_test\n",
    "X_test_woe = X_test[['country', 'assigned_room_type']] \n",
    "y_test_woe = y_test \n",
    "X_test[['country', 'assigned_room_type']] = woe.transform(X_test_woe, y_test_woe)"
   ]
  },
  {
   "cell_type": "code",
   "execution_count": 12,
   "metadata": {},
   "outputs": [
    {
     "name": "stdout",
     "output_type": "stream",
     "text": [
      "(59404, 33)\n"
     ]
    },
    {
     "data": {
      "text/html": [
       "<div>\n",
       "<style scoped>\n",
       "    .dataframe tbody tr th:only-of-type {\n",
       "        vertical-align: middle;\n",
       "    }\n",
       "\n",
       "    .dataframe tbody tr th {\n",
       "        vertical-align: top;\n",
       "    }\n",
       "\n",
       "    .dataframe thead th {\n",
       "        text-align: right;\n",
       "    }\n",
       "</style>\n",
       "<table border=\"1\" class=\"dataframe\">\n",
       "  <thead>\n",
       "    <tr style=\"text-align: right;\">\n",
       "      <th></th>\n",
       "      <th>lead_time</th>\n",
       "      <th>arrival_date_month</th>\n",
       "      <th>arrival_date_day_of_month</th>\n",
       "      <th>stays_in_weekend_nights</th>\n",
       "      <th>stays_in_week_nights</th>\n",
       "      <th>adults</th>\n",
       "      <th>children</th>\n",
       "      <th>babies</th>\n",
       "      <th>country</th>\n",
       "      <th>is_repeated_guest</th>\n",
       "      <th>previous_cancellations</th>\n",
       "      <th>previous_bookings_not_canceled</th>\n",
       "      <th>assigned_room_type</th>\n",
       "      <th>booking_changes</th>\n",
       "      <th>days_in_waiting_list</th>\n",
       "      <th>adr</th>\n",
       "      <th>required_car_parking_spaces</th>\n",
       "      <th>total_of_special_requests</th>\n",
       "      <th>meal_FB</th>\n",
       "      <th>meal_HB</th>\n",
       "      <th>meal_SC</th>\n",
       "      <th>customer_Group</th>\n",
       "      <th>customer_Transient</th>\n",
       "      <th>customer_Transient-Party</th>\n",
       "      <th>market_segment_Complementary</th>\n",
       "      <th>market_segment_Corporate</th>\n",
       "      <th>market_segment_Direct</th>\n",
       "      <th>market_segment_Groups</th>\n",
       "      <th>market_segment_Offline TA/TO</th>\n",
       "      <th>market_segment_Online TA</th>\n",
       "      <th>distribution_channel_Direct</th>\n",
       "      <th>distribution_channel_GDS</th>\n",
       "      <th>distribution_channel_TA/TO</th>\n",
       "    </tr>\n",
       "  </thead>\n",
       "  <tbody>\n",
       "    <tr>\n",
       "      <th>32205</th>\n",
       "      <td>464</td>\n",
       "      <td>7</td>\n",
       "      <td>25</td>\n",
       "      <td>0</td>\n",
       "      <td>1</td>\n",
       "      <td>2</td>\n",
       "      <td>0</td>\n",
       "      <td>0</td>\n",
       "      <td>0.990232</td>\n",
       "      <td>0</td>\n",
       "      <td>0</td>\n",
       "      <td>0</td>\n",
       "      <td>0.221831</td>\n",
       "      <td>0</td>\n",
       "      <td>0</td>\n",
       "      <td>90.0</td>\n",
       "      <td>0</td>\n",
       "      <td>0</td>\n",
       "      <td>0</td>\n",
       "      <td>0</td>\n",
       "      <td>0</td>\n",
       "      <td>0</td>\n",
       "      <td>1</td>\n",
       "      <td>0</td>\n",
       "      <td>0</td>\n",
       "      <td>0</td>\n",
       "      <td>0</td>\n",
       "      <td>0</td>\n",
       "      <td>1</td>\n",
       "      <td>0</td>\n",
       "      <td>0</td>\n",
       "      <td>0</td>\n",
       "      <td>1</td>\n",
       "    </tr>\n",
       "    <tr>\n",
       "      <th>18699</th>\n",
       "      <td>34</td>\n",
       "      <td>10</td>\n",
       "      <td>15</td>\n",
       "      <td>2</td>\n",
       "      <td>3</td>\n",
       "      <td>2</td>\n",
       "      <td>0</td>\n",
       "      <td>0</td>\n",
       "      <td>-1.065651</td>\n",
       "      <td>0</td>\n",
       "      <td>0</td>\n",
       "      <td>0</td>\n",
       "      <td>-0.597884</td>\n",
       "      <td>0</td>\n",
       "      <td>0</td>\n",
       "      <td>166.8</td>\n",
       "      <td>0</td>\n",
       "      <td>2</td>\n",
       "      <td>0</td>\n",
       "      <td>0</td>\n",
       "      <td>0</td>\n",
       "      <td>0</td>\n",
       "      <td>1</td>\n",
       "      <td>0</td>\n",
       "      <td>0</td>\n",
       "      <td>0</td>\n",
       "      <td>0</td>\n",
       "      <td>0</td>\n",
       "      <td>0</td>\n",
       "      <td>1</td>\n",
       "      <td>0</td>\n",
       "      <td>0</td>\n",
       "      <td>1</td>\n",
       "    </tr>\n",
       "    <tr>\n",
       "      <th>53232</th>\n",
       "      <td>130</td>\n",
       "      <td>7</td>\n",
       "      <td>17</td>\n",
       "      <td>2</td>\n",
       "      <td>1</td>\n",
       "      <td>2</td>\n",
       "      <td>0</td>\n",
       "      <td>0</td>\n",
       "      <td>-0.416522</td>\n",
       "      <td>0</td>\n",
       "      <td>0</td>\n",
       "      <td>0</td>\n",
       "      <td>0.221831</td>\n",
       "      <td>0</td>\n",
       "      <td>0</td>\n",
       "      <td>105.3</td>\n",
       "      <td>0</td>\n",
       "      <td>0</td>\n",
       "      <td>0</td>\n",
       "      <td>0</td>\n",
       "      <td>0</td>\n",
       "      <td>0</td>\n",
       "      <td>1</td>\n",
       "      <td>0</td>\n",
       "      <td>0</td>\n",
       "      <td>0</td>\n",
       "      <td>0</td>\n",
       "      <td>0</td>\n",
       "      <td>0</td>\n",
       "      <td>1</td>\n",
       "      <td>0</td>\n",
       "      <td>0</td>\n",
       "      <td>1</td>\n",
       "    </tr>\n",
       "    <tr>\n",
       "      <th>77553</th>\n",
       "      <td>242</td>\n",
       "      <td>8</td>\n",
       "      <td>5</td>\n",
       "      <td>1</td>\n",
       "      <td>1</td>\n",
       "      <td>2</td>\n",
       "      <td>2</td>\n",
       "      <td>0</td>\n",
       "      <td>-0.565356</td>\n",
       "      <td>0</td>\n",
       "      <td>0</td>\n",
       "      <td>0</td>\n",
       "      <td>-0.218601</td>\n",
       "      <td>0</td>\n",
       "      <td>0</td>\n",
       "      <td>202.5</td>\n",
       "      <td>0</td>\n",
       "      <td>0</td>\n",
       "      <td>0</td>\n",
       "      <td>0</td>\n",
       "      <td>0</td>\n",
       "      <td>0</td>\n",
       "      <td>1</td>\n",
       "      <td>0</td>\n",
       "      <td>0</td>\n",
       "      <td>0</td>\n",
       "      <td>0</td>\n",
       "      <td>0</td>\n",
       "      <td>0</td>\n",
       "      <td>1</td>\n",
       "      <td>0</td>\n",
       "      <td>0</td>\n",
       "      <td>1</td>\n",
       "    </tr>\n",
       "    <tr>\n",
       "      <th>28820</th>\n",
       "      <td>30</td>\n",
       "      <td>5</td>\n",
       "      <td>22</td>\n",
       "      <td>1</td>\n",
       "      <td>1</td>\n",
       "      <td>1</td>\n",
       "      <td>0</td>\n",
       "      <td>0</td>\n",
       "      <td>0.990232</td>\n",
       "      <td>0</td>\n",
       "      <td>0</td>\n",
       "      <td>0</td>\n",
       "      <td>0.221831</td>\n",
       "      <td>0</td>\n",
       "      <td>0</td>\n",
       "      <td>144.0</td>\n",
       "      <td>0</td>\n",
       "      <td>0</td>\n",
       "      <td>0</td>\n",
       "      <td>0</td>\n",
       "      <td>0</td>\n",
       "      <td>0</td>\n",
       "      <td>0</td>\n",
       "      <td>1</td>\n",
       "      <td>0</td>\n",
       "      <td>0</td>\n",
       "      <td>1</td>\n",
       "      <td>0</td>\n",
       "      <td>0</td>\n",
       "      <td>0</td>\n",
       "      <td>1</td>\n",
       "      <td>0</td>\n",
       "      <td>0</td>\n",
       "    </tr>\n",
       "  </tbody>\n",
       "</table>\n",
       "</div>"
      ],
      "text/plain": [
       "       lead_time  arrival_date_month  arrival_date_day_of_month  \\\n",
       "32205        464                   7                         25   \n",
       "18699         34                  10                         15   \n",
       "53232        130                   7                         17   \n",
       "77553        242                   8                          5   \n",
       "28820         30                   5                         22   \n",
       "\n",
       "       stays_in_weekend_nights  stays_in_week_nights  adults  children  \\\n",
       "32205                        0                     1       2         0   \n",
       "18699                        2                     3       2         0   \n",
       "53232                        2                     1       2         0   \n",
       "77553                        1                     1       2         2   \n",
       "28820                        1                     1       1         0   \n",
       "\n",
       "       babies   country  is_repeated_guest  previous_cancellations  \\\n",
       "32205       0  0.990232                  0                       0   \n",
       "18699       0 -1.065651                  0                       0   \n",
       "53232       0 -0.416522                  0                       0   \n",
       "77553       0 -0.565356                  0                       0   \n",
       "28820       0  0.990232                  0                       0   \n",
       "\n",
       "       previous_bookings_not_canceled  assigned_room_type  booking_changes  \\\n",
       "32205                               0            0.221831                0   \n",
       "18699                               0           -0.597884                0   \n",
       "53232                               0            0.221831                0   \n",
       "77553                               0           -0.218601                0   \n",
       "28820                               0            0.221831                0   \n",
       "\n",
       "       days_in_waiting_list    adr  required_car_parking_spaces  \\\n",
       "32205                     0   90.0                            0   \n",
       "18699                     0  166.8                            0   \n",
       "53232                     0  105.3                            0   \n",
       "77553                     0  202.5                            0   \n",
       "28820                     0  144.0                            0   \n",
       "\n",
       "       total_of_special_requests  meal_FB  meal_HB  meal_SC  customer_Group  \\\n",
       "32205                          0        0        0        0               0   \n",
       "18699                          2        0        0        0               0   \n",
       "53232                          0        0        0        0               0   \n",
       "77553                          0        0        0        0               0   \n",
       "28820                          0        0        0        0               0   \n",
       "\n",
       "       customer_Transient  customer_Transient-Party  \\\n",
       "32205                   1                         0   \n",
       "18699                   1                         0   \n",
       "53232                   1                         0   \n",
       "77553                   1                         0   \n",
       "28820                   0                         1   \n",
       "\n",
       "       market_segment_Complementary  market_segment_Corporate  \\\n",
       "32205                             0                         0   \n",
       "18699                             0                         0   \n",
       "53232                             0                         0   \n",
       "77553                             0                         0   \n",
       "28820                             0                         0   \n",
       "\n",
       "       market_segment_Direct  market_segment_Groups  \\\n",
       "32205                      0                      0   \n",
       "18699                      0                      0   \n",
       "53232                      0                      0   \n",
       "77553                      0                      0   \n",
       "28820                      1                      0   \n",
       "\n",
       "       market_segment_Offline TA/TO  market_segment_Online TA  \\\n",
       "32205                             1                         0   \n",
       "18699                             0                         1   \n",
       "53232                             0                         1   \n",
       "77553                             0                         1   \n",
       "28820                             0                         0   \n",
       "\n",
       "       distribution_channel_Direct  distribution_channel_GDS  \\\n",
       "32205                            0                         0   \n",
       "18699                            0                         0   \n",
       "53232                            0                         0   \n",
       "77553                            0                         0   \n",
       "28820                            1                         0   \n",
       "\n",
       "       distribution_channel_TA/TO  \n",
       "32205                           1  \n",
       "18699                           1  \n",
       "53232                           1  \n",
       "77553                           1  \n",
       "28820                           0  "
      ]
     },
     "execution_count": 12,
     "metadata": {},
     "output_type": "execute_result"
    }
   ],
   "source": [
    "print(X_train.shape)\n",
    "X_train.head()"
   ]
  },
  {
   "cell_type": "markdown",
   "metadata": {},
   "source": [
    "-------"
   ]
  },
  {
   "cell_type": "markdown",
   "metadata": {},
   "source": [
    "| **Feature Importance**|\n",
    "| :---: |\n",
    "\n",
    "Select KBest\n",
    "\n",
    "-----> Esto al final no lo usé en el modelo "
   ]
  },
  {
   "cell_type": "code",
   "execution_count": 13,
   "metadata": {},
   "outputs": [
    {
     "data": {
      "text/plain": [
       "(59404, 33)"
      ]
     },
     "execution_count": 13,
     "metadata": {},
     "output_type": "execute_result"
    }
   ],
   "source": [
    "X_train.shape"
   ]
  },
  {
   "cell_type": "code",
   "execution_count": 14,
   "metadata": {},
   "outputs": [
    {
     "data": {
      "text/plain": [
       "(14852, 33)"
      ]
     },
     "execution_count": 14,
     "metadata": {},
     "output_type": "execute_result"
    }
   ],
   "source": [
    "X_test.shape"
   ]
  },
  {
   "cell_type": "code",
   "execution_count": 15,
   "metadata": {},
   "outputs": [
    {
     "name": "stdout",
     "output_type": "stream",
     "text": [
      "X_train.shape: (59404, 33)\n",
      "X_train_kbest.shape: (59404, 33)\n"
     ]
    },
    {
     "data": {
      "text/html": [
       "<div>\n",
       "<style scoped>\n",
       "    .dataframe tbody tr th:only-of-type {\n",
       "        vertical-align: middle;\n",
       "    }\n",
       "\n",
       "    .dataframe tbody tr th {\n",
       "        vertical-align: top;\n",
       "    }\n",
       "\n",
       "    .dataframe thead th {\n",
       "        text-align: right;\n",
       "    }\n",
       "</style>\n",
       "<table border=\"1\" class=\"dataframe\">\n",
       "  <thead>\n",
       "    <tr style=\"text-align: right;\">\n",
       "      <th></th>\n",
       "      <th>Feature_kbest</th>\n",
       "      <th>Score_kbest</th>\n",
       "    </tr>\n",
       "  </thead>\n",
       "  <tbody>\n",
       "    <tr>\n",
       "      <th>0</th>\n",
       "      <td>country</td>\n",
       "      <td>12454.663774</td>\n",
       "    </tr>\n",
       "    <tr>\n",
       "      <th>1</th>\n",
       "      <td>lead_time</td>\n",
       "      <td>6206.308062</td>\n",
       "    </tr>\n",
       "    <tr>\n",
       "      <th>2</th>\n",
       "      <td>total_of_special_requests</td>\n",
       "      <td>5785.575221</td>\n",
       "    </tr>\n",
       "    <tr>\n",
       "      <th>3</th>\n",
       "      <td>market_segment_Groups</td>\n",
       "      <td>3987.019960</td>\n",
       "    </tr>\n",
       "    <tr>\n",
       "      <th>4</th>\n",
       "      <td>assigned_room_type</td>\n",
       "      <td>2027.503678</td>\n",
       "    </tr>\n",
       "    <tr>\n",
       "      <th>5</th>\n",
       "      <td>distribution_channel_TA/TO</td>\n",
       "      <td>1778.042939</td>\n",
       "    </tr>\n",
       "    <tr>\n",
       "      <th>6</th>\n",
       "      <td>previous_cancellations</td>\n",
       "      <td>1727.523129</td>\n",
       "    </tr>\n",
       "    <tr>\n",
       "      <th>7</th>\n",
       "      <td>customer_Transient-Party</td>\n",
       "      <td>1406.665321</td>\n",
       "    </tr>\n",
       "    <tr>\n",
       "      <th>8</th>\n",
       "      <td>booking_changes</td>\n",
       "      <td>1400.161106</td>\n",
       "    </tr>\n",
       "    <tr>\n",
       "      <th>9</th>\n",
       "      <td>distribution_channel_Direct</td>\n",
       "      <td>1263.751659</td>\n",
       "    </tr>\n",
       "    <tr>\n",
       "      <th>10</th>\n",
       "      <td>market_segment_Direct</td>\n",
       "      <td>1223.753942</td>\n",
       "    </tr>\n",
       "    <tr>\n",
       "      <th>11</th>\n",
       "      <td>customer_Transient</td>\n",
       "      <td>1198.892756</td>\n",
       "    </tr>\n",
       "    <tr>\n",
       "      <th>12</th>\n",
       "      <td>required_car_parking_spaces</td>\n",
       "      <td>1064.086715</td>\n",
       "    </tr>\n",
       "    <tr>\n",
       "      <th>13</th>\n",
       "      <td>market_segment_Online TA</td>\n",
       "      <td>450.051057</td>\n",
       "    </tr>\n",
       "    <tr>\n",
       "      <th>14</th>\n",
       "      <td>market_segment_Corporate</td>\n",
       "      <td>361.393458</td>\n",
       "    </tr>\n",
       "    <tr>\n",
       "      <th>15</th>\n",
       "      <td>days_in_waiting_list</td>\n",
       "      <td>211.761531</td>\n",
       "    </tr>\n",
       "    <tr>\n",
       "      <th>16</th>\n",
       "      <td>previous_bookings_not_canceled</td>\n",
       "      <td>162.865379</td>\n",
       "    </tr>\n",
       "    <tr>\n",
       "      <th>17</th>\n",
       "      <td>market_segment_Complementary</td>\n",
       "      <td>159.299475</td>\n",
       "    </tr>\n",
       "    <tr>\n",
       "      <th>18</th>\n",
       "      <td>is_repeated_guest</td>\n",
       "      <td>149.722610</td>\n",
       "    </tr>\n",
       "    <tr>\n",
       "      <th>19</th>\n",
       "      <td>adults</td>\n",
       "      <td>137.160089</td>\n",
       "    </tr>\n",
       "    <tr>\n",
       "      <th>20</th>\n",
       "      <td>customer_Group</td>\n",
       "      <td>86.701528</td>\n",
       "    </tr>\n",
       "    <tr>\n",
       "      <th>21</th>\n",
       "      <td>babies</td>\n",
       "      <td>61.927769</td>\n",
       "    </tr>\n",
       "    <tr>\n",
       "      <th>22</th>\n",
       "      <td>adr</td>\n",
       "      <td>52.171250</td>\n",
       "    </tr>\n",
       "    <tr>\n",
       "      <th>23</th>\n",
       "      <td>stays_in_week_nights</td>\n",
       "      <td>49.895060</td>\n",
       "    </tr>\n",
       "    <tr>\n",
       "      <th>24</th>\n",
       "      <td>meal_HB</td>\n",
       "      <td>49.014947</td>\n",
       "    </tr>\n",
       "    <tr>\n",
       "      <th>25</th>\n",
       "      <td>children</td>\n",
       "      <td>43.807366</td>\n",
       "    </tr>\n",
       "    <tr>\n",
       "      <th>26</th>\n",
       "      <td>meal_SC</td>\n",
       "      <td>42.782356</td>\n",
       "    </tr>\n",
       "    <tr>\n",
       "      <th>27</th>\n",
       "      <td>distribution_channel_GDS</td>\n",
       "      <td>32.583111</td>\n",
       "    </tr>\n",
       "    <tr>\n",
       "      <th>28</th>\n",
       "      <td>meal_FB</td>\n",
       "      <td>19.977088</td>\n",
       "    </tr>\n",
       "    <tr>\n",
       "      <th>29</th>\n",
       "      <td>arrival_date_day_of_month</td>\n",
       "      <td>4.152739</td>\n",
       "    </tr>\n",
       "    <tr>\n",
       "      <th>30</th>\n",
       "      <td>market_segment_Offline TA/TO</td>\n",
       "      <td>3.840086</td>\n",
       "    </tr>\n",
       "    <tr>\n",
       "      <th>31</th>\n",
       "      <td>arrival_date_month</td>\n",
       "      <td>3.191974</td>\n",
       "    </tr>\n",
       "    <tr>\n",
       "      <th>32</th>\n",
       "      <td>stays_in_weekend_nights</td>\n",
       "      <td>1.200795</td>\n",
       "    </tr>\n",
       "  </tbody>\n",
       "</table>\n",
       "</div>"
      ],
      "text/plain": [
       "                     Feature_kbest   Score_kbest\n",
       "0                          country  12454.663774\n",
       "1                        lead_time   6206.308062\n",
       "2        total_of_special_requests   5785.575221\n",
       "3            market_segment_Groups   3987.019960\n",
       "4               assigned_room_type   2027.503678\n",
       "5       distribution_channel_TA/TO   1778.042939\n",
       "6           previous_cancellations   1727.523129\n",
       "7         customer_Transient-Party   1406.665321\n",
       "8                  booking_changes   1400.161106\n",
       "9      distribution_channel_Direct   1263.751659\n",
       "10           market_segment_Direct   1223.753942\n",
       "11              customer_Transient   1198.892756\n",
       "12     required_car_parking_spaces   1064.086715\n",
       "13        market_segment_Online TA    450.051057\n",
       "14        market_segment_Corporate    361.393458\n",
       "15            days_in_waiting_list    211.761531\n",
       "16  previous_bookings_not_canceled    162.865379\n",
       "17    market_segment_Complementary    159.299475\n",
       "18               is_repeated_guest    149.722610\n",
       "19                          adults    137.160089\n",
       "20                  customer_Group     86.701528\n",
       "21                          babies     61.927769\n",
       "22                             adr     52.171250\n",
       "23            stays_in_week_nights     49.895060\n",
       "24                         meal_HB     49.014947\n",
       "25                        children     43.807366\n",
       "26                         meal_SC     42.782356\n",
       "27        distribution_channel_GDS     32.583111\n",
       "28                         meal_FB     19.977088\n",
       "29       arrival_date_day_of_month      4.152739\n",
       "30    market_segment_Offline TA/TO      3.840086\n",
       "31              arrival_date_month      3.191974\n",
       "32         stays_in_weekend_nights      1.200795"
      ]
     },
     "execution_count": 15,
     "metadata": {},
     "output_type": "execute_result"
    }
   ],
   "source": [
    "# Vemos qué variables son más importantes --> selectKbest\n",
    "\n",
    "from sklearn.feature_selection import SelectKBest\n",
    "sel = SelectKBest(k=33) # para ordenar todas las columnas por importancia\n",
    "\n",
    "X_train_kbest = sel.fit_transform(X_train, y_train)\n",
    "print(\"X_train.shape:\", X_train.shape)\n",
    "print(\"X_train_kbest.shape:\",X_train_kbest.shape)\n",
    "\n",
    "\n",
    "# Código de https://rotadev.com/the-easiest-way-for-getting-feature-names-after-running-selectkbest-in-scikit-learn-dev/\n",
    "\n",
    "names = X_train.columns.values[sel.get_support()]\n",
    "scores = sel.scores_[sel.get_support()]\n",
    "\n",
    "names_scores = list(zip(names, scores))\n",
    "\n",
    "importance_df = pd.DataFrame(data = names_scores, columns=['Feature_kbest', 'Score_kbest'])\n",
    "importance_df = importance_df.sort_values(['Score_kbest'], ascending=False).reset_index(drop=True)\n",
    "importance_df"
   ]
  },
  {
   "cell_type": "code",
   "execution_count": 16,
   "metadata": {},
   "outputs": [
    {
     "data": {
      "text/html": [
       "<div>\n",
       "<style scoped>\n",
       "    .dataframe tbody tr th:only-of-type {\n",
       "        vertical-align: middle;\n",
       "    }\n",
       "\n",
       "    .dataframe tbody tr th {\n",
       "        vertical-align: top;\n",
       "    }\n",
       "\n",
       "    .dataframe thead th {\n",
       "        text-align: right;\n",
       "    }\n",
       "</style>\n",
       "<table border=\"1\" class=\"dataframe\">\n",
       "  <thead>\n",
       "    <tr style=\"text-align: right;\">\n",
       "      <th></th>\n",
       "      <th>Feature_kbest</th>\n",
       "      <th>Score_kbest</th>\n",
       "    </tr>\n",
       "  </thead>\n",
       "  <tbody>\n",
       "    <tr>\n",
       "      <th>0</th>\n",
       "      <td>country</td>\n",
       "      <td>12454.663774</td>\n",
       "    </tr>\n",
       "    <tr>\n",
       "      <th>1</th>\n",
       "      <td>lead_time</td>\n",
       "      <td>6206.308062</td>\n",
       "    </tr>\n",
       "    <tr>\n",
       "      <th>2</th>\n",
       "      <td>total_of_special_requests</td>\n",
       "      <td>5785.575221</td>\n",
       "    </tr>\n",
       "    <tr>\n",
       "      <th>3</th>\n",
       "      <td>market_segment_Groups</td>\n",
       "      <td>3987.019960</td>\n",
       "    </tr>\n",
       "    <tr>\n",
       "      <th>4</th>\n",
       "      <td>assigned_room_type</td>\n",
       "      <td>2027.503678</td>\n",
       "    </tr>\n",
       "    <tr>\n",
       "      <th>5</th>\n",
       "      <td>distribution_channel_TA/TO</td>\n",
       "      <td>1778.042939</td>\n",
       "    </tr>\n",
       "    <tr>\n",
       "      <th>6</th>\n",
       "      <td>previous_cancellations</td>\n",
       "      <td>1727.523129</td>\n",
       "    </tr>\n",
       "    <tr>\n",
       "      <th>7</th>\n",
       "      <td>customer_Transient-Party</td>\n",
       "      <td>1406.665321</td>\n",
       "    </tr>\n",
       "    <tr>\n",
       "      <th>8</th>\n",
       "      <td>booking_changes</td>\n",
       "      <td>1400.161106</td>\n",
       "    </tr>\n",
       "    <tr>\n",
       "      <th>9</th>\n",
       "      <td>distribution_channel_Direct</td>\n",
       "      <td>1263.751659</td>\n",
       "    </tr>\n",
       "  </tbody>\n",
       "</table>\n",
       "</div>"
      ],
      "text/plain": [
       "                 Feature_kbest   Score_kbest\n",
       "0                      country  12454.663774\n",
       "1                    lead_time   6206.308062\n",
       "2    total_of_special_requests   5785.575221\n",
       "3        market_segment_Groups   3987.019960\n",
       "4           assigned_room_type   2027.503678\n",
       "5   distribution_channel_TA/TO   1778.042939\n",
       "6       previous_cancellations   1727.523129\n",
       "7     customer_Transient-Party   1406.665321\n",
       "8              booking_changes   1400.161106\n",
       "9  distribution_channel_Direct   1263.751659"
      ]
     },
     "execution_count": 16,
     "metadata": {},
     "output_type": "execute_result"
    }
   ],
   "source": [
    "importance_df[:10]"
   ]
  },
  {
   "cell_type": "code",
   "execution_count": 17,
   "metadata": {},
   "outputs": [
    {
     "data": {
      "application/vnd.plotly.v1+json": {
       "config": {
        "plotlyServerURL": "https://plot.ly"
       },
       "data": [
        {
         "marker": {
          "color": "#4620ff"
         },
         "name": "Feature Importance Random Forest",
         "type": "bar",
         "x": [
          "country",
          "lead_time",
          "total_of_special_requests",
          "market_segment_Groups",
          "assigned_room_type",
          "distribution_channel_TA/TO",
          "previous_cancellations",
          "customer_Transient-Party",
          "booking_changes",
          "distribution_channel_Direct"
         ],
         "y": [
          12454.663774207576,
          6206.308061761783,
          5785.57522104556,
          3987.0199596210646,
          2027.503678273802,
          1778.0429392217736,
          1727.5231288344783,
          1406.6653210968032,
          1400.1611057658974,
          1263.7516585410058
         ]
        }
       ],
       "layout": {
        "barmode": "group",
        "font": {
         "family": "Arial"
        },
        "paper_bgcolor": "#efefef",
        "plot_bgcolor": "#efefef",
        "showlegend": false,
        "template": {
         "data": {
          "bar": [
           {
            "error_x": {
             "color": "#2a3f5f"
            },
            "error_y": {
             "color": "#2a3f5f"
            },
            "marker": {
             "line": {
              "color": "#E5ECF6",
              "width": 0.5
             },
             "pattern": {
              "fillmode": "overlay",
              "size": 10,
              "solidity": 0.2
             }
            },
            "type": "bar"
           }
          ],
          "barpolar": [
           {
            "marker": {
             "line": {
              "color": "#E5ECF6",
              "width": 0.5
             },
             "pattern": {
              "fillmode": "overlay",
              "size": 10,
              "solidity": 0.2
             }
            },
            "type": "barpolar"
           }
          ],
          "carpet": [
           {
            "aaxis": {
             "endlinecolor": "#2a3f5f",
             "gridcolor": "white",
             "linecolor": "white",
             "minorgridcolor": "white",
             "startlinecolor": "#2a3f5f"
            },
            "baxis": {
             "endlinecolor": "#2a3f5f",
             "gridcolor": "white",
             "linecolor": "white",
             "minorgridcolor": "white",
             "startlinecolor": "#2a3f5f"
            },
            "type": "carpet"
           }
          ],
          "choropleth": [
           {
            "colorbar": {
             "outlinewidth": 0,
             "ticks": ""
            },
            "type": "choropleth"
           }
          ],
          "contour": [
           {
            "colorbar": {
             "outlinewidth": 0,
             "ticks": ""
            },
            "colorscale": [
             [
              0,
              "#0d0887"
             ],
             [
              0.1111111111111111,
              "#46039f"
             ],
             [
              0.2222222222222222,
              "#7201a8"
             ],
             [
              0.3333333333333333,
              "#9c179e"
             ],
             [
              0.4444444444444444,
              "#bd3786"
             ],
             [
              0.5555555555555556,
              "#d8576b"
             ],
             [
              0.6666666666666666,
              "#ed7953"
             ],
             [
              0.7777777777777778,
              "#fb9f3a"
             ],
             [
              0.8888888888888888,
              "#fdca26"
             ],
             [
              1,
              "#f0f921"
             ]
            ],
            "type": "contour"
           }
          ],
          "contourcarpet": [
           {
            "colorbar": {
             "outlinewidth": 0,
             "ticks": ""
            },
            "type": "contourcarpet"
           }
          ],
          "heatmap": [
           {
            "colorbar": {
             "outlinewidth": 0,
             "ticks": ""
            },
            "colorscale": [
             [
              0,
              "#0d0887"
             ],
             [
              0.1111111111111111,
              "#46039f"
             ],
             [
              0.2222222222222222,
              "#7201a8"
             ],
             [
              0.3333333333333333,
              "#9c179e"
             ],
             [
              0.4444444444444444,
              "#bd3786"
             ],
             [
              0.5555555555555556,
              "#d8576b"
             ],
             [
              0.6666666666666666,
              "#ed7953"
             ],
             [
              0.7777777777777778,
              "#fb9f3a"
             ],
             [
              0.8888888888888888,
              "#fdca26"
             ],
             [
              1,
              "#f0f921"
             ]
            ],
            "type": "heatmap"
           }
          ],
          "heatmapgl": [
           {
            "colorbar": {
             "outlinewidth": 0,
             "ticks": ""
            },
            "colorscale": [
             [
              0,
              "#0d0887"
             ],
             [
              0.1111111111111111,
              "#46039f"
             ],
             [
              0.2222222222222222,
              "#7201a8"
             ],
             [
              0.3333333333333333,
              "#9c179e"
             ],
             [
              0.4444444444444444,
              "#bd3786"
             ],
             [
              0.5555555555555556,
              "#d8576b"
             ],
             [
              0.6666666666666666,
              "#ed7953"
             ],
             [
              0.7777777777777778,
              "#fb9f3a"
             ],
             [
              0.8888888888888888,
              "#fdca26"
             ],
             [
              1,
              "#f0f921"
             ]
            ],
            "type": "heatmapgl"
           }
          ],
          "histogram": [
           {
            "marker": {
             "pattern": {
              "fillmode": "overlay",
              "size": 10,
              "solidity": 0.2
             }
            },
            "type": "histogram"
           }
          ],
          "histogram2d": [
           {
            "colorbar": {
             "outlinewidth": 0,
             "ticks": ""
            },
            "colorscale": [
             [
              0,
              "#0d0887"
             ],
             [
              0.1111111111111111,
              "#46039f"
             ],
             [
              0.2222222222222222,
              "#7201a8"
             ],
             [
              0.3333333333333333,
              "#9c179e"
             ],
             [
              0.4444444444444444,
              "#bd3786"
             ],
             [
              0.5555555555555556,
              "#d8576b"
             ],
             [
              0.6666666666666666,
              "#ed7953"
             ],
             [
              0.7777777777777778,
              "#fb9f3a"
             ],
             [
              0.8888888888888888,
              "#fdca26"
             ],
             [
              1,
              "#f0f921"
             ]
            ],
            "type": "histogram2d"
           }
          ],
          "histogram2dcontour": [
           {
            "colorbar": {
             "outlinewidth": 0,
             "ticks": ""
            },
            "colorscale": [
             [
              0,
              "#0d0887"
             ],
             [
              0.1111111111111111,
              "#46039f"
             ],
             [
              0.2222222222222222,
              "#7201a8"
             ],
             [
              0.3333333333333333,
              "#9c179e"
             ],
             [
              0.4444444444444444,
              "#bd3786"
             ],
             [
              0.5555555555555556,
              "#d8576b"
             ],
             [
              0.6666666666666666,
              "#ed7953"
             ],
             [
              0.7777777777777778,
              "#fb9f3a"
             ],
             [
              0.8888888888888888,
              "#fdca26"
             ],
             [
              1,
              "#f0f921"
             ]
            ],
            "type": "histogram2dcontour"
           }
          ],
          "mesh3d": [
           {
            "colorbar": {
             "outlinewidth": 0,
             "ticks": ""
            },
            "type": "mesh3d"
           }
          ],
          "parcoords": [
           {
            "line": {
             "colorbar": {
              "outlinewidth": 0,
              "ticks": ""
             }
            },
            "type": "parcoords"
           }
          ],
          "pie": [
           {
            "automargin": true,
            "type": "pie"
           }
          ],
          "scatter": [
           {
            "fillpattern": {
             "fillmode": "overlay",
             "size": 10,
             "solidity": 0.2
            },
            "type": "scatter"
           }
          ],
          "scatter3d": [
           {
            "line": {
             "colorbar": {
              "outlinewidth": 0,
              "ticks": ""
             }
            },
            "marker": {
             "colorbar": {
              "outlinewidth": 0,
              "ticks": ""
             }
            },
            "type": "scatter3d"
           }
          ],
          "scattercarpet": [
           {
            "marker": {
             "colorbar": {
              "outlinewidth": 0,
              "ticks": ""
             }
            },
            "type": "scattercarpet"
           }
          ],
          "scattergeo": [
           {
            "marker": {
             "colorbar": {
              "outlinewidth": 0,
              "ticks": ""
             }
            },
            "type": "scattergeo"
           }
          ],
          "scattergl": [
           {
            "marker": {
             "colorbar": {
              "outlinewidth": 0,
              "ticks": ""
             }
            },
            "type": "scattergl"
           }
          ],
          "scattermapbox": [
           {
            "marker": {
             "colorbar": {
              "outlinewidth": 0,
              "ticks": ""
             }
            },
            "type": "scattermapbox"
           }
          ],
          "scatterpolar": [
           {
            "marker": {
             "colorbar": {
              "outlinewidth": 0,
              "ticks": ""
             }
            },
            "type": "scatterpolar"
           }
          ],
          "scatterpolargl": [
           {
            "marker": {
             "colorbar": {
              "outlinewidth": 0,
              "ticks": ""
             }
            },
            "type": "scatterpolargl"
           }
          ],
          "scatterternary": [
           {
            "marker": {
             "colorbar": {
              "outlinewidth": 0,
              "ticks": ""
             }
            },
            "type": "scatterternary"
           }
          ],
          "surface": [
           {
            "colorbar": {
             "outlinewidth": 0,
             "ticks": ""
            },
            "colorscale": [
             [
              0,
              "#0d0887"
             ],
             [
              0.1111111111111111,
              "#46039f"
             ],
             [
              0.2222222222222222,
              "#7201a8"
             ],
             [
              0.3333333333333333,
              "#9c179e"
             ],
             [
              0.4444444444444444,
              "#bd3786"
             ],
             [
              0.5555555555555556,
              "#d8576b"
             ],
             [
              0.6666666666666666,
              "#ed7953"
             ],
             [
              0.7777777777777778,
              "#fb9f3a"
             ],
             [
              0.8888888888888888,
              "#fdca26"
             ],
             [
              1,
              "#f0f921"
             ]
            ],
            "type": "surface"
           }
          ],
          "table": [
           {
            "cells": {
             "fill": {
              "color": "#EBF0F8"
             },
             "line": {
              "color": "white"
             }
            },
            "header": {
             "fill": {
              "color": "#C8D4E3"
             },
             "line": {
              "color": "white"
             }
            },
            "type": "table"
           }
          ]
         },
         "layout": {
          "annotationdefaults": {
           "arrowcolor": "#2a3f5f",
           "arrowhead": 0,
           "arrowwidth": 1
          },
          "autotypenumbers": "strict",
          "coloraxis": {
           "colorbar": {
            "outlinewidth": 0,
            "ticks": ""
           }
          },
          "colorscale": {
           "diverging": [
            [
             0,
             "#8e0152"
            ],
            [
             0.1,
             "#c51b7d"
            ],
            [
             0.2,
             "#de77ae"
            ],
            [
             0.3,
             "#f1b6da"
            ],
            [
             0.4,
             "#fde0ef"
            ],
            [
             0.5,
             "#f7f7f7"
            ],
            [
             0.6,
             "#e6f5d0"
            ],
            [
             0.7,
             "#b8e186"
            ],
            [
             0.8,
             "#7fbc41"
            ],
            [
             0.9,
             "#4d9221"
            ],
            [
             1,
             "#276419"
            ]
           ],
           "sequential": [
            [
             0,
             "#0d0887"
            ],
            [
             0.1111111111111111,
             "#46039f"
            ],
            [
             0.2222222222222222,
             "#7201a8"
            ],
            [
             0.3333333333333333,
             "#9c179e"
            ],
            [
             0.4444444444444444,
             "#bd3786"
            ],
            [
             0.5555555555555556,
             "#d8576b"
            ],
            [
             0.6666666666666666,
             "#ed7953"
            ],
            [
             0.7777777777777778,
             "#fb9f3a"
            ],
            [
             0.8888888888888888,
             "#fdca26"
            ],
            [
             1,
             "#f0f921"
            ]
           ],
           "sequentialminus": [
            [
             0,
             "#0d0887"
            ],
            [
             0.1111111111111111,
             "#46039f"
            ],
            [
             0.2222222222222222,
             "#7201a8"
            ],
            [
             0.3333333333333333,
             "#9c179e"
            ],
            [
             0.4444444444444444,
             "#bd3786"
            ],
            [
             0.5555555555555556,
             "#d8576b"
            ],
            [
             0.6666666666666666,
             "#ed7953"
            ],
            [
             0.7777777777777778,
             "#fb9f3a"
            ],
            [
             0.8888888888888888,
             "#fdca26"
            ],
            [
             1,
             "#f0f921"
            ]
           ]
          },
          "colorway": [
           "#636efa",
           "#EF553B",
           "#00cc96",
           "#ab63fa",
           "#FFA15A",
           "#19d3f3",
           "#FF6692",
           "#B6E880",
           "#FF97FF",
           "#FECB52"
          ],
          "font": {
           "color": "#2a3f5f"
          },
          "geo": {
           "bgcolor": "white",
           "lakecolor": "white",
           "landcolor": "#E5ECF6",
           "showlakes": true,
           "showland": true,
           "subunitcolor": "white"
          },
          "hoverlabel": {
           "align": "left"
          },
          "hovermode": "closest",
          "mapbox": {
           "style": "light"
          },
          "paper_bgcolor": "white",
          "plot_bgcolor": "#E5ECF6",
          "polar": {
           "angularaxis": {
            "gridcolor": "white",
            "linecolor": "white",
            "ticks": ""
           },
           "bgcolor": "#E5ECF6",
           "radialaxis": {
            "gridcolor": "white",
            "linecolor": "white",
            "ticks": ""
           }
          },
          "scene": {
           "xaxis": {
            "backgroundcolor": "#E5ECF6",
            "gridcolor": "white",
            "gridwidth": 2,
            "linecolor": "white",
            "showbackground": true,
            "ticks": "",
            "zerolinecolor": "white"
           },
           "yaxis": {
            "backgroundcolor": "#E5ECF6",
            "gridcolor": "white",
            "gridwidth": 2,
            "linecolor": "white",
            "showbackground": true,
            "ticks": "",
            "zerolinecolor": "white"
           },
           "zaxis": {
            "backgroundcolor": "#E5ECF6",
            "gridcolor": "white",
            "gridwidth": 2,
            "linecolor": "white",
            "showbackground": true,
            "ticks": "",
            "zerolinecolor": "white"
           }
          },
          "shapedefaults": {
           "line": {
            "color": "#2a3f5f"
           }
          },
          "ternary": {
           "aaxis": {
            "gridcolor": "white",
            "linecolor": "white",
            "ticks": ""
           },
           "baxis": {
            "gridcolor": "white",
            "linecolor": "white",
            "ticks": ""
           },
           "bgcolor": "#E5ECF6",
           "caxis": {
            "gridcolor": "white",
            "linecolor": "white",
            "ticks": ""
           }
          },
          "title": {
           "x": 0.05
          },
          "xaxis": {
           "automargin": true,
           "gridcolor": "white",
           "linecolor": "white",
           "ticks": "",
           "title": {
            "standoff": 15
           },
           "zerolinecolor": "white",
           "zerolinewidth": 2
          },
          "yaxis": {
           "automargin": true,
           "gridcolor": "white",
           "linecolor": "white",
           "ticks": "",
           "title": {
            "standoff": 15
           },
           "zerolinecolor": "white",
           "zerolinewidth": 2
          }
         }
        },
        "title": {
         "font": {
          "family": "Arial"
         }
        },
        "uniformtext": {
         "minsize": 12,
         "mode": "hide"
        },
        "yaxis": {
         "visible": true
        }
       }
      }
     },
     "metadata": {},
     "output_type": "display_data"
    }
   ],
   "source": [
    "# GRÁFICO PRINCIPALES VARIABLES\n",
    "\n",
    "fig = go.Figure()\n",
    "fig.add_trace(go.Bar(name='Feature Importance Random Forest', y=importance_df['Score_kbest'][:10], \n",
    "                    x=importance_df['Feature_kbest'][:10], marker_color = '#4620ff'))\n",
    "\n",
    "fig.update_layout(barmode='group', uniformtext_minsize=12, uniformtext_mode='hide', font_family = 'Arial', title_font_family='Arial', \n",
    "                        plot_bgcolor='#efefef', paper_bgcolor='#efefef',showlegend=False)\n",
    "\n",
    "fig.update_yaxes(visible = True)\n",
    "\n",
    "fig.show()"
   ]
  },
  {
   "cell_type": "markdown",
   "metadata": {},
   "source": [
    "----"
   ]
  },
  {
   "cell_type": "code",
   "execution_count": 20,
   "metadata": {},
   "outputs": [],
   "source": [
    "# 3. Guardamos los datasets\n",
    "\n",
    "#X_train.to_csv('../src:data/src:data:processed/X_train.csv', encoding='utf-8')"
   ]
  },
  {
   "cell_type": "code",
   "execution_count": 18,
   "metadata": {},
   "outputs": [
    {
     "name": "stdout",
     "output_type": "stream",
     "text": [
      "(59404,)\n"
     ]
    },
    {
     "data": {
      "text/plain": [
       "32205    1\n",
       "18699    1\n",
       "53232    0\n",
       "77553    0\n",
       "28820    1\n",
       "Name: is_canceled, dtype: int64"
      ]
     },
     "execution_count": 18,
     "metadata": {},
     "output_type": "execute_result"
    }
   ],
   "source": [
    "print(y_train.shape)\n",
    "y_train.head()"
   ]
  },
  {
   "cell_type": "code",
   "execution_count": 22,
   "metadata": {},
   "outputs": [],
   "source": [
    "#y_train.to_csv('../src:data/src:data:processed/y_train.csv', encoding='utf-8')"
   ]
  },
  {
   "cell_type": "code",
   "execution_count": 19,
   "metadata": {},
   "outputs": [
    {
     "name": "stdout",
     "output_type": "stream",
     "text": [
      "(14852, 33)\n"
     ]
    },
    {
     "data": {
      "text/html": [
       "<div>\n",
       "<style scoped>\n",
       "    .dataframe tbody tr th:only-of-type {\n",
       "        vertical-align: middle;\n",
       "    }\n",
       "\n",
       "    .dataframe tbody tr th {\n",
       "        vertical-align: top;\n",
       "    }\n",
       "\n",
       "    .dataframe thead th {\n",
       "        text-align: right;\n",
       "    }\n",
       "</style>\n",
       "<table border=\"1\" class=\"dataframe\">\n",
       "  <thead>\n",
       "    <tr style=\"text-align: right;\">\n",
       "      <th></th>\n",
       "      <th>lead_time</th>\n",
       "      <th>arrival_date_month</th>\n",
       "      <th>arrival_date_day_of_month</th>\n",
       "      <th>stays_in_weekend_nights</th>\n",
       "      <th>stays_in_week_nights</th>\n",
       "      <th>adults</th>\n",
       "      <th>children</th>\n",
       "      <th>babies</th>\n",
       "      <th>country</th>\n",
       "      <th>is_repeated_guest</th>\n",
       "      <th>previous_cancellations</th>\n",
       "      <th>previous_bookings_not_canceled</th>\n",
       "      <th>assigned_room_type</th>\n",
       "      <th>booking_changes</th>\n",
       "      <th>days_in_waiting_list</th>\n",
       "      <th>adr</th>\n",
       "      <th>required_car_parking_spaces</th>\n",
       "      <th>total_of_special_requests</th>\n",
       "      <th>meal_FB</th>\n",
       "      <th>meal_HB</th>\n",
       "      <th>meal_SC</th>\n",
       "      <th>customer_Group</th>\n",
       "      <th>customer_Transient</th>\n",
       "      <th>customer_Transient-Party</th>\n",
       "      <th>market_segment_Complementary</th>\n",
       "      <th>market_segment_Corporate</th>\n",
       "      <th>market_segment_Direct</th>\n",
       "      <th>market_segment_Groups</th>\n",
       "      <th>market_segment_Offline TA/TO</th>\n",
       "      <th>market_segment_Online TA</th>\n",
       "      <th>distribution_channel_Direct</th>\n",
       "      <th>distribution_channel_GDS</th>\n",
       "      <th>distribution_channel_TA/TO</th>\n",
       "    </tr>\n",
       "  </thead>\n",
       "  <tbody>\n",
       "    <tr>\n",
       "      <th>36434</th>\n",
       "      <td>414</td>\n",
       "      <td>12</td>\n",
       "      <td>5</td>\n",
       "      <td>2</td>\n",
       "      <td>1</td>\n",
       "      <td>2</td>\n",
       "      <td>0</td>\n",
       "      <td>0</td>\n",
       "      <td>0.990232</td>\n",
       "      <td>0</td>\n",
       "      <td>1</td>\n",
       "      <td>0</td>\n",
       "      <td>0.221831</td>\n",
       "      <td>0</td>\n",
       "      <td>0</td>\n",
       "      <td>62.00</td>\n",
       "      <td>0</td>\n",
       "      <td>0</td>\n",
       "      <td>0</td>\n",
       "      <td>0</td>\n",
       "      <td>0</td>\n",
       "      <td>0</td>\n",
       "      <td>1</td>\n",
       "      <td>0</td>\n",
       "      <td>0</td>\n",
       "      <td>0</td>\n",
       "      <td>0</td>\n",
       "      <td>1</td>\n",
       "      <td>0</td>\n",
       "      <td>0</td>\n",
       "      <td>0</td>\n",
       "      <td>0</td>\n",
       "      <td>1</td>\n",
       "    </tr>\n",
       "    <tr>\n",
       "      <th>58903</th>\n",
       "      <td>0</td>\n",
       "      <td>10</td>\n",
       "      <td>6</td>\n",
       "      <td>0</td>\n",
       "      <td>1</td>\n",
       "      <td>2</td>\n",
       "      <td>2</td>\n",
       "      <td>0</td>\n",
       "      <td>-0.882612</td>\n",
       "      <td>0</td>\n",
       "      <td>0</td>\n",
       "      <td>0</td>\n",
       "      <td>-0.218601</td>\n",
       "      <td>0</td>\n",
       "      <td>0</td>\n",
       "      <td>216.00</td>\n",
       "      <td>0</td>\n",
       "      <td>0</td>\n",
       "      <td>0</td>\n",
       "      <td>0</td>\n",
       "      <td>0</td>\n",
       "      <td>0</td>\n",
       "      <td>1</td>\n",
       "      <td>0</td>\n",
       "      <td>0</td>\n",
       "      <td>0</td>\n",
       "      <td>0</td>\n",
       "      <td>0</td>\n",
       "      <td>0</td>\n",
       "      <td>1</td>\n",
       "      <td>0</td>\n",
       "      <td>0</td>\n",
       "      <td>1</td>\n",
       "    </tr>\n",
       "    <tr>\n",
       "      <th>49997</th>\n",
       "      <td>106</td>\n",
       "      <td>5</td>\n",
       "      <td>29</td>\n",
       "      <td>2</td>\n",
       "      <td>1</td>\n",
       "      <td>2</td>\n",
       "      <td>0</td>\n",
       "      <td>0</td>\n",
       "      <td>-1.239021</td>\n",
       "      <td>0</td>\n",
       "      <td>0</td>\n",
       "      <td>0</td>\n",
       "      <td>0.221831</td>\n",
       "      <td>0</td>\n",
       "      <td>0</td>\n",
       "      <td>80.75</td>\n",
       "      <td>0</td>\n",
       "      <td>1</td>\n",
       "      <td>0</td>\n",
       "      <td>0</td>\n",
       "      <td>0</td>\n",
       "      <td>0</td>\n",
       "      <td>0</td>\n",
       "      <td>1</td>\n",
       "      <td>0</td>\n",
       "      <td>0</td>\n",
       "      <td>0</td>\n",
       "      <td>0</td>\n",
       "      <td>1</td>\n",
       "      <td>0</td>\n",
       "      <td>0</td>\n",
       "      <td>0</td>\n",
       "      <td>1</td>\n",
       "    </tr>\n",
       "    <tr>\n",
       "      <th>51498</th>\n",
       "      <td>35</td>\n",
       "      <td>6</td>\n",
       "      <td>21</td>\n",
       "      <td>0</td>\n",
       "      <td>2</td>\n",
       "      <td>1</td>\n",
       "      <td>0</td>\n",
       "      <td>0</td>\n",
       "      <td>0.990232</td>\n",
       "      <td>0</td>\n",
       "      <td>0</td>\n",
       "      <td>0</td>\n",
       "      <td>-0.778220</td>\n",
       "      <td>1</td>\n",
       "      <td>0</td>\n",
       "      <td>107.10</td>\n",
       "      <td>0</td>\n",
       "      <td>1</td>\n",
       "      <td>0</td>\n",
       "      <td>0</td>\n",
       "      <td>0</td>\n",
       "      <td>0</td>\n",
       "      <td>1</td>\n",
       "      <td>0</td>\n",
       "      <td>0</td>\n",
       "      <td>0</td>\n",
       "      <td>0</td>\n",
       "      <td>0</td>\n",
       "      <td>0</td>\n",
       "      <td>1</td>\n",
       "      <td>0</td>\n",
       "      <td>0</td>\n",
       "      <td>1</td>\n",
       "    </tr>\n",
       "    <tr>\n",
       "      <th>37112</th>\n",
       "      <td>344</td>\n",
       "      <td>9</td>\n",
       "      <td>26</td>\n",
       "      <td>0</td>\n",
       "      <td>1</td>\n",
       "      <td>1</td>\n",
       "      <td>0</td>\n",
       "      <td>0</td>\n",
       "      <td>0.990232</td>\n",
       "      <td>0</td>\n",
       "      <td>1</td>\n",
       "      <td>0</td>\n",
       "      <td>0.221831</td>\n",
       "      <td>1</td>\n",
       "      <td>0</td>\n",
       "      <td>170.00</td>\n",
       "      <td>0</td>\n",
       "      <td>0</td>\n",
       "      <td>0</td>\n",
       "      <td>0</td>\n",
       "      <td>0</td>\n",
       "      <td>0</td>\n",
       "      <td>1</td>\n",
       "      <td>0</td>\n",
       "      <td>0</td>\n",
       "      <td>0</td>\n",
       "      <td>0</td>\n",
       "      <td>1</td>\n",
       "      <td>0</td>\n",
       "      <td>0</td>\n",
       "      <td>0</td>\n",
       "      <td>0</td>\n",
       "      <td>1</td>\n",
       "    </tr>\n",
       "  </tbody>\n",
       "</table>\n",
       "</div>"
      ],
      "text/plain": [
       "       lead_time  arrival_date_month  arrival_date_day_of_month  \\\n",
       "36434        414                  12                          5   \n",
       "58903          0                  10                          6   \n",
       "49997        106                   5                         29   \n",
       "51498         35                   6                         21   \n",
       "37112        344                   9                         26   \n",
       "\n",
       "       stays_in_weekend_nights  stays_in_week_nights  adults  children  \\\n",
       "36434                        2                     1       2         0   \n",
       "58903                        0                     1       2         2   \n",
       "49997                        2                     1       2         0   \n",
       "51498                        0                     2       1         0   \n",
       "37112                        0                     1       1         0   \n",
       "\n",
       "       babies   country  is_repeated_guest  previous_cancellations  \\\n",
       "36434       0  0.990232                  0                       1   \n",
       "58903       0 -0.882612                  0                       0   \n",
       "49997       0 -1.239021                  0                       0   \n",
       "51498       0  0.990232                  0                       0   \n",
       "37112       0  0.990232                  0                       1   \n",
       "\n",
       "       previous_bookings_not_canceled  assigned_room_type  booking_changes  \\\n",
       "36434                               0            0.221831                0   \n",
       "58903                               0           -0.218601                0   \n",
       "49997                               0            0.221831                0   \n",
       "51498                               0           -0.778220                1   \n",
       "37112                               0            0.221831                1   \n",
       "\n",
       "       days_in_waiting_list     adr  required_car_parking_spaces  \\\n",
       "36434                     0   62.00                            0   \n",
       "58903                     0  216.00                            0   \n",
       "49997                     0   80.75                            0   \n",
       "51498                     0  107.10                            0   \n",
       "37112                     0  170.00                            0   \n",
       "\n",
       "       total_of_special_requests  meal_FB  meal_HB  meal_SC  customer_Group  \\\n",
       "36434                          0        0        0        0               0   \n",
       "58903                          0        0        0        0               0   \n",
       "49997                          1        0        0        0               0   \n",
       "51498                          1        0        0        0               0   \n",
       "37112                          0        0        0        0               0   \n",
       "\n",
       "       customer_Transient  customer_Transient-Party  \\\n",
       "36434                   1                         0   \n",
       "58903                   1                         0   \n",
       "49997                   0                         1   \n",
       "51498                   1                         0   \n",
       "37112                   1                         0   \n",
       "\n",
       "       market_segment_Complementary  market_segment_Corporate  \\\n",
       "36434                             0                         0   \n",
       "58903                             0                         0   \n",
       "49997                             0                         0   \n",
       "51498                             0                         0   \n",
       "37112                             0                         0   \n",
       "\n",
       "       market_segment_Direct  market_segment_Groups  \\\n",
       "36434                      0                      1   \n",
       "58903                      0                      0   \n",
       "49997                      0                      0   \n",
       "51498                      0                      0   \n",
       "37112                      0                      1   \n",
       "\n",
       "       market_segment_Offline TA/TO  market_segment_Online TA  \\\n",
       "36434                             0                         0   \n",
       "58903                             0                         1   \n",
       "49997                             1                         0   \n",
       "51498                             0                         1   \n",
       "37112                             0                         0   \n",
       "\n",
       "       distribution_channel_Direct  distribution_channel_GDS  \\\n",
       "36434                            0                         0   \n",
       "58903                            0                         0   \n",
       "49997                            0                         0   \n",
       "51498                            0                         0   \n",
       "37112                            0                         0   \n",
       "\n",
       "       distribution_channel_TA/TO  \n",
       "36434                           1  \n",
       "58903                           1  \n",
       "49997                           1  \n",
       "51498                           1  \n",
       "37112                           1  "
      ]
     },
     "execution_count": 19,
     "metadata": {},
     "output_type": "execute_result"
    }
   ],
   "source": [
    "print(X_test.shape)\n",
    "X_test.head()"
   ]
  },
  {
   "cell_type": "code",
   "execution_count": 24,
   "metadata": {},
   "outputs": [],
   "source": [
    "#X_test.to_csv('../src:data/src:data:processed/X_test.csv', encoding='utf-8')"
   ]
  },
  {
   "cell_type": "code",
   "execution_count": 20,
   "metadata": {},
   "outputs": [
    {
     "name": "stdout",
     "output_type": "stream",
     "text": [
      "(14852, 33)\n"
     ]
    },
    {
     "data": {
      "text/plain": [
       "36434    1\n",
       "58903    0\n",
       "49997    0\n",
       "51498    0\n",
       "37112    1\n",
       "Name: is_canceled, dtype: int64"
      ]
     },
     "execution_count": 20,
     "metadata": {},
     "output_type": "execute_result"
    }
   ],
   "source": [
    "print(X_test.shape)\n",
    "y_test.head()"
   ]
  },
  {
   "cell_type": "code",
   "execution_count": 26,
   "metadata": {},
   "outputs": [],
   "source": [
    "#y_test.to_csv('../src:data/src:data:processed/y_test.csv', encoding='utf-8')"
   ]
  },
  {
   "cell_type": "markdown",
   "metadata": {},
   "source": [
    "----"
   ]
  }
 ],
 "metadata": {
  "kernelspec": {
   "display_name": "Python 3.7.4 64-bit",
   "language": "python",
   "name": "python3"
  },
  "language_info": {
   "codemirror_mode": {
    "name": "ipython",
    "version": 3
   },
   "file_extension": ".py",
   "mimetype": "text/x-python",
   "name": "python",
   "nbconvert_exporter": "python",
   "pygments_lexer": "ipython3",
   "version": "3.7.4"
  },
  "orig_nbformat": 4,
  "vscode": {
   "interpreter": {
    "hash": "aee8b7b246df8f9039afb4144a1f6fd8d2ca17a180786b69acc140d282b71a49"
   }
  }
 },
 "nbformat": 4,
 "nbformat_minor": 2
}
